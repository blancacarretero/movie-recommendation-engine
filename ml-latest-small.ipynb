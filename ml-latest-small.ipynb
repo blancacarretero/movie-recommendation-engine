{
 "cells": [
  {
   "cell_type": "code",
   "execution_count": 1,
   "id": "91d8558e",
   "metadata": {},
   "outputs": [],
   "source": [
    "import os\n",
    "import pandas as pd\n",
    "import matplotlib.pyplot as plt\n",
    "from sklearn.cluster import KMeans"
   ]
  },
  {
   "cell_type": "code",
   "execution_count": 2,
   "id": "0c2ff874",
   "metadata": {},
   "outputs": [],
   "source": [
    "# ml-latest-small dataset from https://grouplens.org/datasets/movielens/latest/\n",
    "csv1 = os.path.join('movie_data', 'ml-latest-small', 'movies.csv')\n",
    "csv2 = os.path.join('movie_data', 'ml-latest-small', 'ratings.csv')"
   ]
  },
  {
   "cell_type": "code",
   "execution_count": 3,
   "id": "c8bb12a2",
   "metadata": {},
   "outputs": [],
   "source": [
    "movies_df = pd.read_csv(csv1)\n",
    "ratings_df = pd.read_csv(csv2)"
   ]
  },
  {
   "cell_type": "code",
   "execution_count": 4,
   "id": "3cf4ec2e",
   "metadata": {},
   "outputs": [
    {
     "data": {
      "text/html": [
       "<div>\n",
       "<style scoped>\n",
       "    .dataframe tbody tr th:only-of-type {\n",
       "        vertical-align: middle;\n",
       "    }\n",
       "\n",
       "    .dataframe tbody tr th {\n",
       "        vertical-align: top;\n",
       "    }\n",
       "\n",
       "    .dataframe thead th {\n",
       "        text-align: right;\n",
       "    }\n",
       "</style>\n",
       "<table border=\"1\" class=\"dataframe\">\n",
       "  <thead>\n",
       "    <tr style=\"text-align: right;\">\n",
       "      <th></th>\n",
       "      <th>movieId</th>\n",
       "      <th>title</th>\n",
       "      <th>genres</th>\n",
       "    </tr>\n",
       "  </thead>\n",
       "  <tbody>\n",
       "    <tr>\n",
       "      <th>0</th>\n",
       "      <td>1</td>\n",
       "      <td>Toy Story (1995)</td>\n",
       "      <td>Adventure|Animation|Children|Comedy|Fantasy</td>\n",
       "    </tr>\n",
       "    <tr>\n",
       "      <th>1</th>\n",
       "      <td>2</td>\n",
       "      <td>Jumanji (1995)</td>\n",
       "      <td>Adventure|Children|Fantasy</td>\n",
       "    </tr>\n",
       "    <tr>\n",
       "      <th>2</th>\n",
       "      <td>3</td>\n",
       "      <td>Grumpier Old Men (1995)</td>\n",
       "      <td>Comedy|Romance</td>\n",
       "    </tr>\n",
       "    <tr>\n",
       "      <th>3</th>\n",
       "      <td>4</td>\n",
       "      <td>Waiting to Exhale (1995)</td>\n",
       "      <td>Comedy|Drama|Romance</td>\n",
       "    </tr>\n",
       "    <tr>\n",
       "      <th>4</th>\n",
       "      <td>5</td>\n",
       "      <td>Father of the Bride Part II (1995)</td>\n",
       "      <td>Comedy</td>\n",
       "    </tr>\n",
       "  </tbody>\n",
       "</table>\n",
       "</div>"
      ],
      "text/plain": [
       "   movieId                               title  \\\n",
       "0        1                    Toy Story (1995)   \n",
       "1        2                      Jumanji (1995)   \n",
       "2        3             Grumpier Old Men (1995)   \n",
       "3        4            Waiting to Exhale (1995)   \n",
       "4        5  Father of the Bride Part II (1995)   \n",
       "\n",
       "                                        genres  \n",
       "0  Adventure|Animation|Children|Comedy|Fantasy  \n",
       "1                   Adventure|Children|Fantasy  \n",
       "2                               Comedy|Romance  \n",
       "3                         Comedy|Drama|Romance  \n",
       "4                                       Comedy  "
      ]
     },
     "execution_count": 4,
     "metadata": {},
     "output_type": "execute_result"
    }
   ],
   "source": [
    "movies_df.head()"
   ]
  },
  {
   "cell_type": "code",
   "execution_count": 5,
   "id": "e46b9688",
   "metadata": {},
   "outputs": [
    {
     "data": {
      "text/html": [
       "<div>\n",
       "<style scoped>\n",
       "    .dataframe tbody tr th:only-of-type {\n",
       "        vertical-align: middle;\n",
       "    }\n",
       "\n",
       "    .dataframe tbody tr th {\n",
       "        vertical-align: top;\n",
       "    }\n",
       "\n",
       "    .dataframe thead th {\n",
       "        text-align: right;\n",
       "    }\n",
       "</style>\n",
       "<table border=\"1\" class=\"dataframe\">\n",
       "  <thead>\n",
       "    <tr style=\"text-align: right;\">\n",
       "      <th></th>\n",
       "      <th>userId</th>\n",
       "      <th>movieId</th>\n",
       "      <th>rating</th>\n",
       "      <th>timestamp</th>\n",
       "    </tr>\n",
       "  </thead>\n",
       "  <tbody>\n",
       "    <tr>\n",
       "      <th>0</th>\n",
       "      <td>1</td>\n",
       "      <td>1</td>\n",
       "      <td>4.0</td>\n",
       "      <td>964982703</td>\n",
       "    </tr>\n",
       "    <tr>\n",
       "      <th>1</th>\n",
       "      <td>1</td>\n",
       "      <td>3</td>\n",
       "      <td>4.0</td>\n",
       "      <td>964981247</td>\n",
       "    </tr>\n",
       "    <tr>\n",
       "      <th>2</th>\n",
       "      <td>1</td>\n",
       "      <td>6</td>\n",
       "      <td>4.0</td>\n",
       "      <td>964982224</td>\n",
       "    </tr>\n",
       "    <tr>\n",
       "      <th>3</th>\n",
       "      <td>1</td>\n",
       "      <td>47</td>\n",
       "      <td>5.0</td>\n",
       "      <td>964983815</td>\n",
       "    </tr>\n",
       "    <tr>\n",
       "      <th>4</th>\n",
       "      <td>1</td>\n",
       "      <td>50</td>\n",
       "      <td>5.0</td>\n",
       "      <td>964982931</td>\n",
       "    </tr>\n",
       "  </tbody>\n",
       "</table>\n",
       "</div>"
      ],
      "text/plain": [
       "   userId  movieId  rating  timestamp\n",
       "0       1        1     4.0  964982703\n",
       "1       1        3     4.0  964981247\n",
       "2       1        6     4.0  964982224\n",
       "3       1       47     5.0  964983815\n",
       "4       1       50     5.0  964982931"
      ]
     },
     "execution_count": 5,
     "metadata": {},
     "output_type": "execute_result"
    }
   ],
   "source": [
    "ratings_df.head()"
   ]
  },
  {
   "cell_type": "code",
   "execution_count": 6,
   "id": "a0e98984",
   "metadata": {},
   "outputs": [],
   "source": [
    "action_df = movies_df[movies_df['genres'].str.contains('Action')]"
   ]
  },
  {
   "cell_type": "code",
   "execution_count": 7,
   "id": "8703544a",
   "metadata": {},
   "outputs": [
    {
     "data": {
      "text/plain": [
       "userId\n",
       "1      4.322222\n",
       "2      3.954545\n",
       "3      3.571429\n",
       "4      3.320000\n",
       "5      3.111111\n",
       "         ...   \n",
       "606    3.178808\n",
       "607    3.722222\n",
       "608    3.330325\n",
       "609    3.090909\n",
       "610    3.600580\n",
       "Name: rating, Length: 608, dtype: float64"
      ]
     },
     "execution_count": 7,
     "metadata": {},
     "output_type": "execute_result"
    }
   ],
   "source": [
    "ratings_df[ratings_df['movieId'].isin(action_df['movieId'])]\\\n",
    "    .loc[:, ['userId','rating']].groupby(['userId'])['rating'].mean()"
   ]
  },
  {
   "cell_type": "code",
   "execution_count": 8,
   "id": "c22bad20",
   "metadata": {},
   "outputs": [],
   "source": [
    "def get_genre_ratings(genres):\n",
    "    genre_ratings = pd.DataFrame()\n",
    "    column_names = []\n",
    "    for genre in genres:        \n",
    "        genre_movies = movies_df[movies_df['genres'].str.contains(genre) ]\n",
    "        avg_genre_votes_per_user = ratings_df[ratings_df['movieId'].isin(genre_movies['movieId'])]\\\n",
    "            .loc[:, ['userId', 'rating']].groupby(['userId'])['rating'].mean().round(2)\n",
    "        \n",
    "        genre_ratings = pd.concat([genre_ratings, avg_genre_votes_per_user], axis=1)\n",
    "        column = f'avg_{genre.lower()}_rating'\n",
    "        column_names.append(column)\n",
    "    genre_ratings.columns = column_names\n",
    "    return genre_ratings"
   ]
  },
  {
   "cell_type": "code",
   "execution_count": 9,
   "id": "61ad2020",
   "metadata": {
    "scrolled": true
   },
   "outputs": [
    {
     "data": {
      "text/html": [
       "<div>\n",
       "<style scoped>\n",
       "    .dataframe tbody tr th:only-of-type {\n",
       "        vertical-align: middle;\n",
       "    }\n",
       "\n",
       "    .dataframe tbody tr th {\n",
       "        vertical-align: top;\n",
       "    }\n",
       "\n",
       "    .dataframe thead th {\n",
       "        text-align: right;\n",
       "    }\n",
       "</style>\n",
       "<table border=\"1\" class=\"dataframe\">\n",
       "  <thead>\n",
       "    <tr style=\"text-align: right;\">\n",
       "      <th></th>\n",
       "      <th>avg_drama_rating</th>\n",
       "      <th>avg_romance_rating</th>\n",
       "    </tr>\n",
       "  </thead>\n",
       "  <tbody>\n",
       "    <tr>\n",
       "      <th>1</th>\n",
       "      <td>4.53</td>\n",
       "      <td>4.31</td>\n",
       "    </tr>\n",
       "    <tr>\n",
       "      <th>2</th>\n",
       "      <td>3.88</td>\n",
       "      <td>4.50</td>\n",
       "    </tr>\n",
       "    <tr>\n",
       "      <th>3</th>\n",
       "      <td>0.75</td>\n",
       "      <td>0.50</td>\n",
       "    </tr>\n",
       "    <tr>\n",
       "      <th>4</th>\n",
       "      <td>3.48</td>\n",
       "      <td>3.38</td>\n",
       "    </tr>\n",
       "    <tr>\n",
       "      <th>5</th>\n",
       "      <td>3.80</td>\n",
       "      <td>3.09</td>\n",
       "    </tr>\n",
       "  </tbody>\n",
       "</table>\n",
       "</div>"
      ],
      "text/plain": [
       "   avg_drama_rating  avg_romance_rating\n",
       "1              4.53                4.31\n",
       "2              3.88                4.50\n",
       "3              0.75                0.50\n",
       "4              3.48                3.38\n",
       "5              3.80                3.09"
      ]
     },
     "execution_count": 9,
     "metadata": {},
     "output_type": "execute_result"
    }
   ],
   "source": [
    "genre_ratings_df = get_genre_ratings(['Drama', 'Romance'])\n",
    "genre_ratings_df.head()"
   ]
  },
  {
   "cell_type": "code",
   "execution_count": 10,
   "id": "6c590dcf",
   "metadata": {},
   "outputs": [],
   "source": [
    "# biasing our dataset to attempt to remove userIds that like BOTH genres equally\n",
    "bias_df = genre_ratings_df[((genre_ratings_df['avg_romance_rating'] < 3.5) & (genre_ratings_df['avg_drama_rating'] > 2.5)) \\\n",
    "                           | ((genre_ratings_df['avg_drama_rating'] < 3.5) & (genre_ratings_df['avg_romance_rating'] > 2.5))]"
   ]
  },
  {
   "cell_type": "code",
   "execution_count": 11,
   "id": "b57737fe",
   "metadata": {},
   "outputs": [
    {
     "name": "stdout",
     "output_type": "stream",
     "text": [
      "238\n"
     ]
    },
    {
     "data": {
      "text/html": [
       "<div>\n",
       "<style scoped>\n",
       "    .dataframe tbody tr th:only-of-type {\n",
       "        vertical-align: middle;\n",
       "    }\n",
       "\n",
       "    .dataframe tbody tr th {\n",
       "        vertical-align: top;\n",
       "    }\n",
       "\n",
       "    .dataframe thead th {\n",
       "        text-align: right;\n",
       "    }\n",
       "</style>\n",
       "<table border=\"1\" class=\"dataframe\">\n",
       "  <thead>\n",
       "    <tr style=\"text-align: right;\">\n",
       "      <th></th>\n",
       "      <th>index</th>\n",
       "      <th>avg_drama_rating</th>\n",
       "      <th>avg_romance_rating</th>\n",
       "    </tr>\n",
       "  </thead>\n",
       "  <tbody>\n",
       "    <tr>\n",
       "      <th>0</th>\n",
       "      <td>4</td>\n",
       "      <td>3.48</td>\n",
       "      <td>3.38</td>\n",
       "    </tr>\n",
       "    <tr>\n",
       "      <th>1</th>\n",
       "      <td>5</td>\n",
       "      <td>3.80</td>\n",
       "      <td>3.09</td>\n",
       "    </tr>\n",
       "    <tr>\n",
       "      <th>2</th>\n",
       "      <td>7</td>\n",
       "      <td>3.13</td>\n",
       "      <td>2.65</td>\n",
       "    </tr>\n",
       "    <tr>\n",
       "      <th>3</th>\n",
       "      <td>9</td>\n",
       "      <td>3.43</td>\n",
       "      <td>3.17</td>\n",
       "    </tr>\n",
       "    <tr>\n",
       "      <th>4</th>\n",
       "      <td>10</td>\n",
       "      <td>3.15</td>\n",
       "      <td>3.33</td>\n",
       "    </tr>\n",
       "  </tbody>\n",
       "</table>\n",
       "</div>"
      ],
      "text/plain": [
       "   index  avg_drama_rating  avg_romance_rating\n",
       "0      4              3.48                3.38\n",
       "1      5              3.80                3.09\n",
       "2      7              3.13                2.65\n",
       "3      9              3.43                3.17\n",
       "4     10              3.15                3.33"
      ]
     },
     "execution_count": 11,
     "metadata": {},
     "output_type": "execute_result"
    }
   ],
   "source": [
    "bias_df = pd.concat([bias_df, genre_ratings_df])\n",
    "bias_df = pd.DataFrame(bias_df.to_records())\n",
    "print(len(bias_df))\n",
    "bias_df.head()"
   ]
  },
  {
   "cell_type": "code",
   "execution_count": 12,
   "id": "fcd5b726",
   "metadata": {},
   "outputs": [
    {
     "data": {
      "text/plain": [
       "<matplotlib.collections.PathCollection at 0x7f9fb481e1c0>"
      ]
     },
     "execution_count": 12,
     "metadata": {},
     "output_type": "execute_result"
    },
    {
     "data": {
      "image/png": "[encoded data removed]",
      "text/plain": [
       "<Figure size 432x432 with 1 Axes>"
      ]
     },
     "metadata": {
      "needs_background": "light"
     },
     "output_type": "display_data"
    }
   ],
   "source": [
    "fig = plt.figure(figsize=(6,6))\n",
    "ax = fig.add_subplot(111)\n",
    "\n",
    "plt.xlim(0,5)\n",
    "plt.ylim(0,5)\n",
    "ax.set_xlabel('Average Drama Rating')\n",
    "ax.set_ylabel('Average Romance Rating')\n",
    "ax.scatter(bias_df['avg_drama_rating'], bias_df['avg_romance_rating'])"
   ]
  },
  {
   "cell_type": "code",
   "execution_count": 13,
   "id": "f3286ba8",
   "metadata": {},
   "outputs": [],
   "source": [
    "# convert values to list for processing\n",
    "X = bias_df[['avg_drama_rating','avg_romance_rating']].values"
   ]
  },
  {
   "cell_type": "code",
   "execution_count": 14,
   "id": "8a0b7739",
   "metadata": {},
   "outputs": [
    {
     "data": {
      "image/png": "[encoded data removed]",
      "text/plain": [
       "<Figure size 432x288 with 1 Axes>"
      ]
     },
     "metadata": {
      "needs_background": "light"
     },
     "output_type": "display_data"
    }
   ],
   "source": [
    "# eblow plot to determine clustering\n",
    "inertia = []\n",
    "k = list(range(1,11))\n",
    "\n",
    "# for-loop for elbow plot\n",
    "for i in k:\n",
    "    km = KMeans(n_clusters=i, random_state=0)\n",
    "    km.fit(X)\n",
    "    inertia.append(km.inertia_)\n",
    "elbow = {\"k\": k, \"inertia\": inertia}\n",
    "elbow_df = pd.DataFrame(elbow)\n",
    "\n",
    "# plot elbow data\n",
    "plt.plot(elbow_df['k'], elbow_df['inertia'])\n",
    "plt.xticks(k)\n",
    "plt.xlabel('# Clusters')\n",
    "plt.ylabel('Inertia')\n",
    "plt.show()"
   ]
  },
  {
   "cell_type": "code",
   "execution_count": 52,
   "id": "dcb169db",
   "metadata": {},
   "outputs": [],
   "source": [
    "def k_means(n_clusters):\n",
    "    kmeans = KMeans(n_clusters=n_clusters)\n",
    "\n",
    "    predict = kmeans.fit_predict(X)\n",
    "\n",
    "    fig = plt.figure(figsize=(8,8))\n",
    "    ax = fig.add_subplot(111)\n",
    "    plt.xlim(0, 5)\n",
    "    plt.ylim(0, 5)\n",
    "    ax.set_xlabel('Avg drama rating')\n",
    "    ax.set_ylabel('Avg romance rating')\n",
    "\n",
    "    clustered = pd.concat([bias_df.reset_index(), pd.DataFrame({'group':predict})], axis=1)\n",
    "    plt.scatter(clustered['avg_drama_rating'], clustered['avg_romance_rating'], c=clustered['group'])"
   ]
  },
  {
   "cell_type": "code",
   "execution_count": 53,
   "id": "73065242",
   "metadata": {},
   "outputs": [
    {
     "data": {
      "image/png": "[encoded data removed]",
      "text/plain": [
       "<Figure size 576x576 with 1 Axes>"
      ]
     },
     "metadata": {
      "needs_background": "light"
     },
     "output_type": "display_data"
    }
   ],
   "source": [
    "# K-Means with 3 clusters\n",
    "k_means(3)"
   ]
  },
  {
   "cell_type": "code",
   "execution_count": 54,
   "id": "7abf79bb",
   "metadata": {
    "scrolled": true
   },
   "outputs": [
    {
     "data": {
      "image/png": "[encoded data removed]",
      "text/plain": [
       "<Figure size 576x576 with 1 Axes>"
      ]
     },
     "metadata": {
      "needs_background": "light"
     },
     "output_type": "display_data"
    }
   ],
   "source": [
    "k_means(4)"
   ]
  },
  {
   "cell_type": "code",
   "execution_count": 60,
   "id": "ec4f13f2",
   "metadata": {},
   "outputs": [
    {
     "data": {
      "image/png": "[encoded data removed]",
      "text/plain": [
       "<Figure size 576x576 with 1 Axes>"
      ]
     },
     "metadata": {
      "needs_background": "light"
     },
     "output_type": "display_data"
    }
   ],
   "source": [
    "k_means(4)"
   ]
  },
  {
   "cell_type": "code",
   "execution_count": 106,
   "id": "ef32488e",
   "metadata": {},
   "outputs": [],
   "source": [
    "top_genre_ratings = get_genre_ratings(['Film-Noir', 'War', 'Documentary', 'Crime', 'Drama', 'Mystery'])\n",
    "columns = top_genre_ratings.columns"
   ]
  },
  {
   "cell_type": "code",
   "execution_count": 107,
   "id": "9bcbc754",
   "metadata": {},
   "outputs": [],
   "source": [
    "# import numpy as np\n",
    "# for column in columns:\n",
    "#     top_genre_ratings[column] = np.where(top_genre_ratings[column] >= 3.5, 1, 0)"
   ]
  },
  {
   "cell_type": "code",
   "execution_count": 108,
   "id": "a1dc17b0",
   "metadata": {},
   "outputs": [
    {
     "data": {
      "text/html": [
       "<div>\n",
       "<style scoped>\n",
       "    .dataframe tbody tr th:only-of-type {\n",
       "        vertical-align: middle;\n",
       "    }\n",
       "\n",
       "    .dataframe tbody tr th {\n",
       "        vertical-align: top;\n",
       "    }\n",
       "\n",
       "    .dataframe thead th {\n",
       "        text-align: right;\n",
       "    }\n",
       "</style>\n",
       "<table border=\"1\" class=\"dataframe\">\n",
       "  <thead>\n",
       "    <tr style=\"text-align: right;\">\n",
       "      <th></th>\n",
       "      <th>avg_film-noir_rating</th>\n",
       "      <th>avg_war_rating</th>\n",
       "      <th>avg_documentary_rating</th>\n",
       "      <th>avg_crime_rating</th>\n",
       "      <th>avg_drama_rating</th>\n",
       "      <th>avg_mystery_rating</th>\n",
       "    </tr>\n",
       "  </thead>\n",
       "  <tbody>\n",
       "    <tr>\n",
       "      <th>1</th>\n",
       "      <td>5.0</td>\n",
       "      <td>4.50</td>\n",
       "      <td>NaN</td>\n",
       "      <td>4.36</td>\n",
       "      <td>4.53</td>\n",
       "      <td>4.17</td>\n",
       "    </tr>\n",
       "    <tr>\n",
       "      <th>2</th>\n",
       "      <td>NaN</td>\n",
       "      <td>4.50</td>\n",
       "      <td>4.33</td>\n",
       "      <td>3.80</td>\n",
       "      <td>3.88</td>\n",
       "      <td>4.00</td>\n",
       "    </tr>\n",
       "    <tr>\n",
       "      <th>3</th>\n",
       "      <td>NaN</td>\n",
       "      <td>0.50</td>\n",
       "      <td>NaN</td>\n",
       "      <td>0.50</td>\n",
       "      <td>0.75</td>\n",
       "      <td>5.00</td>\n",
       "    </tr>\n",
       "    <tr>\n",
       "      <th>4</th>\n",
       "      <td>4.0</td>\n",
       "      <td>3.57</td>\n",
       "      <td>4.00</td>\n",
       "      <td>3.81</td>\n",
       "      <td>3.48</td>\n",
       "      <td>3.48</td>\n",
       "    </tr>\n",
       "    <tr>\n",
       "      <th>5</th>\n",
       "      <td>NaN</td>\n",
       "      <td>3.33</td>\n",
       "      <td>NaN</td>\n",
       "      <td>3.83</td>\n",
       "      <td>3.80</td>\n",
       "      <td>4.00</td>\n",
       "    </tr>\n",
       "  </tbody>\n",
       "</table>\n",
       "</div>"
      ],
      "text/plain": [
       "   avg_film-noir_rating  avg_war_rating  avg_documentary_rating  \\\n",
       "1                   5.0            4.50                     NaN   \n",
       "2                   NaN            4.50                    4.33   \n",
       "3                   NaN            0.50                     NaN   \n",
       "4                   4.0            3.57                    4.00   \n",
       "5                   NaN            3.33                     NaN   \n",
       "\n",
       "   avg_crime_rating  avg_drama_rating  avg_mystery_rating  \n",
       "1              4.36              4.53                4.17  \n",
       "2              3.80              3.88                4.00  \n",
       "3              0.50              0.75                5.00  \n",
       "4              3.81              3.48                3.48  \n",
       "5              3.83              3.80                4.00  "
      ]
     },
     "execution_count": 108,
     "metadata": {},
     "output_type": "execute_result"
    }
   ],
   "source": [
    "top_genre_ratings.head()"
   ]
  },
  {
   "cell_type": "code",
   "execution_count": 110,
   "id": "86699809",
   "metadata": {},
   "outputs": [],
   "source": [
    "top_genre_ratings = top_genre_ratings.dropna()"
   ]
  },
  {
   "cell_type": "code",
   "execution_count": 111,
   "id": "26ca3b8f",
   "metadata": {},
   "outputs": [
    {
     "name": "stdout",
     "output_type": "stream",
     "text": [
      "147\n"
     ]
    }
   ],
   "source": [
    "print(len(top_genre_ratings))"
   ]
  },
  {
   "cell_type": "code",
   "execution_count": 112,
   "id": "785a90df",
   "metadata": {},
   "outputs": [],
   "source": [
    "labels = top_genre_ratings['avg_drama_rating']\n",
    "tgr_df = top_genre_ratings.drop('avg_drama_rating', axis=1)"
   ]
  },
  {
   "cell_type": "code",
   "execution_count": 113,
   "id": "bcd84fab",
   "metadata": {},
   "outputs": [
    {
     "name": "stdout",
     "output_type": "stream",
     "text": [
      "147\n"
     ]
    }
   ],
   "source": [
    "print(len(labels))"
   ]
  },
  {
   "cell_type": "code",
   "execution_count": 114,
   "id": "ca318c91",
   "metadata": {},
   "outputs": [
    {
     "data": {
      "text/html": [
       "<div>\n",
       "<style scoped>\n",
       "    .dataframe tbody tr th:only-of-type {\n",
       "        vertical-align: middle;\n",
       "    }\n",
       "\n",
       "    .dataframe tbody tr th {\n",
       "        vertical-align: top;\n",
       "    }\n",
       "\n",
       "    .dataframe thead th {\n",
       "        text-align: right;\n",
       "    }\n",
       "</style>\n",
       "<table border=\"1\" class=\"dataframe\">\n",
       "  <thead>\n",
       "    <tr style=\"text-align: right;\">\n",
       "      <th></th>\n",
       "      <th>avg_film-noir_rating</th>\n",
       "      <th>avg_war_rating</th>\n",
       "      <th>avg_documentary_rating</th>\n",
       "      <th>avg_crime_rating</th>\n",
       "      <th>avg_mystery_rating</th>\n",
       "    </tr>\n",
       "  </thead>\n",
       "  <tbody>\n",
       "    <tr>\n",
       "      <th>4</th>\n",
       "      <td>4.00</td>\n",
       "      <td>3.57</td>\n",
       "      <td>4.00</td>\n",
       "      <td>3.81</td>\n",
       "      <td>3.48</td>\n",
       "    </tr>\n",
       "    <tr>\n",
       "      <th>16</th>\n",
       "      <td>4.00</td>\n",
       "      <td>3.68</td>\n",
       "      <td>4.00</td>\n",
       "      <td>3.75</td>\n",
       "      <td>3.77</td>\n",
       "    </tr>\n",
       "    <tr>\n",
       "      <th>17</th>\n",
       "      <td>3.75</td>\n",
       "      <td>4.44</td>\n",
       "      <td>3.50</td>\n",
       "      <td>4.25</td>\n",
       "      <td>4.05</td>\n",
       "    </tr>\n",
       "    <tr>\n",
       "      <th>18</th>\n",
       "      <td>3.88</td>\n",
       "      <td>3.94</td>\n",
       "      <td>3.94</td>\n",
       "      <td>3.93</td>\n",
       "      <td>4.03</td>\n",
       "    </tr>\n",
       "    <tr>\n",
       "      <th>20</th>\n",
       "      <td>1.50</td>\n",
       "      <td>3.50</td>\n",
       "      <td>3.75</td>\n",
       "      <td>3.24</td>\n",
       "      <td>3.22</td>\n",
       "    </tr>\n",
       "    <tr>\n",
       "      <th>...</th>\n",
       "      <td>...</td>\n",
       "      <td>...</td>\n",
       "      <td>...</td>\n",
       "      <td>...</td>\n",
       "      <td>...</td>\n",
       "    </tr>\n",
       "    <tr>\n",
       "      <th>602</th>\n",
       "      <td>3.50</td>\n",
       "      <td>4.00</td>\n",
       "      <td>3.00</td>\n",
       "      <td>3.71</td>\n",
       "      <td>3.45</td>\n",
       "    </tr>\n",
       "    <tr>\n",
       "      <th>603</th>\n",
       "      <td>4.26</td>\n",
       "      <td>3.52</td>\n",
       "      <td>3.86</td>\n",
       "      <td>3.74</td>\n",
       "      <td>3.53</td>\n",
       "    </tr>\n",
       "    <tr>\n",
       "      <th>606</th>\n",
       "      <td>3.81</td>\n",
       "      <td>3.79</td>\n",
       "      <td>3.80</td>\n",
       "      <td>3.65</td>\n",
       "      <td>3.79</td>\n",
       "    </tr>\n",
       "    <tr>\n",
       "      <th>608</th>\n",
       "      <td>3.75</td>\n",
       "      <td>3.58</td>\n",
       "      <td>3.00</td>\n",
       "      <td>3.61</td>\n",
       "      <td>3.55</td>\n",
       "    </tr>\n",
       "    <tr>\n",
       "      <th>610</th>\n",
       "      <td>4.35</td>\n",
       "      <td>3.78</td>\n",
       "      <td>4.20</td>\n",
       "      <td>3.80</td>\n",
       "      <td>3.77</td>\n",
       "    </tr>\n",
       "  </tbody>\n",
       "</table>\n",
       "<p>147 rows × 5 columns</p>\n",
       "</div>"
      ],
      "text/plain": [
       "     avg_film-noir_rating  avg_war_rating  avg_documentary_rating  \\\n",
       "4                    4.00            3.57                    4.00   \n",
       "16                   4.00            3.68                    4.00   \n",
       "17                   3.75            4.44                    3.50   \n",
       "18                   3.88            3.94                    3.94   \n",
       "20                   1.50            3.50                    3.75   \n",
       "..                    ...             ...                     ...   \n",
       "602                  3.50            4.00                    3.00   \n",
       "603                  4.26            3.52                    3.86   \n",
       "606                  3.81            3.79                    3.80   \n",
       "608                  3.75            3.58                    3.00   \n",
       "610                  4.35            3.78                    4.20   \n",
       "\n",
       "     avg_crime_rating  avg_mystery_rating  \n",
       "4                3.81                3.48  \n",
       "16               3.75                3.77  \n",
       "17               4.25                4.05  \n",
       "18               3.93                4.03  \n",
       "20               3.24                3.22  \n",
       "..                ...                 ...  \n",
       "602              3.71                3.45  \n",
       "603              3.74                3.53  \n",
       "606              3.65                3.79  \n",
       "608              3.61                3.55  \n",
       "610              3.80                3.77  \n",
       "\n",
       "[147 rows x 5 columns]"
      ]
     },
     "execution_count": 114,
     "metadata": {},
     "output_type": "execute_result"
    }
   ],
   "source": [
    "tgr_df"
   ]
  },
  {
   "cell_type": "code",
   "execution_count": 115,
   "id": "85009501",
   "metadata": {},
   "outputs": [],
   "source": [
    "# Standardize your dataset so that columns that contain larger values do not influence the outcome more than columns with smaller values.\n",
    "from sklearn.preprocessing import StandardScaler\n",
    "\n",
    "# standardize our data using scaler\n",
    "scaler = StandardScaler()\n",
    "top_genres_scaled = scaler.fit_transform(tgr_df)"
   ]
  },
  {
   "cell_type": "code",
   "execution_count": 116,
   "id": "5bb9ff2b",
   "metadata": {},
   "outputs": [
    {
     "data": {
      "text/plain": [
       "0.9125672340663407"
      ]
     },
     "execution_count": 116,
     "metadata": {},
     "output_type": "execute_result"
    }
   ],
   "source": [
    "from sklearn.decomposition import PCA\n",
    "\n",
    "# Apply Dimensionality Reduction\n",
    "# 0.90 to preserve ~90% of explained variance\n",
    "pca = PCA(n_components=0.90)\n",
    "top_genre_pca = pca.fit_transform(top_genres_scaled)\n",
    "\n",
    "# PCA converted to dataframe\n",
    "top_genre_pca_df = pd.DataFrame(top_genre_pca)\n",
    "\n",
    "# print sum of explained variance ratio\n",
    "pca.explained_variance_ratio_.sum()"
   ]
  },
  {
   "cell_type": "code",
   "execution_count": 117,
   "id": "e466fef9",
   "metadata": {},
   "outputs": [],
   "source": [
    "from sklearn.manifold import TSNE\n",
    "\n",
    "#t-SNE model\n",
    "\n",
    "tsne = TSNE(learning_rate=35)\n",
    "tsne_features = tsne.fit_transform(top_genre_pca_df)"
   ]
  },
  {
   "cell_type": "code",
   "execution_count": 118,
   "id": "fca7a262",
   "metadata": {},
   "outputs": [
    {
     "data": {
      "text/plain": [
       "(147, 2)"
      ]
     },
     "execution_count": 118,
     "metadata": {},
     "output_type": "execute_result"
    }
   ],
   "source": [
    "tsne_features.shape"
   ]
  },
  {
   "cell_type": "code",
   "execution_count": 119,
   "id": "60e58f2f",
   "metadata": {},
   "outputs": [
    {
     "data": {
      "image/png": "[encoded data removed]",
      "text/plain": [
       "<Figure size 432x288 with 1 Axes>"
      ]
     },
     "metadata": {
      "needs_background": "light"
     },
     "output_type": "display_data"
    }
   ],
   "source": [
    "plt.scatter(tsne_features[:,0],tsne_features[:,1], c=labels)\n",
    "plt.show()"
   ]
  },
  {
   "cell_type": "code",
   "execution_count": null,
   "id": "9b9a69cc",
   "metadata": {},
   "outputs": [],
   "source": []
  }
 ],
 "metadata": {
  "kernelspec": {
   "display_name": "Python 3 (ipykernel)",
   "language": "python",
   "name": "python3"
  },
  "language_info": {
   "codemirror_mode": {
    "name": "ipython",
    "version": 3
   },
   "file_extension": ".py",
   "mimetype": "text/x-python",
   "name": "python",
   "nbconvert_exporter": "python",
   "pygments_lexer": "ipython3",
   "version": "3.9.7"
  }
 },
 "nbformat": 4,
 "nbformat_minor": 5
}
