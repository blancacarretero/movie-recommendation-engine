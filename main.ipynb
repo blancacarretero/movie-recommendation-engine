{
 "cells": [
  {
   "cell_type": "code",
   "execution_count": 1,
   "id": "3095fb72",
   "metadata": {},
   "outputs": [],
   "source": [
    "import numpy as np\n",
    "import pandas as pd\n",
    "import matplotlib.pyplot as plt\n",
    "from sklearn.model_selection import train_test_split\n",
    "from sklearn.linear_model import LogisticRegression"
   ]
  },
  {
   "cell_type": "code",
   "execution_count": 2,
   "id": "fbdc80d3",
   "metadata": {},
   "outputs": [],
   "source": [
    "csv1 = \"movie_data/movies.csv\"\n",
    "csv2 = \"movie_data/ratings.csv\"\n",
    "csv3 = \"movie_data/genome-scores.csv\"\n",
    "csv4 = \"movie_data/genome-tags.csv\"\n",
    "csv5 = \"movie_data/links.csv\"\n",
    "csv6 = \"movie_data/tags.csv\""
   ]
  },
  {
   "cell_type": "code",
   "execution_count": 3,
   "id": "e7f53eca",
   "metadata": {},
   "outputs": [],
   "source": [
    "movies_df = pd.read_csv(csv1)\n",
    "ratings_df = pd.read_csv(csv2)\n",
    "genome_scores_df = pd.read_csv(csv3)\n",
    "genome_tags_df = pd.read_csv(csv4)\n",
    "links_df = pd.read_csv(csv5)\n",
    "tags_df = pd.read_csv(csv6)"
   ]
  },
  {
   "cell_type": "code",
   "execution_count": 4,
   "id": "c5ec3b14",
   "metadata": {},
   "outputs": [
    {
     "name": "stdout",
     "output_type": "stream",
     "text": [
      "62423 movies\n",
      "25000095 ratings\n"
     ]
    }
   ],
   "source": [
    "print(f'{len(movies_df)} movies')\n",
    "print(f'{len(ratings_df)} ratings')"
   ]
  },
  {
   "cell_type": "code",
   "execution_count": 5,
   "id": "56ebd334",
   "metadata": {
    "scrolled": true
   },
   "outputs": [
    {
     "data": {
      "text/html": [
       "<div>\n",
       "<style scoped>\n",
       "    .dataframe tbody tr th:only-of-type {\n",
       "        vertical-align: middle;\n",
       "    }\n",
       "\n",
       "    .dataframe tbody tr th {\n",
       "        vertical-align: top;\n",
       "    }\n",
       "\n",
       "    .dataframe thead th {\n",
       "        text-align: right;\n",
       "    }\n",
       "</style>\n",
       "<table border=\"1\" class=\"dataframe\">\n",
       "  <thead>\n",
       "    <tr style=\"text-align: right;\">\n",
       "      <th></th>\n",
       "      <th>userId</th>\n",
       "      <th>movieId</th>\n",
       "      <th>rating</th>\n",
       "      <th>timestamp</th>\n",
       "    </tr>\n",
       "  </thead>\n",
       "  <tbody>\n",
       "    <tr>\n",
       "      <th>0</th>\n",
       "      <td>1</td>\n",
       "      <td>296</td>\n",
       "      <td>5.0</td>\n",
       "      <td>1147880044</td>\n",
       "    </tr>\n",
       "    <tr>\n",
       "      <th>1</th>\n",
       "      <td>1</td>\n",
       "      <td>306</td>\n",
       "      <td>3.5</td>\n",
       "      <td>1147868817</td>\n",
       "    </tr>\n",
       "    <tr>\n",
       "      <th>2</th>\n",
       "      <td>1</td>\n",
       "      <td>307</td>\n",
       "      <td>5.0</td>\n",
       "      <td>1147868828</td>\n",
       "    </tr>\n",
       "    <tr>\n",
       "      <th>3</th>\n",
       "      <td>1</td>\n",
       "      <td>665</td>\n",
       "      <td>5.0</td>\n",
       "      <td>1147878820</td>\n",
       "    </tr>\n",
       "    <tr>\n",
       "      <th>4</th>\n",
       "      <td>1</td>\n",
       "      <td>899</td>\n",
       "      <td>3.5</td>\n",
       "      <td>1147868510</td>\n",
       "    </tr>\n",
       "  </tbody>\n",
       "</table>\n",
       "</div>"
      ],
      "text/plain": [
       "   userId  movieId  rating   timestamp\n",
       "0       1      296     5.0  1147880044\n",
       "1       1      306     3.5  1147868817\n",
       "2       1      307     5.0  1147868828\n",
       "3       1      665     5.0  1147878820\n",
       "4       1      899     3.5  1147868510"
      ]
     },
     "execution_count": 5,
     "metadata": {},
     "output_type": "execute_result"
    }
   ],
   "source": [
    "ratings_df.head()"
   ]
  },
  {
   "cell_type": "code",
   "execution_count": 6,
   "id": "48c41f26",
   "metadata": {},
   "outputs": [],
   "source": [
    "# # Number of ratings for each userId\n",
    "# ratings_df.groupby(ratings_df['userId'])['rating'].count()"
   ]
  },
  {
   "cell_type": "code",
   "execution_count": 7,
   "id": "347ebdbb",
   "metadata": {
    "scrolled": false
   },
   "outputs": [
    {
     "data": {
      "text/html": [
       "<div>\n",
       "<style scoped>\n",
       "    .dataframe tbody tr th:only-of-type {\n",
       "        vertical-align: middle;\n",
       "    }\n",
       "\n",
       "    .dataframe tbody tr th {\n",
       "        vertical-align: top;\n",
       "    }\n",
       "\n",
       "    .dataframe thead th {\n",
       "        text-align: right;\n",
       "    }\n",
       "</style>\n",
       "<table border=\"1\" class=\"dataframe\">\n",
       "  <thead>\n",
       "    <tr style=\"text-align: right;\">\n",
       "      <th></th>\n",
       "      <th>movieId</th>\n",
       "      <th>tagId</th>\n",
       "      <th>relevance</th>\n",
       "    </tr>\n",
       "  </thead>\n",
       "  <tbody>\n",
       "    <tr>\n",
       "      <th>0</th>\n",
       "      <td>1</td>\n",
       "      <td>1</td>\n",
       "      <td>0.02875</td>\n",
       "    </tr>\n",
       "    <tr>\n",
       "      <th>1</th>\n",
       "      <td>1</td>\n",
       "      <td>2</td>\n",
       "      <td>0.02375</td>\n",
       "    </tr>\n",
       "    <tr>\n",
       "      <th>2</th>\n",
       "      <td>1</td>\n",
       "      <td>3</td>\n",
       "      <td>0.06250</td>\n",
       "    </tr>\n",
       "    <tr>\n",
       "      <th>3</th>\n",
       "      <td>1</td>\n",
       "      <td>4</td>\n",
       "      <td>0.07575</td>\n",
       "    </tr>\n",
       "    <tr>\n",
       "      <th>4</th>\n",
       "      <td>1</td>\n",
       "      <td>5</td>\n",
       "      <td>0.14075</td>\n",
       "    </tr>\n",
       "  </tbody>\n",
       "</table>\n",
       "</div>"
      ],
      "text/plain": [
       "   movieId  tagId  relevance\n",
       "0        1      1    0.02875\n",
       "1        1      2    0.02375\n",
       "2        1      3    0.06250\n",
       "3        1      4    0.07575\n",
       "4        1      5    0.14075"
      ]
     },
     "execution_count": 7,
     "metadata": {},
     "output_type": "execute_result"
    }
   ],
   "source": [
    "genome_scores_df.head()"
   ]
  },
  {
   "cell_type": "code",
   "execution_count": 8,
   "id": "1aecdf55",
   "metadata": {},
   "outputs": [],
   "source": [
    "relevant_genome_scores_df = genome_scores_df.loc[genome_scores_df['relevance'] > .85]"
   ]
  },
  {
   "cell_type": "code",
   "execution_count": 9,
   "id": "9c344d28",
   "metadata": {},
   "outputs": [
    {
     "data": {
      "text/html": [
       "<div>\n",
       "<style scoped>\n",
       "    .dataframe tbody tr th:only-of-type {\n",
       "        vertical-align: middle;\n",
       "    }\n",
       "\n",
       "    .dataframe tbody tr th {\n",
       "        vertical-align: top;\n",
       "    }\n",
       "\n",
       "    .dataframe thead th {\n",
       "        text-align: right;\n",
       "    }\n",
       "</style>\n",
       "<table border=\"1\" class=\"dataframe\">\n",
       "  <thead>\n",
       "    <tr style=\"text-align: right;\">\n",
       "      <th></th>\n",
       "      <th>tagId</th>\n",
       "      <th>tag</th>\n",
       "    </tr>\n",
       "  </thead>\n",
       "  <tbody>\n",
       "    <tr>\n",
       "      <th>0</th>\n",
       "      <td>1</td>\n",
       "      <td>007</td>\n",
       "    </tr>\n",
       "    <tr>\n",
       "      <th>1</th>\n",
       "      <td>2</td>\n",
       "      <td>007 (series)</td>\n",
       "    </tr>\n",
       "    <tr>\n",
       "      <th>2</th>\n",
       "      <td>3</td>\n",
       "      <td>18th century</td>\n",
       "    </tr>\n",
       "    <tr>\n",
       "      <th>3</th>\n",
       "      <td>4</td>\n",
       "      <td>1920s</td>\n",
       "    </tr>\n",
       "    <tr>\n",
       "      <th>4</th>\n",
       "      <td>5</td>\n",
       "      <td>1930s</td>\n",
       "    </tr>\n",
       "  </tbody>\n",
       "</table>\n",
       "</div>"
      ],
      "text/plain": [
       "   tagId           tag\n",
       "0      1           007\n",
       "1      2  007 (series)\n",
       "2      3  18th century\n",
       "3      4         1920s\n",
       "4      5         1930s"
      ]
     },
     "execution_count": 9,
     "metadata": {},
     "output_type": "execute_result"
    }
   ],
   "source": [
    "genome_tags_df.head()"
   ]
  },
  {
   "cell_type": "code",
   "execution_count": 10,
   "id": "6d18cee6",
   "metadata": {},
   "outputs": [
    {
     "data": {
      "text/html": [
       "<div>\n",
       "<style scoped>\n",
       "    .dataframe tbody tr th:only-of-type {\n",
       "        vertical-align: middle;\n",
       "    }\n",
       "\n",
       "    .dataframe tbody tr th {\n",
       "        vertical-align: top;\n",
       "    }\n",
       "\n",
       "    .dataframe thead th {\n",
       "        text-align: right;\n",
       "    }\n",
       "</style>\n",
       "<table border=\"1\" class=\"dataframe\">\n",
       "  <thead>\n",
       "    <tr style=\"text-align: right;\">\n",
       "      <th></th>\n",
       "      <th>movieId</th>\n",
       "      <th>imdbId</th>\n",
       "      <th>tmdbId</th>\n",
       "    </tr>\n",
       "  </thead>\n",
       "  <tbody>\n",
       "    <tr>\n",
       "      <th>0</th>\n",
       "      <td>1</td>\n",
       "      <td>114709</td>\n",
       "      <td>862.0</td>\n",
       "    </tr>\n",
       "    <tr>\n",
       "      <th>1</th>\n",
       "      <td>2</td>\n",
       "      <td>113497</td>\n",
       "      <td>8844.0</td>\n",
       "    </tr>\n",
       "    <tr>\n",
       "      <th>2</th>\n",
       "      <td>3</td>\n",
       "      <td>113228</td>\n",
       "      <td>15602.0</td>\n",
       "    </tr>\n",
       "    <tr>\n",
       "      <th>3</th>\n",
       "      <td>4</td>\n",
       "      <td>114885</td>\n",
       "      <td>31357.0</td>\n",
       "    </tr>\n",
       "    <tr>\n",
       "      <th>4</th>\n",
       "      <td>5</td>\n",
       "      <td>113041</td>\n",
       "      <td>11862.0</td>\n",
       "    </tr>\n",
       "  </tbody>\n",
       "</table>\n",
       "</div>"
      ],
      "text/plain": [
       "   movieId  imdbId   tmdbId\n",
       "0        1  114709    862.0\n",
       "1        2  113497   8844.0\n",
       "2        3  113228  15602.0\n",
       "3        4  114885  31357.0\n",
       "4        5  113041  11862.0"
      ]
     },
     "execution_count": 10,
     "metadata": {},
     "output_type": "execute_result"
    }
   ],
   "source": [
    "links_df.head()"
   ]
  },
  {
   "cell_type": "code",
   "execution_count": 11,
   "id": "ef247f8e",
   "metadata": {
    "scrolled": false
   },
   "outputs": [
    {
     "data": {
      "text/html": [
       "<div>\n",
       "<style scoped>\n",
       "    .dataframe tbody tr th:only-of-type {\n",
       "        vertical-align: middle;\n",
       "    }\n",
       "\n",
       "    .dataframe tbody tr th {\n",
       "        vertical-align: top;\n",
       "    }\n",
       "\n",
       "    .dataframe thead th {\n",
       "        text-align: right;\n",
       "    }\n",
       "</style>\n",
       "<table border=\"1\" class=\"dataframe\">\n",
       "  <thead>\n",
       "    <tr style=\"text-align: right;\">\n",
       "      <th></th>\n",
       "      <th>userId</th>\n",
       "      <th>movieId</th>\n",
       "      <th>tag</th>\n",
       "      <th>timestamp</th>\n",
       "    </tr>\n",
       "  </thead>\n",
       "  <tbody>\n",
       "    <tr>\n",
       "      <th>0</th>\n",
       "      <td>3</td>\n",
       "      <td>260</td>\n",
       "      <td>classic</td>\n",
       "      <td>1439472355</td>\n",
       "    </tr>\n",
       "    <tr>\n",
       "      <th>1</th>\n",
       "      <td>3</td>\n",
       "      <td>260</td>\n",
       "      <td>sci-fi</td>\n",
       "      <td>1439472256</td>\n",
       "    </tr>\n",
       "    <tr>\n",
       "      <th>2</th>\n",
       "      <td>4</td>\n",
       "      <td>1732</td>\n",
       "      <td>dark comedy</td>\n",
       "      <td>1573943598</td>\n",
       "    </tr>\n",
       "    <tr>\n",
       "      <th>3</th>\n",
       "      <td>4</td>\n",
       "      <td>1732</td>\n",
       "      <td>great dialogue</td>\n",
       "      <td>1573943604</td>\n",
       "    </tr>\n",
       "    <tr>\n",
       "      <th>4</th>\n",
       "      <td>4</td>\n",
       "      <td>7569</td>\n",
       "      <td>so bad it's good</td>\n",
       "      <td>1573943455</td>\n",
       "    </tr>\n",
       "  </tbody>\n",
       "</table>\n",
       "</div>"
      ],
      "text/plain": [
       "   userId  movieId               tag   timestamp\n",
       "0       3      260           classic  1439472355\n",
       "1       3      260            sci-fi  1439472256\n",
       "2       4     1732       dark comedy  1573943598\n",
       "3       4     1732    great dialogue  1573943604\n",
       "4       4     7569  so bad it's good  1573943455"
      ]
     },
     "execution_count": 11,
     "metadata": {},
     "output_type": "execute_result"
    }
   ],
   "source": [
    "tags_df.head()"
   ]
  },
  {
   "cell_type": "code",
   "execution_count": 12,
   "id": "d1005eac",
   "metadata": {
    "scrolled": true
   },
   "outputs": [
    {
     "data": {
      "text/html": [
       "<div>\n",
       "<style scoped>\n",
       "    .dataframe tbody tr th:only-of-type {\n",
       "        vertical-align: middle;\n",
       "    }\n",
       "\n",
       "    .dataframe tbody tr th {\n",
       "        vertical-align: top;\n",
       "    }\n",
       "\n",
       "    .dataframe thead th {\n",
       "        text-align: right;\n",
       "    }\n",
       "</style>\n",
       "<table border=\"1\" class=\"dataframe\">\n",
       "  <thead>\n",
       "    <tr style=\"text-align: right;\">\n",
       "      <th></th>\n",
       "      <th>userId</th>\n",
       "      <th>movieId</th>\n",
       "      <th>rating</th>\n",
       "    </tr>\n",
       "  </thead>\n",
       "  <tbody>\n",
       "    <tr>\n",
       "      <th>0</th>\n",
       "      <td>1</td>\n",
       "      <td>296</td>\n",
       "      <td>5.0</td>\n",
       "    </tr>\n",
       "    <tr>\n",
       "      <th>1</th>\n",
       "      <td>3</td>\n",
       "      <td>296</td>\n",
       "      <td>5.0</td>\n",
       "    </tr>\n",
       "    <tr>\n",
       "      <th>2</th>\n",
       "      <td>4</td>\n",
       "      <td>296</td>\n",
       "      <td>4.0</td>\n",
       "    </tr>\n",
       "    <tr>\n",
       "      <th>3</th>\n",
       "      <td>5</td>\n",
       "      <td>296</td>\n",
       "      <td>4.0</td>\n",
       "    </tr>\n",
       "    <tr>\n",
       "      <th>4</th>\n",
       "      <td>7</td>\n",
       "      <td>296</td>\n",
       "      <td>4.0</td>\n",
       "    </tr>\n",
       "  </tbody>\n",
       "</table>\n",
       "</div>"
      ],
      "text/plain": [
       "   userId  movieId  rating\n",
       "0       1      296     5.0\n",
       "1       3      296     5.0\n",
       "2       4      296     4.0\n",
       "3       5      296     4.0\n",
       "4       7      296     4.0"
      ]
     },
     "execution_count": 12,
     "metadata": {},
     "output_type": "execute_result"
    }
   ],
   "source": [
    "new_df = ratings_df.merge(movies_df, how=\"inner\")\n",
    "new_df = new_df.drop(columns=['title', 'genres', 'timestamp'])\n",
    "new_df.head()"
   ]
  },
  {
   "cell_type": "code",
   "execution_count": 13,
   "id": "663433e2",
   "metadata": {},
   "outputs": [],
   "source": [
    "new_df[\"rating\"] = np.where(new_df[\"rating\"] >= 3.5, 1, 0)"
   ]
  },
  {
   "cell_type": "code",
   "execution_count": 15,
   "id": "a8154bef",
   "metadata": {},
   "outputs": [],
   "source": [
    "X = new_df.drop('rating', axis=1)\n",
    "y = new_df['rating']"
   ]
  },
  {
   "cell_type": "code",
   "execution_count": 16,
   "id": "9b3805a1",
   "metadata": {},
   "outputs": [
    {
     "name": "stdout",
     "output_type": "stream",
     "text": [
      "[1 1 1 ... 1 1 1]\n"
     ]
    }
   ],
   "source": [
    "from sklearn import preprocessing\n",
    "from sklearn import utils\n",
    "\n",
    "#convert y values to categorical values\n",
    "lab = preprocessing.LabelEncoder()\n",
    "y_transformed = lab.fit_transform(y)\n",
    "\n",
    "#view transformed values\n",
    "print(y_transformed)\n",
    "X_train, X_test, y_train, y_test = train_test_split(X, y_transformed, random_state=1)"
   ]
  },
  {
   "cell_type": "code",
   "execution_count": 17,
   "id": "92ab0023",
   "metadata": {},
   "outputs": [
    {
     "name": "stdout",
     "output_type": "stream",
     "text": [
      "Training Data Score: 0.6251565127406717\n",
      "Testing Data Score: 0.625341598688261\n"
     ]
    }
   ],
   "source": [
    "classifier = LogisticRegression()\n",
    "classifier.fit(X_train, y_train)\n",
    "print(f\"Training Data Score: {classifier.score(X_train, y_train)}\")\n",
    "print(f\"Testing Data Score: {classifier.score(X_test, y_test)}\")"
   ]
  },
  {
   "cell_type": "code",
   "execution_count": 18,
   "id": "c5ba1dba",
   "metadata": {
    "scrolled": true
   },
   "outputs": [
    {
     "data": {
      "text/html": [
       "<div>\n",
       "<style scoped>\n",
       "    .dataframe tbody tr th:only-of-type {\n",
       "        vertical-align: middle;\n",
       "    }\n",
       "\n",
       "    .dataframe tbody tr th {\n",
       "        vertical-align: top;\n",
       "    }\n",
       "\n",
       "    .dataframe thead th {\n",
       "        text-align: right;\n",
       "    }\n",
       "</style>\n",
       "<table border=\"1\" class=\"dataframe\">\n",
       "  <thead>\n",
       "    <tr style=\"text-align: right;\">\n",
       "      <th></th>\n",
       "      <th>movieId</th>\n",
       "      <th>title</th>\n",
       "      <th>genres</th>\n",
       "    </tr>\n",
       "  </thead>\n",
       "  <tbody>\n",
       "    <tr>\n",
       "      <th>0</th>\n",
       "      <td>1</td>\n",
       "      <td>Toy Story (1995)</td>\n",
       "      <td>Adventure|Animation|Children|Comedy|Fantasy</td>\n",
       "    </tr>\n",
       "    <tr>\n",
       "      <th>1</th>\n",
       "      <td>2</td>\n",
       "      <td>Jumanji (1995)</td>\n",
       "      <td>Adventure|Children|Fantasy</td>\n",
       "    </tr>\n",
       "    <tr>\n",
       "      <th>2</th>\n",
       "      <td>3</td>\n",
       "      <td>Grumpier Old Men (1995)</td>\n",
       "      <td>Comedy|Romance</td>\n",
       "    </tr>\n",
       "    <tr>\n",
       "      <th>3</th>\n",
       "      <td>4</td>\n",
       "      <td>Waiting to Exhale (1995)</td>\n",
       "      <td>Comedy|Drama|Romance</td>\n",
       "    </tr>\n",
       "    <tr>\n",
       "      <th>4</th>\n",
       "      <td>5</td>\n",
       "      <td>Father of the Bride Part II (1995)</td>\n",
       "      <td>Comedy</td>\n",
       "    </tr>\n",
       "  </tbody>\n",
       "</table>\n",
       "</div>"
      ],
      "text/plain": [
       "   movieId                               title  \\\n",
       "0        1                    Toy Story (1995)   \n",
       "1        2                      Jumanji (1995)   \n",
       "2        3             Grumpier Old Men (1995)   \n",
       "3        4            Waiting to Exhale (1995)   \n",
       "4        5  Father of the Bride Part II (1995)   \n",
       "\n",
       "                                        genres  \n",
       "0  Adventure|Animation|Children|Comedy|Fantasy  \n",
       "1                   Adventure|Children|Fantasy  \n",
       "2                               Comedy|Romance  \n",
       "3                         Comedy|Drama|Romance  \n",
       "4                                       Comedy  "
      ]
     },
     "execution_count": 18,
     "metadata": {},
     "output_type": "execute_result"
    }
   ],
   "source": [
    "movies_df.head()"
   ]
  },
  {
   "cell_type": "code",
   "execution_count": 19,
   "id": "1f96b786",
   "metadata": {
    "scrolled": true
   },
   "outputs": [
    {
     "data": {
      "text/html": [
       "<div>\n",
       "<style scoped>\n",
       "    .dataframe tbody tr th:only-of-type {\n",
       "        vertical-align: middle;\n",
       "    }\n",
       "\n",
       "    .dataframe tbody tr th {\n",
       "        vertical-align: top;\n",
       "    }\n",
       "\n",
       "    .dataframe thead th {\n",
       "        text-align: right;\n",
       "    }\n",
       "</style>\n",
       "<table border=\"1\" class=\"dataframe\">\n",
       "  <thead>\n",
       "    <tr style=\"text-align: right;\">\n",
       "      <th></th>\n",
       "      <th>movieId</th>\n",
       "      <th>title</th>\n",
       "      <th>genres</th>\n",
       "      <th>userId</th>\n",
       "      <th>rating</th>\n",
       "      <th>timestamp</th>\n",
       "    </tr>\n",
       "  </thead>\n",
       "  <tbody>\n",
       "    <tr>\n",
       "      <th>0</th>\n",
       "      <td>1</td>\n",
       "      <td>Toy Story (1995)</td>\n",
       "      <td>Adventure|Animation|Children|Comedy|Fantasy</td>\n",
       "      <td>2</td>\n",
       "      <td>3.5</td>\n",
       "      <td>1141415820</td>\n",
       "    </tr>\n",
       "    <tr>\n",
       "      <th>1</th>\n",
       "      <td>1</td>\n",
       "      <td>Toy Story (1995)</td>\n",
       "      <td>Adventure|Animation|Children|Comedy|Fantasy</td>\n",
       "      <td>3</td>\n",
       "      <td>4.0</td>\n",
       "      <td>1439472215</td>\n",
       "    </tr>\n",
       "    <tr>\n",
       "      <th>2</th>\n",
       "      <td>1</td>\n",
       "      <td>Toy Story (1995)</td>\n",
       "      <td>Adventure|Animation|Children|Comedy|Fantasy</td>\n",
       "      <td>4</td>\n",
       "      <td>3.0</td>\n",
       "      <td>1573944252</td>\n",
       "    </tr>\n",
       "    <tr>\n",
       "      <th>3</th>\n",
       "      <td>1</td>\n",
       "      <td>Toy Story (1995)</td>\n",
       "      <td>Adventure|Animation|Children|Comedy|Fantasy</td>\n",
       "      <td>5</td>\n",
       "      <td>4.0</td>\n",
       "      <td>858625949</td>\n",
       "    </tr>\n",
       "    <tr>\n",
       "      <th>4</th>\n",
       "      <td>1</td>\n",
       "      <td>Toy Story (1995)</td>\n",
       "      <td>Adventure|Animation|Children|Comedy|Fantasy</td>\n",
       "      <td>8</td>\n",
       "      <td>4.0</td>\n",
       "      <td>890492517</td>\n",
       "    </tr>\n",
       "    <tr>\n",
       "      <th>...</th>\n",
       "      <td>...</td>\n",
       "      <td>...</td>\n",
       "      <td>...</td>\n",
       "      <td>...</td>\n",
       "      <td>...</td>\n",
       "      <td>...</td>\n",
       "    </tr>\n",
       "    <tr>\n",
       "      <th>25000090</th>\n",
       "      <td>209157</td>\n",
       "      <td>We (2018)</td>\n",
       "      <td>Drama</td>\n",
       "      <td>119571</td>\n",
       "      <td>1.5</td>\n",
       "      <td>1574280748</td>\n",
       "    </tr>\n",
       "    <tr>\n",
       "      <th>25000091</th>\n",
       "      <td>209159</td>\n",
       "      <td>Window of the Soul (2001)</td>\n",
       "      <td>Documentary</td>\n",
       "      <td>115835</td>\n",
       "      <td>3.0</td>\n",
       "      <td>1574280985</td>\n",
       "    </tr>\n",
       "    <tr>\n",
       "      <th>25000092</th>\n",
       "      <td>209163</td>\n",
       "      <td>Bad Poems (2018)</td>\n",
       "      <td>Comedy|Drama</td>\n",
       "      <td>6964</td>\n",
       "      <td>4.5</td>\n",
       "      <td>1574284913</td>\n",
       "    </tr>\n",
       "    <tr>\n",
       "      <th>25000093</th>\n",
       "      <td>209169</td>\n",
       "      <td>A Girl Thing (2001)</td>\n",
       "      <td>(no genres listed)</td>\n",
       "      <td>119571</td>\n",
       "      <td>3.0</td>\n",
       "      <td>1574291826</td>\n",
       "    </tr>\n",
       "    <tr>\n",
       "      <th>25000094</th>\n",
       "      <td>209171</td>\n",
       "      <td>Women of Devil's Island (1962)</td>\n",
       "      <td>Action|Adventure|Drama</td>\n",
       "      <td>119571</td>\n",
       "      <td>3.0</td>\n",
       "      <td>1574291937</td>\n",
       "    </tr>\n",
       "  </tbody>\n",
       "</table>\n",
       "<p>25000095 rows × 6 columns</p>\n",
       "</div>"
      ],
      "text/plain": [
       "          movieId                           title  \\\n",
       "0               1                Toy Story (1995)   \n",
       "1               1                Toy Story (1995)   \n",
       "2               1                Toy Story (1995)   \n",
       "3               1                Toy Story (1995)   \n",
       "4               1                Toy Story (1995)   \n",
       "...           ...                             ...   \n",
       "25000090   209157                       We (2018)   \n",
       "25000091   209159       Window of the Soul (2001)   \n",
       "25000092   209163                Bad Poems (2018)   \n",
       "25000093   209169             A Girl Thing (2001)   \n",
       "25000094   209171  Women of Devil's Island (1962)   \n",
       "\n",
       "                                               genres  userId  rating  \\\n",
       "0         Adventure|Animation|Children|Comedy|Fantasy       2     3.5   \n",
       "1         Adventure|Animation|Children|Comedy|Fantasy       3     4.0   \n",
       "2         Adventure|Animation|Children|Comedy|Fantasy       4     3.0   \n",
       "3         Adventure|Animation|Children|Comedy|Fantasy       5     4.0   \n",
       "4         Adventure|Animation|Children|Comedy|Fantasy       8     4.0   \n",
       "...                                               ...     ...     ...   \n",
       "25000090                                        Drama  119571     1.5   \n",
       "25000091                                  Documentary  115835     3.0   \n",
       "25000092                                 Comedy|Drama    6964     4.5   \n",
       "25000093                           (no genres listed)  119571     3.0   \n",
       "25000094                       Action|Adventure|Drama  119571     3.0   \n",
       "\n",
       "           timestamp  \n",
       "0         1141415820  \n",
       "1         1439472215  \n",
       "2         1573944252  \n",
       "3          858625949  \n",
       "4          890492517  \n",
       "...              ...  \n",
       "25000090  1574280748  \n",
       "25000091  1574280985  \n",
       "25000092  1574284913  \n",
       "25000093  1574291826  \n",
       "25000094  1574291937  \n",
       "\n",
       "[25000095 rows x 6 columns]"
      ]
     },
     "execution_count": 19,
     "metadata": {},
     "output_type": "execute_result"
    }
   ],
   "source": [
    "movie_ratings = movies_df.merge(ratings_df, how=\"inner\")\n",
    "movie_ratings"
   ]
  },
  {
   "cell_type": "code",
   "execution_count": 20,
   "id": "e6f211ff",
   "metadata": {},
   "outputs": [],
   "source": [
    "reduced = movie_ratings.sample(1000000)"
   ]
  },
  {
   "cell_type": "code",
   "execution_count": 21,
   "id": "74726cb7",
   "metadata": {},
   "outputs": [],
   "source": [
    "# movie_ratings.groupby('movieId').mean()"
   ]
  },
  {
   "cell_type": "code",
   "execution_count": 22,
   "id": "312ca1ba",
   "metadata": {},
   "outputs": [],
   "source": [
    "reduced['year'] = reduced.title.str.extract('\\((.*)\\)')[0]\n",
    "\n",
    "reduced['release_year'] = reduced['year'].str.split('(').str[-1]\n",
    "reduced = reduced.drop(columns = ['year'])"
   ]
  },
  {
   "cell_type": "code",
   "execution_count": 23,
   "id": "3f62ddd3",
   "metadata": {},
   "outputs": [
    {
     "data": {
      "text/html": [
       "<div>\n",
       "<style scoped>\n",
       "    .dataframe tbody tr th:only-of-type {\n",
       "        vertical-align: middle;\n",
       "    }\n",
       "\n",
       "    .dataframe tbody tr th {\n",
       "        vertical-align: top;\n",
       "    }\n",
       "\n",
       "    .dataframe thead th {\n",
       "        text-align: right;\n",
       "    }\n",
       "</style>\n",
       "<table border=\"1\" class=\"dataframe\">\n",
       "  <thead>\n",
       "    <tr style=\"text-align: right;\">\n",
       "      <th></th>\n",
       "      <th>movieId</th>\n",
       "      <th>title</th>\n",
       "      <th>genres</th>\n",
       "      <th>userId</th>\n",
       "      <th>rating</th>\n",
       "      <th>timestamp</th>\n",
       "      <th>release_year</th>\n",
       "    </tr>\n",
       "  </thead>\n",
       "  <tbody>\n",
       "    <tr>\n",
       "      <th>24778254</th>\n",
       "      <td>174055</td>\n",
       "      <td>Dunkirk (2017)</td>\n",
       "      <td>Action|Drama|Thriller|War</td>\n",
       "      <td>99550</td>\n",
       "      <td>3.0</td>\n",
       "      <td>1513697168</td>\n",
       "      <td>2017</td>\n",
       "    </tr>\n",
       "    <tr>\n",
       "      <th>17353960</th>\n",
       "      <td>6333</td>\n",
       "      <td>X2: X-Men United (2003)</td>\n",
       "      <td>Action|Adventure|Sci-Fi|Thriller</td>\n",
       "      <td>71503</td>\n",
       "      <td>4.0</td>\n",
       "      <td>1076863224</td>\n",
       "      <td>2003</td>\n",
       "    </tr>\n",
       "    <tr>\n",
       "      <th>12949678</th>\n",
       "      <td>3096</td>\n",
       "      <td>My Man Godfrey (1957)</td>\n",
       "      <td>Comedy</td>\n",
       "      <td>104141</td>\n",
       "      <td>5.0</td>\n",
       "      <td>1062630866</td>\n",
       "      <td>1957</td>\n",
       "    </tr>\n",
       "    <tr>\n",
       "      <th>1900211</th>\n",
       "      <td>292</td>\n",
       "      <td>Outbreak (1995)</td>\n",
       "      <td>Action|Drama|Sci-Fi|Thriller</td>\n",
       "      <td>151102</td>\n",
       "      <td>3.0</td>\n",
       "      <td>1322227426</td>\n",
       "      <td>1995</td>\n",
       "    </tr>\n",
       "    <tr>\n",
       "      <th>13515</th>\n",
       "      <td>1</td>\n",
       "      <td>Toy Story (1995)</td>\n",
       "      <td>Adventure|Animation|Children|Comedy|Fantasy</td>\n",
       "      <td>38282</td>\n",
       "      <td>4.0</td>\n",
       "      <td>1311558556</td>\n",
       "      <td>1995</td>\n",
       "    </tr>\n",
       "  </tbody>\n",
       "</table>\n",
       "</div>"
      ],
      "text/plain": [
       "          movieId                    title  \\\n",
       "24778254   174055           Dunkirk (2017)   \n",
       "17353960     6333  X2: X-Men United (2003)   \n",
       "12949678     3096    My Man Godfrey (1957)   \n",
       "1900211       292          Outbreak (1995)   \n",
       "13515           1         Toy Story (1995)   \n",
       "\n",
       "                                               genres  userId  rating  \\\n",
       "24778254                    Action|Drama|Thriller|War   99550     3.0   \n",
       "17353960             Action|Adventure|Sci-Fi|Thriller   71503     4.0   \n",
       "12949678                                       Comedy  104141     5.0   \n",
       "1900211                  Action|Drama|Sci-Fi|Thriller  151102     3.0   \n",
       "13515     Adventure|Animation|Children|Comedy|Fantasy   38282     4.0   \n",
       "\n",
       "           timestamp release_year  \n",
       "24778254  1513697168         2017  \n",
       "17353960  1076863224         2003  \n",
       "12949678  1062630866         1957  \n",
       "1900211   1322227426         1995  \n",
       "13515     1311558556         1995  "
      ]
     },
     "execution_count": 23,
     "metadata": {},
     "output_type": "execute_result"
    }
   ],
   "source": [
    "reduced.head()"
   ]
  },
  {
   "cell_type": "code",
   "execution_count": 24,
   "id": "53be35f0",
   "metadata": {},
   "outputs": [
    {
     "name": "stdout",
     "output_type": "stream",
     "text": [
      "18\n"
     ]
    }
   ],
   "source": [
    "genres = ['Comedy','Adventure','Animation','Children','Fantasy','Romance','Drama',\n",
    "          'Documentary','Action','Horror','Mystery','Sci-Fi','Western','Crime','Thriller',\n",
    "          'Film-Noir','Musical','War']\n",
    "print(len(genres))"
   ]
  },
  {
   "cell_type": "code",
   "execution_count": 25,
   "id": "cbf83dc9",
   "metadata": {},
   "outputs": [],
   "source": [
    "# def genre_ratings(genre):\n",
    "#     df = movies_df[movies_df['genres'].str.contains(genre, regex=False)]\n",
    "#     genre_df = ratings_df.merge(df, how=\"inner\")\n",
    "#     return genre_df"
   ]
  },
  {
   "cell_type": "code",
   "execution_count": 26,
   "id": "044df28b",
   "metadata": {},
   "outputs": [],
   "source": [
    "def genre_ratings(genre):\n",
    "    df = reduced[reduced['genres'].str.contains(genre, regex=False)]\n",
    "    return df"
   ]
  },
  {
   "cell_type": "code",
   "execution_count": 30,
   "id": "a4b22130",
   "metadata": {},
   "outputs": [
    {
     "data": {
      "text/html": [
       "<div>\n",
       "<style scoped>\n",
       "    .dataframe tbody tr th:only-of-type {\n",
       "        vertical-align: middle;\n",
       "    }\n",
       "\n",
       "    .dataframe tbody tr th {\n",
       "        vertical-align: top;\n",
       "    }\n",
       "\n",
       "    .dataframe thead th {\n",
       "        text-align: right;\n",
       "    }\n",
       "</style>\n",
       "<table border=\"1\" class=\"dataframe\">\n",
       "  <thead>\n",
       "    <tr style=\"text-align: right;\">\n",
       "      <th></th>\n",
       "      <th>movieId</th>\n",
       "      <th>title</th>\n",
       "      <th>genres</th>\n",
       "      <th>userId</th>\n",
       "      <th>rating</th>\n",
       "      <th>timestamp</th>\n",
       "      <th>release_year</th>\n",
       "    </tr>\n",
       "  </thead>\n",
       "  <tbody>\n",
       "    <tr>\n",
       "      <th>22532331</th>\n",
       "      <td>82732</td>\n",
       "      <td>New York Confidential (1955)</td>\n",
       "      <td>Crime|Drama|Film-Noir</td>\n",
       "      <td>80974</td>\n",
       "      <td>3.0</td>\n",
       "      <td>1293164312</td>\n",
       "      <td>1955</td>\n",
       "    </tr>\n",
       "    <tr>\n",
       "      <th>1186252</th>\n",
       "      <td>164</td>\n",
       "      <td>Devil in a Blue Dress (1995)</td>\n",
       "      <td>Crime|Film-Noir|Mystery|Thriller</td>\n",
       "      <td>25547</td>\n",
       "      <td>4.0</td>\n",
       "      <td>955083685</td>\n",
       "      <td>1995</td>\n",
       "    </tr>\n",
       "    <tr>\n",
       "      <th>5657055</th>\n",
       "      <td>1069</td>\n",
       "      <td>Murder, My Sweet (1944)</td>\n",
       "      <td>Crime|Film-Noir|Thriller</td>\n",
       "      <td>125400</td>\n",
       "      <td>5.0</td>\n",
       "      <td>1314902398</td>\n",
       "      <td>1944</td>\n",
       "    </tr>\n",
       "    <tr>\n",
       "      <th>19467576</th>\n",
       "      <td>32587</td>\n",
       "      <td>Sin City (2005)</td>\n",
       "      <td>Action|Crime|Film-Noir|Mystery|Thriller</td>\n",
       "      <td>122994</td>\n",
       "      <td>4.0</td>\n",
       "      <td>1230361439</td>\n",
       "      <td>2005</td>\n",
       "    </tr>\n",
       "    <tr>\n",
       "      <th>14063367</th>\n",
       "      <td>3683</td>\n",
       "      <td>Blood Simple (1984)</td>\n",
       "      <td>Crime|Drama|Film-Noir</td>\n",
       "      <td>155803</td>\n",
       "      <td>4.0</td>\n",
       "      <td>1044853616</td>\n",
       "      <td>1984</td>\n",
       "    </tr>\n",
       "    <tr>\n",
       "      <th>...</th>\n",
       "      <td>...</td>\n",
       "      <td>...</td>\n",
       "      <td>...</td>\n",
       "      <td>...</td>\n",
       "      <td>...</td>\n",
       "      <td>...</td>\n",
       "      <td>...</td>\n",
       "    </tr>\n",
       "    <tr>\n",
       "      <th>6970379</th>\n",
       "      <td>1245</td>\n",
       "      <td>Miller's Crossing (1990)</td>\n",
       "      <td>Crime|Drama|Film-Noir|Thriller</td>\n",
       "      <td>107528</td>\n",
       "      <td>3.0</td>\n",
       "      <td>858605816</td>\n",
       "      <td>1990</td>\n",
       "    </tr>\n",
       "    <tr>\n",
       "      <th>21821183</th>\n",
       "      <td>69516</td>\n",
       "      <td>Limits of Control, The (2009)</td>\n",
       "      <td>Crime|Drama|Film-Noir</td>\n",
       "      <td>159504</td>\n",
       "      <td>3.5</td>\n",
       "      <td>1324983141</td>\n",
       "      <td>2009</td>\n",
       "    </tr>\n",
       "    <tr>\n",
       "      <th>6580643</th>\n",
       "      <td>1212</td>\n",
       "      <td>Third Man, The (1949)</td>\n",
       "      <td>Film-Noir|Mystery|Thriller</td>\n",
       "      <td>102472</td>\n",
       "      <td>5.0</td>\n",
       "      <td>1348248990</td>\n",
       "      <td>1949</td>\n",
       "    </tr>\n",
       "    <tr>\n",
       "      <th>7053105</th>\n",
       "      <td>1252</td>\n",
       "      <td>Chinatown (1974)</td>\n",
       "      <td>Crime|Film-Noir|Mystery|Thriller</td>\n",
       "      <td>68764</td>\n",
       "      <td>3.0</td>\n",
       "      <td>1258648833</td>\n",
       "      <td>1974</td>\n",
       "    </tr>\n",
       "    <tr>\n",
       "      <th>5404961</th>\n",
       "      <td>999</td>\n",
       "      <td>2 Days in the Valley (1996)</td>\n",
       "      <td>Crime|Film-Noir</td>\n",
       "      <td>20836</td>\n",
       "      <td>3.0</td>\n",
       "      <td>1485184104</td>\n",
       "      <td>1996</td>\n",
       "    </tr>\n",
       "  </tbody>\n",
       "</table>\n",
       "<p>9952 rows × 7 columns</p>\n",
       "</div>"
      ],
      "text/plain": [
       "          movieId                          title  \\\n",
       "22532331    82732   New York Confidential (1955)   \n",
       "1186252       164   Devil in a Blue Dress (1995)   \n",
       "5657055      1069        Murder, My Sweet (1944)   \n",
       "19467576    32587                Sin City (2005)   \n",
       "14063367     3683            Blood Simple (1984)   \n",
       "...           ...                            ...   \n",
       "6970379      1245       Miller's Crossing (1990)   \n",
       "21821183    69516  Limits of Control, The (2009)   \n",
       "6580643      1212          Third Man, The (1949)   \n",
       "7053105      1252               Chinatown (1974)   \n",
       "5404961       999    2 Days in the Valley (1996)   \n",
       "\n",
       "                                           genres  userId  rating   timestamp  \\\n",
       "22532331                    Crime|Drama|Film-Noir   80974     3.0  1293164312   \n",
       "1186252          Crime|Film-Noir|Mystery|Thriller   25547     4.0   955083685   \n",
       "5657055                  Crime|Film-Noir|Thriller  125400     5.0  1314902398   \n",
       "19467576  Action|Crime|Film-Noir|Mystery|Thriller  122994     4.0  1230361439   \n",
       "14063367                    Crime|Drama|Film-Noir  155803     4.0  1044853616   \n",
       "...                                           ...     ...     ...         ...   \n",
       "6970379            Crime|Drama|Film-Noir|Thriller  107528     3.0   858605816   \n",
       "21821183                    Crime|Drama|Film-Noir  159504     3.5  1324983141   \n",
       "6580643                Film-Noir|Mystery|Thriller  102472     5.0  1348248990   \n",
       "7053105          Crime|Film-Noir|Mystery|Thriller   68764     3.0  1258648833   \n",
       "5404961                           Crime|Film-Noir   20836     3.0  1485184104   \n",
       "\n",
       "         release_year  \n",
       "22532331         1955  \n",
       "1186252          1995  \n",
       "5657055          1944  \n",
       "19467576         2005  \n",
       "14063367         1984  \n",
       "...               ...  \n",
       "6970379          1990  \n",
       "21821183         2009  \n",
       "6580643          1949  \n",
       "7053105          1974  \n",
       "5404961          1996  \n",
       "\n",
       "[9952 rows x 7 columns]"
      ]
     },
     "execution_count": 30,
     "metadata": {},
     "output_type": "execute_result"
    }
   ],
   "source": [
    "genre_ratings('Film-Noir')"
   ]
  },
  {
   "cell_type": "code",
   "execution_count": 28,
   "id": "ba14bce0",
   "metadata": {},
   "outputs": [],
   "source": [
    "genre_averages = {\n",
    "    'Genre': [],\n",
    "    'Average Rating': []\n",
    "}\n",
    "for genre in genres:\n",
    "    avg_rating = genre_ratings(genre)['rating'].mean()\n",
    "    genre_averages['Genre'].append(genre)\n",
    "    genre_averages['Average Rating'].append(avg_rating)\n",
    "\n",
    "genre_avg_df = pd.DataFrame(genre_averages).sort_values('Average Rating', ascending=False)"
   ]
  },
  {
   "cell_type": "code",
   "execution_count": 29,
   "id": "d96b81db",
   "metadata": {},
   "outputs": [
    {
     "data": {
      "image/png": "[encoded data removed]",
      "text/plain": [
       "<Figure size 576x576 with 1 Axes>"
      ]
     },
     "metadata": {
      "needs_background": "light"
     },
     "output_type": "display_data"
    }
   ],
   "source": [
    "plt.figure(figsize=(8, 8))\n",
    "plt.bar(genre_avg_df['Genre'],genre_avg_df['Average Rating'])\n",
    "plt.ylim(3, 4)\n",
    "plt.title('Average Rating by Genre')\n",
    "plt.ylabel('Average Rating')\n",
    "plt.xticks(rotation=45)\n",
    "plt.savefig('images/avg_rating_by_genre.png')"
   ]
  },
  {
   "cell_type": "code",
   "execution_count": 31,
   "id": "23f7d81e",
   "metadata": {},
   "outputs": [],
   "source": [
    "def ratings_by_year(genre, year):\n",
    "    df = reduced[reduced['genres'].str.contains(genre, regex=False)]\n",
    "    year_df = df.loc[df['release_year'] == year]\n",
    "    avg_rating = year_df.groupby('release_year')['rating'].mean()\n",
    "    return avg_rating[0]"
   ]
  },
  {
   "cell_type": "code",
   "execution_count": 32,
   "id": "f9c5f3b1",
   "metadata": {},
   "outputs": [
    {
     "data": {
      "text/plain": [
       "3.2727856584385124"
      ]
     },
     "execution_count": 32,
     "metadata": {},
     "output_type": "execute_result"
    }
   ],
   "source": [
    "ratings_by_year('Action','1995')"
   ]
  },
  {
   "cell_type": "code",
   "execution_count": 33,
   "id": "f8699378",
   "metadata": {},
   "outputs": [],
   "source": [
    "ratings_dict = {\n",
    "    'Year': [],\n",
    "    'Average Rating': []\n",
    "}\n",
    "\n",
    "years = ['1993','1994','1995','1996','1997','1998','1999','2000','2001','2002','2003','2004','2005','2006',\n",
    "         '2007','2008','2009','2010','2011','2012','2013','2014','2015','2016','2017','2018']\n",
    "\n",
    "for year in years:\n",
    "    avg = ratings_by_year('Action',year)\n",
    "    ratings_dict['Average Rating'].append(avg)\n",
    "    ratings_dict['Year'].append(year)\n",
    "    \n",
    "ratings_dict_df = pd.DataFrame(ratings_dict)"
   ]
  },
  {
   "cell_type": "code",
   "execution_count": 34,
   "id": "9779acae",
   "metadata": {},
   "outputs": [
    {
     "data": {
      "text/html": [
       "<div>\n",
       "<style scoped>\n",
       "    .dataframe tbody tr th:only-of-type {\n",
       "        vertical-align: middle;\n",
       "    }\n",
       "\n",
       "    .dataframe tbody tr th {\n",
       "        vertical-align: top;\n",
       "    }\n",
       "\n",
       "    .dataframe thead th {\n",
       "        text-align: right;\n",
       "    }\n",
       "</style>\n",
       "<table border=\"1\" class=\"dataframe\">\n",
       "  <thead>\n",
       "    <tr style=\"text-align: right;\">\n",
       "      <th></th>\n",
       "      <th>Year</th>\n",
       "      <th>Average Rating</th>\n",
       "    </tr>\n",
       "  </thead>\n",
       "  <tbody>\n",
       "    <tr>\n",
       "      <th>0</th>\n",
       "      <td>1993</td>\n",
       "      <td>3.309885</td>\n",
       "    </tr>\n",
       "    <tr>\n",
       "      <th>1</th>\n",
       "      <td>1994</td>\n",
       "      <td>3.332550</td>\n",
       "    </tr>\n",
       "    <tr>\n",
       "      <th>2</th>\n",
       "      <td>1995</td>\n",
       "      <td>3.272786</td>\n",
       "    </tr>\n",
       "    <tr>\n",
       "      <th>3</th>\n",
       "      <td>1996</td>\n",
       "      <td>3.257064</td>\n",
       "    </tr>\n",
       "    <tr>\n",
       "      <th>4</th>\n",
       "      <td>1997</td>\n",
       "      <td>3.255560</td>\n",
       "    </tr>\n",
       "  </tbody>\n",
       "</table>\n",
       "</div>"
      ],
      "text/plain": [
       "   Year  Average Rating\n",
       "0  1993        3.309885\n",
       "1  1994        3.332550\n",
       "2  1995        3.272786\n",
       "3  1996        3.257064\n",
       "4  1997        3.255560"
      ]
     },
     "execution_count": 34,
     "metadata": {},
     "output_type": "execute_result"
    }
   ],
   "source": [
    "ratings_dict_df.head()"
   ]
  },
  {
   "cell_type": "code",
   "execution_count": 35,
   "id": "7ffd61a6",
   "metadata": {},
   "outputs": [
    {
     "data": {
      "image/png": "[encoded data removed]",
      "text/plain": [
       "<Figure size 432x288 with 1 Axes>"
      ]
     },
     "metadata": {
      "needs_background": "light"
     },
     "output_type": "display_data"
    }
   ],
   "source": [
    "plt.plot(ratings_dict_df['Year'],ratings_dict_df['Average Rating'])\n",
    "plt.ylim(3, 4)\n",
    "plt.title('Average Rating for Action Movies by Year')\n",
    "plt.ylabel('Average Rating')\n",
    "plt.xlabel('Years')\n",
    "\n",
    "#every other year for xticks\n",
    "labels = [n for n in ratings_dict_df['Year']][::2]\n",
    "plt.xticks(labels,labels=labels,rotation=45)\n",
    "plt.savefig('images/average_rating_action.png')"
   ]
  },
  {
   "cell_type": "code",
   "execution_count": null,
   "id": "29b155f9",
   "metadata": {},
   "outputs": [],
   "source": [
    "# years string to make a list of strings from 1960 - 2018\n",
    "# years = ['19'+str(i) for i in range(60, 100)] + ['200'+str(i) for i in range(0,10)] + ['20'+str(i) for i in range(10,19)]\n",
    "# print(years)"
   ]
  },
  {
   "cell_type": "code",
   "execution_count": 36,
   "id": "57d2b9ae",
   "metadata": {},
   "outputs": [],
   "source": [
    "def plot_genre_by_year(genre):\n",
    "    lower_genre = genre.lower()\n",
    "    ratings_dict = {\n",
    "        'Year': [],\n",
    "        'Average Rating': []\n",
    "    }\n",
    "\n",
    "    years = ['19'+str(i) for i in range(60, 100)]+['200'+str(i) for i in range(0,10)]+['20'+str(i) for i in range(10,19)]\n",
    "\n",
    "    year_labels = years[::4]\n",
    "\n",
    "    for year in years:\n",
    "        try:\n",
    "            avg = ratings_by_year(genre,year)\n",
    "            ratings_dict['Average Rating'].append(avg)\n",
    "            ratings_dict['Year'].append(year)\n",
    "        except:\n",
    "            pass\n",
    "\n",
    "    ratings_dict_df = pd.DataFrame(ratings_dict)\n",
    "\n",
    "    ## Plot\n",
    "    plt.plot(ratings_dict_df['Year'],ratings_dict_df['Average Rating'], label=genre)\n",
    "    plt.ylim(3, 5)\n",
    "    plt.title(f'Average Rating for {genre} Movies by Year')\n",
    "    plt.ylabel('Average Rating')\n",
    "    plt.xlabel('Years')\n",
    "    plt.xticks(year_labels,labels=year_labels,rotation=45)\n",
    "#     plt.legend(loc=\"lower left\")\n",
    "    plt.savefig(f'images/avg_rating_by_year_{lower_genre}.png')\n",
    "    plt.show()"
   ]
  },
  {
   "cell_type": "code",
   "execution_count": 43,
   "id": "78bb5650",
   "metadata": {},
   "outputs": [],
   "source": [
    "def plot_genre_by_year_single_plot(genre):\n",
    "    lower_genre = genre.lower()\n",
    "    ratings_dict = {\n",
    "        'Year': [],\n",
    "        'Average Rating': []\n",
    "    }\n",
    "\n",
    "    years = ['19'+str(i) for i in range(60, 100)]+['200'+str(i) for i in range(0,10)]+['20'+str(i) for i in range(10,19)]\n",
    "\n",
    "    year_labels = years[::4]\n",
    "\n",
    "    for year in years:\n",
    "        try:\n",
    "            avg = ratings_by_year(genre,year)\n",
    "            ratings_dict['Average Rating'].append(avg)\n",
    "            ratings_dict['Year'].append(year)\n",
    "        except:\n",
    "            pass\n",
    "\n",
    "    ratings_dict_df = pd.DataFrame(ratings_dict)\n",
    "\n",
    "    ## Plot\n",
    "    plt.plot(ratings_dict_df['Year'],ratings_dict_df['Average Rating'], label=genre)\n",
    "    plt.ylim(3, 5)\n",
    "    plt.title(f'Average Rating for all Genres by Year')\n",
    "    plt.ylabel('Average Rating')\n",
    "    plt.xlabel('Years')\n",
    "    plt.xticks(year_labels,labels=year_labels,rotation=45)\n",
    "    plt.legend(loc=\"upper right\")\n",
    "    plt.savefig(f'images/all_genre.png')\n",
    "plt.show()"
   ]
  },
  {
   "cell_type": "code",
   "execution_count": 39,
   "id": "f0f888e4",
   "metadata": {},
   "outputs": [],
   "source": [
    "top_genres = ['War','Documentary','Crime','Drama','Mystery','Animation','Action']\n",
    "# top_genres = ['War']"
   ]
  },
  {
   "cell_type": "code",
   "execution_count": 40,
   "id": "a5c0dd9b",
   "metadata": {},
   "outputs": [
    {
     "data": {
      "image/png": "[encoded data removed]",
      "text/plain": [
       "<Figure size 432x288 with 1 Axes>"
      ]
     },
     "metadata": {
      "needs_background": "light"
     },
     "output_type": "display_data"
    },
    {
     "data": {
      "image/png": "[encoded data removed]",
      "text/plain": [
       "<Figure size 432x288 with 1 Axes>"
      ]
     },
     "metadata": {
      "needs_background": "light"
     },
     "output_type": "display_data"
    },
    {
     "data": {
      "image/png": "[encoded data removed]",
      "text/plain": [
       "<Figure size 432x288 with 1 Axes>"
      ]
     },
     "metadata": {
      "needs_background": "light"
     },
     "output_type": "display_data"
    },
    {
     "data": {
      "image/png": "[encoded data removed]",
      "text/plain": [
       "<Figure size 432x288 with 1 Axes>"
      ]
     },
     "metadata": {
      "needs_background": "light"
     },
     "output_type": "display_data"
    },
    {
     "data": {
      "image/png": "[encoded data removed]",
      "text/plain": [
       "<Figure size 432x288 with 1 Axes>"
      ]
     },
     "metadata": {
      "needs_background": "light"
     },
     "output_type": "display_data"
    },
    {
     "data": {
      "image/png": "[encoded data removed]",
      "text/plain": [
       "<Figure size 432x288 with 1 Axes>"
      ]
     },
     "metadata": {
      "needs_background": "light"
     },
     "output_type": "display_data"
    },
    {
     "data": {
      "image/png": "[encoded data removed]",
      "text/plain": [
       "<Figure size 432x288 with 1 Axes>"
      ]
     },
     "metadata": {
      "needs_background": "light"
     },
     "output_type": "display_data"
    }
   ],
   "source": [
    "for genre in top_genres:\n",
    "    plot_genre_by_year(genre)"
   ]
  },
  {
   "cell_type": "code",
   "execution_count": 44,
   "id": "14e07386",
   "metadata": {},
   "outputs": [
    {
     "data": {
      "image/png": "[encoded data removed]",
      "text/plain": [
       "<Figure size 432x288 with 1 Axes>"
      ]
     },
     "metadata": {
      "needs_background": "light"
     },
     "output_type": "display_data"
    }
   ],
   "source": [
    "for genre in top_genres:\n",
    "    plot_genre_by_year_single_plot(genre)"
   ]
  },
  {
   "cell_type": "code",
   "execution_count": null,
   "id": "5c65af6c",
   "metadata": {},
   "outputs": [],
   "source": [
    "# top_movies = ratings_df[ratings_df['rating'] >= 4.5]\n",
    "# top_movies = top_movies.merge(movies_df, how='left')\n",
    "# top_movies.head()"
   ]
  },
  {
   "cell_type": "code",
   "execution_count": 55,
   "id": "49039f83",
   "metadata": {},
   "outputs": [
    {
     "data": {
      "text/plain": [
       "0           1147880044\n",
       "1           1147868817\n",
       "2           1147868828\n",
       "3           1147878820\n",
       "4           1147868510\n",
       "               ...    \n",
       "25000090    1240953372\n",
       "25000091    1240951998\n",
       "25000092    1240950697\n",
       "25000093    1240953434\n",
       "25000094    1240952515\n",
       "Name: timestamp, Length: 25000095, dtype: int64"
      ]
     },
     "execution_count": 55,
     "metadata": {},
     "output_type": "execute_result"
    }
   ],
   "source": [
    "ratings_df.timestamp"
   ]
  },
  {
   "cell_type": "code",
   "execution_count": 84,
   "id": "4dbdd73a",
   "metadata": {},
   "outputs": [],
   "source": [
    "ratings_df['reviewDate'] = pd.to_datetime(ratings_df.timestamp, unit='s')"
   ]
  },
  {
   "cell_type": "code",
   "execution_count": 86,
   "id": "fa35a39c",
   "metadata": {
    "scrolled": true
   },
   "outputs": [
    {
     "data": {
      "text/html": [
       "<div>\n",
       "<style scoped>\n",
       "    .dataframe tbody tr th:only-of-type {\n",
       "        vertical-align: middle;\n",
       "    }\n",
       "\n",
       "    .dataframe tbody tr th {\n",
       "        vertical-align: top;\n",
       "    }\n",
       "\n",
       "    .dataframe thead th {\n",
       "        text-align: right;\n",
       "    }\n",
       "</style>\n",
       "<table border=\"1\" class=\"dataframe\">\n",
       "  <thead>\n",
       "    <tr style=\"text-align: right;\">\n",
       "      <th></th>\n",
       "      <th>userId</th>\n",
       "      <th>movieId</th>\n",
       "      <th>rating</th>\n",
       "      <th>timestamp</th>\n",
       "      <th>reviewDate</th>\n",
       "    </tr>\n",
       "  </thead>\n",
       "  <tbody>\n",
       "    <tr>\n",
       "      <th>326761</th>\n",
       "      <td>2262</td>\n",
       "      <td>21</td>\n",
       "      <td>3.0</td>\n",
       "      <td>789652009</td>\n",
       "      <td>1995-01-09 11:46:49</td>\n",
       "    </tr>\n",
       "    <tr>\n",
       "      <th>326810</th>\n",
       "      <td>2262</td>\n",
       "      <td>1079</td>\n",
       "      <td>3.0</td>\n",
       "      <td>789652009</td>\n",
       "      <td>1995-01-09 11:46:49</td>\n",
       "    </tr>\n",
       "    <tr>\n",
       "      <th>326767</th>\n",
       "      <td>2262</td>\n",
       "      <td>47</td>\n",
       "      <td>5.0</td>\n",
       "      <td>789652009</td>\n",
       "      <td>1995-01-09 11:46:49</td>\n",
       "    </tr>\n",
       "    <tr>\n",
       "      <th>15845015</th>\n",
       "      <td>102689</td>\n",
       "      <td>1</td>\n",
       "      <td>4.0</td>\n",
       "      <td>822873600</td>\n",
       "      <td>1996-01-29 00:00:00</td>\n",
       "    </tr>\n",
       "    <tr>\n",
       "      <th>15845023</th>\n",
       "      <td>102689</td>\n",
       "      <td>39</td>\n",
       "      <td>5.0</td>\n",
       "      <td>822873600</td>\n",
       "      <td>1996-01-29 00:00:00</td>\n",
       "    </tr>\n",
       "  </tbody>\n",
       "</table>\n",
       "</div>"
      ],
      "text/plain": [
       "          userId  movieId  rating  timestamp          reviewDate\n",
       "326761      2262       21     3.0  789652009 1995-01-09 11:46:49\n",
       "326810      2262     1079     3.0  789652009 1995-01-09 11:46:49\n",
       "326767      2262       47     5.0  789652009 1995-01-09 11:46:49\n",
       "15845015  102689        1     4.0  822873600 1996-01-29 00:00:00\n",
       "15845023  102689       39     5.0  822873600 1996-01-29 00:00:00"
      ]
     },
     "execution_count": 86,
     "metadata": {},
     "output_type": "execute_result"
    }
   ],
   "source": [
    "# Getting date range, 1995-2019\n",
    "ratings_df.sort_values('reviewDate').head()"
   ]
  },
  {
   "cell_type": "code",
   "execution_count": 229,
   "id": "7834a82a",
   "metadata": {},
   "outputs": [],
   "source": [
    "reduced['reviewDate'] = pd.to_datetime(reduced.timestamp, unit='s')"
   ]
  },
  {
   "cell_type": "code",
   "execution_count": 230,
   "id": "40370ccf",
   "metadata": {},
   "outputs": [],
   "source": [
    "reduced['reviewYear'] = reduced.reviewDate.dt.year"
   ]
  },
  {
   "cell_type": "code",
   "execution_count": 241,
   "id": "535d968a",
   "metadata": {},
   "outputs": [
    {
     "data": {
      "text/html": [
       "<div>\n",
       "<style scoped>\n",
       "    .dataframe tbody tr th:only-of-type {\n",
       "        vertical-align: middle;\n",
       "    }\n",
       "\n",
       "    .dataframe tbody tr th {\n",
       "        vertical-align: top;\n",
       "    }\n",
       "\n",
       "    .dataframe thead th {\n",
       "        text-align: right;\n",
       "    }\n",
       "</style>\n",
       "<table border=\"1\" class=\"dataframe\">\n",
       "  <thead>\n",
       "    <tr style=\"text-align: right;\">\n",
       "      <th></th>\n",
       "      <th>movieId</th>\n",
       "      <th>title</th>\n",
       "      <th>genres</th>\n",
       "      <th>userId</th>\n",
       "      <th>rating</th>\n",
       "      <th>timestamp</th>\n",
       "      <th>release_year</th>\n",
       "      <th>reviewDate</th>\n",
       "      <th>reviewYear</th>\n",
       "    </tr>\n",
       "  </thead>\n",
       "  <tbody>\n",
       "    <tr>\n",
       "      <th>24778254</th>\n",
       "      <td>174055</td>\n",
       "      <td>Dunkirk (2017)</td>\n",
       "      <td>Action|Drama|Thriller|War</td>\n",
       "      <td>99550</td>\n",
       "      <td>3.0</td>\n",
       "      <td>1513697168</td>\n",
       "      <td>2017</td>\n",
       "      <td>2017-12-19 15:26:08</td>\n",
       "      <td>2017</td>\n",
       "    </tr>\n",
       "    <tr>\n",
       "      <th>17353960</th>\n",
       "      <td>6333</td>\n",
       "      <td>X2: X-Men United (2003)</td>\n",
       "      <td>Action|Adventure|Sci-Fi|Thriller</td>\n",
       "      <td>71503</td>\n",
       "      <td>4.0</td>\n",
       "      <td>1076863224</td>\n",
       "      <td>2003</td>\n",
       "      <td>2004-02-15 16:40:24</td>\n",
       "      <td>2004</td>\n",
       "    </tr>\n",
       "    <tr>\n",
       "      <th>12949678</th>\n",
       "      <td>3096</td>\n",
       "      <td>My Man Godfrey (1957)</td>\n",
       "      <td>Comedy</td>\n",
       "      <td>104141</td>\n",
       "      <td>5.0</td>\n",
       "      <td>1062630866</td>\n",
       "      <td>1957</td>\n",
       "      <td>2003-09-03 23:14:26</td>\n",
       "      <td>2003</td>\n",
       "    </tr>\n",
       "    <tr>\n",
       "      <th>1900211</th>\n",
       "      <td>292</td>\n",
       "      <td>Outbreak (1995)</td>\n",
       "      <td>Action|Drama|Sci-Fi|Thriller</td>\n",
       "      <td>151102</td>\n",
       "      <td>3.0</td>\n",
       "      <td>1322227426</td>\n",
       "      <td>1995</td>\n",
       "      <td>2011-11-25 13:23:46</td>\n",
       "      <td>2011</td>\n",
       "    </tr>\n",
       "    <tr>\n",
       "      <th>13515</th>\n",
       "      <td>1</td>\n",
       "      <td>Toy Story (1995)</td>\n",
       "      <td>Adventure|Animation|Children|Comedy|Fantasy</td>\n",
       "      <td>38282</td>\n",
       "      <td>4.0</td>\n",
       "      <td>1311558556</td>\n",
       "      <td>1995</td>\n",
       "      <td>2011-07-25 01:49:16</td>\n",
       "      <td>2011</td>\n",
       "    </tr>\n",
       "  </tbody>\n",
       "</table>\n",
       "</div>"
      ],
      "text/plain": [
       "          movieId                    title  \\\n",
       "24778254   174055           Dunkirk (2017)   \n",
       "17353960     6333  X2: X-Men United (2003)   \n",
       "12949678     3096    My Man Godfrey (1957)   \n",
       "1900211       292          Outbreak (1995)   \n",
       "13515           1         Toy Story (1995)   \n",
       "\n",
       "                                               genres  userId  rating  \\\n",
       "24778254                    Action|Drama|Thriller|War   99550     3.0   \n",
       "17353960             Action|Adventure|Sci-Fi|Thriller   71503     4.0   \n",
       "12949678                                       Comedy  104141     5.0   \n",
       "1900211                  Action|Drama|Sci-Fi|Thriller  151102     3.0   \n",
       "13515     Adventure|Animation|Children|Comedy|Fantasy   38282     4.0   \n",
       "\n",
       "           timestamp release_year          reviewDate  reviewYear  \n",
       "24778254  1513697168         2017 2017-12-19 15:26:08        2017  \n",
       "17353960  1076863224         2003 2004-02-15 16:40:24        2004  \n",
       "12949678  1062630866         1957 2003-09-03 23:14:26        2003  \n",
       "1900211   1322227426         1995 2011-11-25 13:23:46        2011  \n",
       "13515     1311558556         1995 2011-07-25 01:49:16        2011  "
      ]
     },
     "execution_count": 241,
     "metadata": {},
     "output_type": "execute_result"
    }
   ],
   "source": [
    "reduced.head()"
   ]
  },
  {
   "cell_type": "code",
   "execution_count": 250,
   "id": "6b0cb6a5",
   "metadata": {
    "scrolled": true
   },
   "outputs": [
    {
     "data": {
      "text/html": [
       "<div>\n",
       "<style scoped>\n",
       "    .dataframe tbody tr th:only-of-type {\n",
       "        vertical-align: middle;\n",
       "    }\n",
       "\n",
       "    .dataframe tbody tr th {\n",
       "        vertical-align: top;\n",
       "    }\n",
       "\n",
       "    .dataframe thead th {\n",
       "        text-align: right;\n",
       "    }\n",
       "</style>\n",
       "<table border=\"1\" class=\"dataframe\">\n",
       "  <thead>\n",
       "    <tr style=\"text-align: right;\">\n",
       "      <th></th>\n",
       "      <th>movieId</th>\n",
       "      <th>title</th>\n",
       "      <th>genres</th>\n",
       "      <th>userId</th>\n",
       "      <th>rating</th>\n",
       "      <th>timestamp</th>\n",
       "      <th>release_year</th>\n",
       "      <th>reviewDate</th>\n",
       "      <th>reviewYear</th>\n",
       "    </tr>\n",
       "  </thead>\n",
       "  <tbody>\n",
       "    <tr>\n",
       "      <th>24410586</th>\n",
       "      <td>141628</td>\n",
       "      <td>The Naked Truth (1957) (Your Past Is Showing)</td>\n",
       "      <td>Comedy</td>\n",
       "      <td>77649</td>\n",
       "      <td>3.5</td>\n",
       "      <td>1481739334</td>\n",
       "      <td>Your Past Is Showing</td>\n",
       "      <td>2016-12-14 18:15:34</td>\n",
       "      <td>2016</td>\n",
       "    </tr>\n",
       "    <tr>\n",
       "      <th>24410587</th>\n",
       "      <td>141628</td>\n",
       "      <td>The Naked Truth (1957) (Your Past Is Showing)</td>\n",
       "      <td>Comedy</td>\n",
       "      <td>82138</td>\n",
       "      <td>3.0</td>\n",
       "      <td>1534021606</td>\n",
       "      <td>Your Past Is Showing</td>\n",
       "      <td>2018-08-11 21:06:46</td>\n",
       "      <td>2018</td>\n",
       "    </tr>\n",
       "    <tr>\n",
       "      <th>24410585</th>\n",
       "      <td>141628</td>\n",
       "      <td>The Naked Truth (1957) (Your Past Is Showing)</td>\n",
       "      <td>Comedy</td>\n",
       "      <td>61805</td>\n",
       "      <td>3.5</td>\n",
       "      <td>1516401850</td>\n",
       "      <td>Your Past Is Showing</td>\n",
       "      <td>2018-01-19 22:44:10</td>\n",
       "      <td>2018</td>\n",
       "    </tr>\n",
       "  </tbody>\n",
       "</table>\n",
       "</div>"
      ],
      "text/plain": [
       "          movieId                                          title  genres  \\\n",
       "24410586   141628  The Naked Truth (1957) (Your Past Is Showing)  Comedy   \n",
       "24410587   141628  The Naked Truth (1957) (Your Past Is Showing)  Comedy   \n",
       "24410585   141628  The Naked Truth (1957) (Your Past Is Showing)  Comedy   \n",
       "\n",
       "          userId  rating   timestamp          release_year  \\\n",
       "24410586   77649     3.5  1481739334  Your Past Is Showing   \n",
       "24410587   82138     3.0  1534021606  Your Past Is Showing   \n",
       "24410585   61805     3.5  1516401850  Your Past Is Showing   \n",
       "\n",
       "                  reviewDate  reviewYear  \n",
       "24410586 2016-12-14 18:15:34        2016  \n",
       "24410587 2018-08-11 21:06:46        2018  \n",
       "24410585 2018-01-19 22:44:10        2018  "
      ]
     },
     "execution_count": 250,
     "metadata": {},
     "output_type": "execute_result"
    }
   ],
   "source": [
    "reduced[reduced.release_year == '2006–2007']"
   ]
  },
  {
   "cell_type": "code",
   "execution_count": 248,
   "id": "4c87f1b2",
   "metadata": {},
   "outputs": [],
   "source": [
    "reduced = reduced.drop([24754529, 24754485, 24754389], axis=0)"
   ]
  },
  {
   "cell_type": "code",
   "execution_count": 251,
   "id": "6408e2d9",
   "metadata": {},
   "outputs": [
    {
     "data": {
      "text/html": [
       "<div>\n",
       "<style scoped>\n",
       "    .dataframe tbody tr th:only-of-type {\n",
       "        vertical-align: middle;\n",
       "    }\n",
       "\n",
       "    .dataframe tbody tr th {\n",
       "        vertical-align: top;\n",
       "    }\n",
       "\n",
       "    .dataframe thead th {\n",
       "        text-align: right;\n",
       "    }\n",
       "</style>\n",
       "<table border=\"1\" class=\"dataframe\">\n",
       "  <thead>\n",
       "    <tr style=\"text-align: right;\">\n",
       "      <th></th>\n",
       "      <th>movieId</th>\n",
       "      <th>title</th>\n",
       "      <th>genres</th>\n",
       "      <th>userId</th>\n",
       "      <th>rating</th>\n",
       "      <th>timestamp</th>\n",
       "      <th>release_year</th>\n",
       "      <th>reviewDate</th>\n",
       "      <th>reviewYear</th>\n",
       "    </tr>\n",
       "  </thead>\n",
       "  <tbody>\n",
       "    <tr>\n",
       "      <th>24410586</th>\n",
       "      <td>141628</td>\n",
       "      <td>The Naked Truth (1957) (Your Past Is Showing)</td>\n",
       "      <td>Comedy</td>\n",
       "      <td>77649</td>\n",
       "      <td>3.5</td>\n",
       "      <td>1481739334</td>\n",
       "      <td>Your Past Is Showing</td>\n",
       "      <td>2016-12-14 18:15:34</td>\n",
       "      <td>2016</td>\n",
       "    </tr>\n",
       "    <tr>\n",
       "      <th>24410587</th>\n",
       "      <td>141628</td>\n",
       "      <td>The Naked Truth (1957) (Your Past Is Showing)</td>\n",
       "      <td>Comedy</td>\n",
       "      <td>82138</td>\n",
       "      <td>3.0</td>\n",
       "      <td>1534021606</td>\n",
       "      <td>Your Past Is Showing</td>\n",
       "      <td>2018-08-11 21:06:46</td>\n",
       "      <td>2018</td>\n",
       "    </tr>\n",
       "    <tr>\n",
       "      <th>24410585</th>\n",
       "      <td>141628</td>\n",
       "      <td>The Naked Truth (1957) (Your Past Is Showing)</td>\n",
       "      <td>Comedy</td>\n",
       "      <td>61805</td>\n",
       "      <td>3.5</td>\n",
       "      <td>1516401850</td>\n",
       "      <td>Your Past Is Showing</td>\n",
       "      <td>2018-01-19 22:44:10</td>\n",
       "      <td>2018</td>\n",
       "    </tr>\n",
       "  </tbody>\n",
       "</table>\n",
       "</div>"
      ],
      "text/plain": [
       "          movieId                                          title  genres  \\\n",
       "24410586   141628  The Naked Truth (1957) (Your Past Is Showing)  Comedy   \n",
       "24410587   141628  The Naked Truth (1957) (Your Past Is Showing)  Comedy   \n",
       "24410585   141628  The Naked Truth (1957) (Your Past Is Showing)  Comedy   \n",
       "\n",
       "          userId  rating   timestamp          release_year  \\\n",
       "24410586   77649     3.5  1481739334  Your Past Is Showing   \n",
       "24410587   82138     3.0  1534021606  Your Past Is Showing   \n",
       "24410585   61805     3.5  1516401850  Your Past Is Showing   \n",
       "\n",
       "                  reviewDate  reviewYear  \n",
       "24410586 2016-12-14 18:15:34        2016  \n",
       "24410587 2018-08-11 21:06:46        2018  \n",
       "24410585 2018-01-19 22:44:10        2018  "
      ]
     },
     "execution_count": 251,
     "metadata": {},
     "output_type": "execute_result"
    }
   ],
   "source": [
    "reduced[reduced.release_year == 'Your Past Is Showing']"
   ]
  },
  {
   "cell_type": "code",
   "execution_count": 252,
   "id": "5f1a3bba",
   "metadata": {},
   "outputs": [],
   "source": [
    "reduced = reduced.drop([24410586, 24410587, 24410585], axis=0)"
   ]
  },
  {
   "cell_type": "code",
   "execution_count": 263,
   "id": "a1088acc",
   "metadata": {},
   "outputs": [],
   "source": [
    "reduced.release_year = pd.to_numeric(reduced.release_year)"
   ]
  },
  {
   "cell_type": "code",
   "execution_count": 262,
   "id": "77721307",
   "metadata": {},
   "outputs": [
    {
     "data": {
      "text/html": [
       "<div>\n",
       "<style scoped>\n",
       "    .dataframe tbody tr th:only-of-type {\n",
       "        vertical-align: middle;\n",
       "    }\n",
       "\n",
       "    .dataframe tbody tr th {\n",
       "        vertical-align: top;\n",
       "    }\n",
       "\n",
       "    .dataframe thead th {\n",
       "        text-align: right;\n",
       "    }\n",
       "</style>\n",
       "<table border=\"1\" class=\"dataframe\">\n",
       "  <thead>\n",
       "    <tr style=\"text-align: right;\">\n",
       "      <th></th>\n",
       "      <th>movieId</th>\n",
       "      <th>title</th>\n",
       "      <th>genres</th>\n",
       "      <th>userId</th>\n",
       "      <th>rating</th>\n",
       "      <th>timestamp</th>\n",
       "      <th>release_year</th>\n",
       "      <th>reviewDate</th>\n",
       "      <th>reviewYear</th>\n",
       "    </tr>\n",
       "  </thead>\n",
       "  <tbody>\n",
       "    <tr>\n",
       "      <th>24778254</th>\n",
       "      <td>174055</td>\n",
       "      <td>Dunkirk (2017)</td>\n",
       "      <td>Action|Drama|Thriller|War</td>\n",
       "      <td>99550</td>\n",
       "      <td>3.0</td>\n",
       "      <td>1513697168</td>\n",
       "      <td>2017.0</td>\n",
       "      <td>2017-12-19 15:26:08</td>\n",
       "      <td>2017</td>\n",
       "    </tr>\n",
       "    <tr>\n",
       "      <th>17353960</th>\n",
       "      <td>6333</td>\n",
       "      <td>X2: X-Men United (2003)</td>\n",
       "      <td>Action|Adventure|Sci-Fi|Thriller</td>\n",
       "      <td>71503</td>\n",
       "      <td>4.0</td>\n",
       "      <td>1076863224</td>\n",
       "      <td>2003.0</td>\n",
       "      <td>2004-02-15 16:40:24</td>\n",
       "      <td>2004</td>\n",
       "    </tr>\n",
       "    <tr>\n",
       "      <th>12949678</th>\n",
       "      <td>3096</td>\n",
       "      <td>My Man Godfrey (1957)</td>\n",
       "      <td>Comedy</td>\n",
       "      <td>104141</td>\n",
       "      <td>5.0</td>\n",
       "      <td>1062630866</td>\n",
       "      <td>1957.0</td>\n",
       "      <td>2003-09-03 23:14:26</td>\n",
       "      <td>2003</td>\n",
       "    </tr>\n",
       "    <tr>\n",
       "      <th>1900211</th>\n",
       "      <td>292</td>\n",
       "      <td>Outbreak (1995)</td>\n",
       "      <td>Action|Drama|Sci-Fi|Thriller</td>\n",
       "      <td>151102</td>\n",
       "      <td>3.0</td>\n",
       "      <td>1322227426</td>\n",
       "      <td>1995.0</td>\n",
       "      <td>2011-11-25 13:23:46</td>\n",
       "      <td>2011</td>\n",
       "    </tr>\n",
       "    <tr>\n",
       "      <th>13515</th>\n",
       "      <td>1</td>\n",
       "      <td>Toy Story (1995)</td>\n",
       "      <td>Adventure|Animation|Children|Comedy|Fantasy</td>\n",
       "      <td>38282</td>\n",
       "      <td>4.0</td>\n",
       "      <td>1311558556</td>\n",
       "      <td>1995.0</td>\n",
       "      <td>2011-07-25 01:49:16</td>\n",
       "      <td>2011</td>\n",
       "    </tr>\n",
       "    <tr>\n",
       "      <th>...</th>\n",
       "      <td>...</td>\n",
       "      <td>...</td>\n",
       "      <td>...</td>\n",
       "      <td>...</td>\n",
       "      <td>...</td>\n",
       "      <td>...</td>\n",
       "      <td>...</td>\n",
       "      <td>...</td>\n",
       "      <td>...</td>\n",
       "    </tr>\n",
       "    <tr>\n",
       "      <th>21737037</th>\n",
       "      <td>68358</td>\n",
       "      <td>Star Trek (2009)</td>\n",
       "      <td>Action|Adventure|Sci-Fi|IMAX</td>\n",
       "      <td>157694</td>\n",
       "      <td>2.0</td>\n",
       "      <td>1550939552</td>\n",
       "      <td>2009.0</td>\n",
       "      <td>2019-02-23 16:32:32</td>\n",
       "      <td>2019</td>\n",
       "    </tr>\n",
       "    <tr>\n",
       "      <th>612888</th>\n",
       "      <td>50</td>\n",
       "      <td>Usual Suspects, The (1995)</td>\n",
       "      <td>Crime|Mystery|Thriller</td>\n",
       "      <td>72871</td>\n",
       "      <td>4.0</td>\n",
       "      <td>1204003809</td>\n",
       "      <td>1995.0</td>\n",
       "      <td>2008-02-26 05:30:09</td>\n",
       "      <td>2008</td>\n",
       "    </tr>\n",
       "    <tr>\n",
       "      <th>17730463</th>\n",
       "      <td>6753</td>\n",
       "      <td>Secondhand Lions (2003)</td>\n",
       "      <td>Children|Comedy|Drama</td>\n",
       "      <td>86113</td>\n",
       "      <td>3.5</td>\n",
       "      <td>1142647689</td>\n",
       "      <td>2003.0</td>\n",
       "      <td>2006-03-18 02:08:09</td>\n",
       "      <td>2006</td>\n",
       "    </tr>\n",
       "    <tr>\n",
       "      <th>6304938</th>\n",
       "      <td>1198</td>\n",
       "      <td>Raiders of the Lost Ark (Indiana Jones and the...</td>\n",
       "      <td>Action|Adventure</td>\n",
       "      <td>50309</td>\n",
       "      <td>5.0</td>\n",
       "      <td>1111698501</td>\n",
       "      <td>1981.0</td>\n",
       "      <td>2005-03-24 21:08:21</td>\n",
       "      <td>2005</td>\n",
       "    </tr>\n",
       "    <tr>\n",
       "      <th>23791028</th>\n",
       "      <td>112171</td>\n",
       "      <td>Equalizer, The (2014)</td>\n",
       "      <td>Action|Crime|Thriller</td>\n",
       "      <td>43088</td>\n",
       "      <td>3.5</td>\n",
       "      <td>1473404011</td>\n",
       "      <td>2014.0</td>\n",
       "      <td>2016-09-09 06:53:31</td>\n",
       "      <td>2016</td>\n",
       "    </tr>\n",
       "  </tbody>\n",
       "</table>\n",
       "<p>999994 rows × 9 columns</p>\n",
       "</div>"
      ],
      "text/plain": [
       "          movieId                                              title  \\\n",
       "24778254   174055                                     Dunkirk (2017)   \n",
       "17353960     6333                            X2: X-Men United (2003)   \n",
       "12949678     3096                              My Man Godfrey (1957)   \n",
       "1900211       292                                    Outbreak (1995)   \n",
       "13515           1                                   Toy Story (1995)   \n",
       "...           ...                                                ...   \n",
       "21737037    68358                                   Star Trek (2009)   \n",
       "612888         50                         Usual Suspects, The (1995)   \n",
       "17730463     6753                            Secondhand Lions (2003)   \n",
       "6304938      1198  Raiders of the Lost Ark (Indiana Jones and the...   \n",
       "23791028   112171                              Equalizer, The (2014)   \n",
       "\n",
       "                                               genres  userId  rating  \\\n",
       "24778254                    Action|Drama|Thriller|War   99550     3.0   \n",
       "17353960             Action|Adventure|Sci-Fi|Thriller   71503     4.0   \n",
       "12949678                                       Comedy  104141     5.0   \n",
       "1900211                  Action|Drama|Sci-Fi|Thriller  151102     3.0   \n",
       "13515     Adventure|Animation|Children|Comedy|Fantasy   38282     4.0   \n",
       "...                                               ...     ...     ...   \n",
       "21737037                 Action|Adventure|Sci-Fi|IMAX  157694     2.0   \n",
       "612888                         Crime|Mystery|Thriller   72871     4.0   \n",
       "17730463                        Children|Comedy|Drama   86113     3.5   \n",
       "6304938                              Action|Adventure   50309     5.0   \n",
       "23791028                        Action|Crime|Thriller   43088     3.5   \n",
       "\n",
       "           timestamp  release_year          reviewDate  reviewYear  \n",
       "24778254  1513697168        2017.0 2017-12-19 15:26:08        2017  \n",
       "17353960  1076863224        2003.0 2004-02-15 16:40:24        2004  \n",
       "12949678  1062630866        1957.0 2003-09-03 23:14:26        2003  \n",
       "1900211   1322227426        1995.0 2011-11-25 13:23:46        2011  \n",
       "13515     1311558556        1995.0 2011-07-25 01:49:16        2011  \n",
       "...              ...           ...                 ...         ...  \n",
       "21737037  1550939552        2009.0 2019-02-23 16:32:32        2019  \n",
       "612888    1204003809        1995.0 2008-02-26 05:30:09        2008  \n",
       "17730463  1142647689        2003.0 2006-03-18 02:08:09        2006  \n",
       "6304938   1111698501        1981.0 2005-03-24 21:08:21        2005  \n",
       "23791028  1473404011        2014.0 2016-09-09 06:53:31        2016  \n",
       "\n",
       "[999994 rows x 9 columns]"
      ]
     },
     "execution_count": 262,
     "metadata": {},
     "output_type": "execute_result"
    }
   ],
   "source": [
    "reduced"
   ]
  },
  {
   "cell_type": "code",
   "execution_count": 264,
   "id": "f7785e7f",
   "metadata": {},
   "outputs": [],
   "source": [
    "def ratings_by_review_year(genre, year):\n",
    "    df = reduced[reduced['genres'].str.contains(genre, regex=False)]\n",
    "    year_df = df.loc[(df.reviewYear >= year) & (df.release_year >= year)]\n",
    "    avg_rating = year_df.groupby('reviewYear')['rating'].mean()\n",
    "    return avg_rating"
   ]
  },
  {
   "cell_type": "code",
   "execution_count": null,
   "id": "aef07bea",
   "metadata": {},
   "outputs": [],
   "source": []
  },
  {
   "cell_type": "code",
   "execution_count": 265,
   "id": "adf7d2da",
   "metadata": {},
   "outputs": [],
   "source": [
    "def plot_review_by_year(genres, year):\n",
    "    titles = []\n",
    "    for genre in genres:\n",
    "        df = reduced[reduced['genres'].str.contains(genre, regex=False)]\n",
    "        year_df = df.loc[df.reviewYear >= year]\n",
    "        avg_rating = year_df.groupby('reviewYear')['rating'].mean()\n",
    "        \n",
    "        plt.plot(avg_rating, label=genre)\n",
    "        plt.ylim(3.0,4.5)\n",
    "        plt.xlabel(\"Year of Review\")\n",
    "        plt.ylabel(\"Average Rating\")\n",
    "        plt.xticks(range(year,2019)[::4])\n",
    "        plt.legend(loc=\"upper right\")\n",
    "        titles.append(genre)\n",
    "    plt.title(f'Movies by Review Year')\n",
    "    plt.savefig(f'images/by_review_year/{titles[0]}-{titles[1]}')\n",
    "    plt.show()"
   ]
  },
  {
   "cell_type": "code",
   "execution_count": 266,
   "id": "4a16e4c0",
   "metadata": {},
   "outputs": [
    {
     "data": {
      "text/plain": [
       "['Comedy',\n",
       " 'Adventure',\n",
       " 'Animation',\n",
       " 'Children',\n",
       " 'Fantasy',\n",
       " 'Romance',\n",
       " 'Drama',\n",
       " 'Documentary',\n",
       " 'Action',\n",
       " 'Horror',\n",
       " 'Mystery',\n",
       " 'Sci-Fi',\n",
       " 'Western',\n",
       " 'Crime',\n",
       " 'Thriller',\n",
       " 'Film-Noir',\n",
       " 'Musical',\n",
       " 'War']"
      ]
     },
     "execution_count": 266,
     "metadata": {},
     "output_type": "execute_result"
    }
   ],
   "source": [
    "genres"
   ]
  },
  {
   "cell_type": "code",
   "execution_count": 267,
   "id": "f137403e",
   "metadata": {},
   "outputs": [
    {
     "data": {
      "image/png": "[encoded data removed]",
      "text/plain": [
       "<Figure size 432x288 with 1 Axes>"
      ]
     },
     "metadata": {
      "needs_background": "light"
     },
     "output_type": "display_data"
    }
   ],
   "source": [
    "plot_review_by_year(['War','Action'], 2000)"
   ]
  },
  {
   "cell_type": "code",
   "execution_count": 268,
   "id": "8c99164a",
   "metadata": {},
   "outputs": [
    {
     "data": {
      "image/png": "[encoded data removed]",
      "text/plain": [
       "<Figure size 432x288 with 1 Axes>"
      ]
     },
     "metadata": {
      "needs_background": "light"
     },
     "output_type": "display_data"
    }
   ],
   "source": [
    "plot_review_by_year(['Animation','Adventure','Children'],1995)"
   ]
  },
  {
   "cell_type": "code",
   "execution_count": 270,
   "id": "2841c836",
   "metadata": {},
   "outputs": [
    {
     "data": {
      "image/png": "[encoded data removed]",
      "text/plain": [
       "<Figure size 432x288 with 1 Axes>"
      ]
     },
     "metadata": {
      "needs_background": "light"
     },
     "output_type": "display_data"
    }
   ],
   "source": [
    "plot_review_by_year(['Thriller','Mystery','Horror'],2000)"
   ]
  },
  {
   "cell_type": "code",
   "execution_count": null,
   "id": "8e144c0f",
   "metadata": {},
   "outputs": [],
   "source": []
  }
 ],
 "metadata": {
  "kernelspec": {
   "display_name": "Python 3 (ipykernel)",
   "language": "python",
   "name": "python3"
  },
  "language_info": {
   "codemirror_mode": {
    "name": "ipython",
    "version": 3
   },
   "file_extension": ".py",
   "mimetype": "text/x-python",
   "name": "python",
   "nbconvert_exporter": "python",
   "pygments_lexer": "ipython3",
   "version": "3.9.7"
  }
 },
 "nbformat": 4,
 "nbformat_minor": 5
}
