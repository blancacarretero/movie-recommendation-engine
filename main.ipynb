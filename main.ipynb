{
 "cells": [
  {
   "cell_type": "code",
   "execution_count": 3,
   "id": "3095fb72",
   "metadata": {},
   "outputs": [],
   "source": [
    "import numpy as np\n",
    "import pandas as pd\n",
    "import matplotlib.pyplot as plt\n",
    "from sklearn.model_selection import train_test_split\n",
    "from sklearn.linear_model import LogisticRegression"
   ]
  },
  {
   "cell_type": "code",
   "execution_count": 4,
   "id": "fbdc80d3",
   "metadata": {},
   "outputs": [],
   "source": [
    "csv1 = \"movie_data/movies.csv\"\n",
    "csv2 = \"movie_data/ratings.csv\"\n",
    "csv3 = \"movie_data/genome-scores.csv\"\n",
    "csv4 = \"movie_data/genome-tags.csv\"\n",
    "csv5 = \"movie_data/links.csv\"\n",
    "csv6 = \"movie_data/tags.csv\""
   ]
  },
  {
   "cell_type": "code",
   "execution_count": 5,
   "id": "e7f53eca",
   "metadata": {},
   "outputs": [],
   "source": [
    "movies_df = pd.read_csv(csv1)\n",
    "ratings_df = pd.read_csv(csv2)\n",
    "genome_scores_df = pd.read_csv(csv3)\n",
    "genome_tags_df = pd.read_csv(csv4)\n",
    "links_df = pd.read_csv(csv5)\n",
    "tags_df = pd.read_csv(csv6)"
   ]
  },
  {
   "cell_type": "code",
   "execution_count": 6,
   "id": "c5ec3b14",
   "metadata": {},
   "outputs": [
    {
     "name": "stdout",
     "output_type": "stream",
     "text": [
      "62423 movies\n",
      "25000095 ratings\n"
     ]
    }
   ],
   "source": [
    "print(f'{len(movies_df)} movies')\n",
    "print(f'{len(ratings_df)} ratings')"
   ]
  },
  {
   "cell_type": "code",
   "execution_count": 7,
   "id": "56ebd334",
   "metadata": {
    "scrolled": true
   },
   "outputs": [
    {
     "data": {
      "text/html": [
       "<div>\n",
       "<style scoped>\n",
       "    .dataframe tbody tr th:only-of-type {\n",
       "        vertical-align: middle;\n",
       "    }\n",
       "\n",
       "    .dataframe tbody tr th {\n",
       "        vertical-align: top;\n",
       "    }\n",
       "\n",
       "    .dataframe thead th {\n",
       "        text-align: right;\n",
       "    }\n",
       "</style>\n",
       "<table border=\"1\" class=\"dataframe\">\n",
       "  <thead>\n",
       "    <tr style=\"text-align: right;\">\n",
       "      <th></th>\n",
       "      <th>userId</th>\n",
       "      <th>movieId</th>\n",
       "      <th>rating</th>\n",
       "      <th>timestamp</th>\n",
       "    </tr>\n",
       "  </thead>\n",
       "  <tbody>\n",
       "    <tr>\n",
       "      <th>0</th>\n",
       "      <td>1</td>\n",
       "      <td>296</td>\n",
       "      <td>5.0</td>\n",
       "      <td>1147880044</td>\n",
       "    </tr>\n",
       "    <tr>\n",
       "      <th>1</th>\n",
       "      <td>1</td>\n",
       "      <td>306</td>\n",
       "      <td>3.5</td>\n",
       "      <td>1147868817</td>\n",
       "    </tr>\n",
       "    <tr>\n",
       "      <th>2</th>\n",
       "      <td>1</td>\n",
       "      <td>307</td>\n",
       "      <td>5.0</td>\n",
       "      <td>1147868828</td>\n",
       "    </tr>\n",
       "    <tr>\n",
       "      <th>3</th>\n",
       "      <td>1</td>\n",
       "      <td>665</td>\n",
       "      <td>5.0</td>\n",
       "      <td>1147878820</td>\n",
       "    </tr>\n",
       "    <tr>\n",
       "      <th>4</th>\n",
       "      <td>1</td>\n",
       "      <td>899</td>\n",
       "      <td>3.5</td>\n",
       "      <td>1147868510</td>\n",
       "    </tr>\n",
       "  </tbody>\n",
       "</table>\n",
       "</div>"
      ],
      "text/plain": [
       "   userId  movieId  rating   timestamp\n",
       "0       1      296     5.0  1147880044\n",
       "1       1      306     3.5  1147868817\n",
       "2       1      307     5.0  1147868828\n",
       "3       1      665     5.0  1147878820\n",
       "4       1      899     3.5  1147868510"
      ]
     },
     "execution_count": 7,
     "metadata": {},
     "output_type": "execute_result"
    }
   ],
   "source": [
    "ratings_df.head()"
   ]
  },
  {
   "cell_type": "code",
   "execution_count": 8,
   "id": "48c41f26",
   "metadata": {},
   "outputs": [],
   "source": [
    "# # Number of ratings for each userId\n",
    "# ratings_df.groupby(ratings_df['userId'])['rating'].count()"
   ]
  },
  {
   "cell_type": "code",
   "execution_count": 9,
   "id": "347ebdbb",
   "metadata": {
    "scrolled": false
   },
   "outputs": [
    {
     "data": {
      "text/html": [
       "<div>\n",
       "<style scoped>\n",
       "    .dataframe tbody tr th:only-of-type {\n",
       "        vertical-align: middle;\n",
       "    }\n",
       "\n",
       "    .dataframe tbody tr th {\n",
       "        vertical-align: top;\n",
       "    }\n",
       "\n",
       "    .dataframe thead th {\n",
       "        text-align: right;\n",
       "    }\n",
       "</style>\n",
       "<table border=\"1\" class=\"dataframe\">\n",
       "  <thead>\n",
       "    <tr style=\"text-align: right;\">\n",
       "      <th></th>\n",
       "      <th>movieId</th>\n",
       "      <th>tagId</th>\n",
       "      <th>relevance</th>\n",
       "    </tr>\n",
       "  </thead>\n",
       "  <tbody>\n",
       "    <tr>\n",
       "      <th>0</th>\n",
       "      <td>1</td>\n",
       "      <td>1</td>\n",
       "      <td>0.02875</td>\n",
       "    </tr>\n",
       "    <tr>\n",
       "      <th>1</th>\n",
       "      <td>1</td>\n",
       "      <td>2</td>\n",
       "      <td>0.02375</td>\n",
       "    </tr>\n",
       "    <tr>\n",
       "      <th>2</th>\n",
       "      <td>1</td>\n",
       "      <td>3</td>\n",
       "      <td>0.06250</td>\n",
       "    </tr>\n",
       "    <tr>\n",
       "      <th>3</th>\n",
       "      <td>1</td>\n",
       "      <td>4</td>\n",
       "      <td>0.07575</td>\n",
       "    </tr>\n",
       "    <tr>\n",
       "      <th>4</th>\n",
       "      <td>1</td>\n",
       "      <td>5</td>\n",
       "      <td>0.14075</td>\n",
       "    </tr>\n",
       "  </tbody>\n",
       "</table>\n",
       "</div>"
      ],
      "text/plain": [
       "   movieId  tagId  relevance\n",
       "0        1      1    0.02875\n",
       "1        1      2    0.02375\n",
       "2        1      3    0.06250\n",
       "3        1      4    0.07575\n",
       "4        1      5    0.14075"
      ]
     },
     "execution_count": 9,
     "metadata": {},
     "output_type": "execute_result"
    }
   ],
   "source": [
    "genome_scores_df.head()"
   ]
  },
  {
   "cell_type": "code",
   "execution_count": 10,
   "id": "1aecdf55",
   "metadata": {},
   "outputs": [],
   "source": [
    "relevant_genome_scores_df = genome_scores_df.loc[genome_scores_df['relevance'] > .85]"
   ]
  },
  {
   "cell_type": "code",
   "execution_count": 11,
   "id": "9c344d28",
   "metadata": {},
   "outputs": [
    {
     "data": {
      "text/html": [
       "<div>\n",
       "<style scoped>\n",
       "    .dataframe tbody tr th:only-of-type {\n",
       "        vertical-align: middle;\n",
       "    }\n",
       "\n",
       "    .dataframe tbody tr th {\n",
       "        vertical-align: top;\n",
       "    }\n",
       "\n",
       "    .dataframe thead th {\n",
       "        text-align: right;\n",
       "    }\n",
       "</style>\n",
       "<table border=\"1\" class=\"dataframe\">\n",
       "  <thead>\n",
       "    <tr style=\"text-align: right;\">\n",
       "      <th></th>\n",
       "      <th>tagId</th>\n",
       "      <th>tag</th>\n",
       "    </tr>\n",
       "  </thead>\n",
       "  <tbody>\n",
       "    <tr>\n",
       "      <th>0</th>\n",
       "      <td>1</td>\n",
       "      <td>007</td>\n",
       "    </tr>\n",
       "    <tr>\n",
       "      <th>1</th>\n",
       "      <td>2</td>\n",
       "      <td>007 (series)</td>\n",
       "    </tr>\n",
       "    <tr>\n",
       "      <th>2</th>\n",
       "      <td>3</td>\n",
       "      <td>18th century</td>\n",
       "    </tr>\n",
       "    <tr>\n",
       "      <th>3</th>\n",
       "      <td>4</td>\n",
       "      <td>1920s</td>\n",
       "    </tr>\n",
       "    <tr>\n",
       "      <th>4</th>\n",
       "      <td>5</td>\n",
       "      <td>1930s</td>\n",
       "    </tr>\n",
       "  </tbody>\n",
       "</table>\n",
       "</div>"
      ],
      "text/plain": [
       "   tagId           tag\n",
       "0      1           007\n",
       "1      2  007 (series)\n",
       "2      3  18th century\n",
       "3      4         1920s\n",
       "4      5         1930s"
      ]
     },
     "execution_count": 11,
     "metadata": {},
     "output_type": "execute_result"
    }
   ],
   "source": [
    "genome_tags_df.head()"
   ]
  },
  {
   "cell_type": "code",
   "execution_count": 12,
   "id": "6d18cee6",
   "metadata": {},
   "outputs": [
    {
     "data": {
      "text/html": [
       "<div>\n",
       "<style scoped>\n",
       "    .dataframe tbody tr th:only-of-type {\n",
       "        vertical-align: middle;\n",
       "    }\n",
       "\n",
       "    .dataframe tbody tr th {\n",
       "        vertical-align: top;\n",
       "    }\n",
       "\n",
       "    .dataframe thead th {\n",
       "        text-align: right;\n",
       "    }\n",
       "</style>\n",
       "<table border=\"1\" class=\"dataframe\">\n",
       "  <thead>\n",
       "    <tr style=\"text-align: right;\">\n",
       "      <th></th>\n",
       "      <th>movieId</th>\n",
       "      <th>imdbId</th>\n",
       "      <th>tmdbId</th>\n",
       "    </tr>\n",
       "  </thead>\n",
       "  <tbody>\n",
       "    <tr>\n",
       "      <th>0</th>\n",
       "      <td>1</td>\n",
       "      <td>114709</td>\n",
       "      <td>862.0</td>\n",
       "    </tr>\n",
       "    <tr>\n",
       "      <th>1</th>\n",
       "      <td>2</td>\n",
       "      <td>113497</td>\n",
       "      <td>8844.0</td>\n",
       "    </tr>\n",
       "    <tr>\n",
       "      <th>2</th>\n",
       "      <td>3</td>\n",
       "      <td>113228</td>\n",
       "      <td>15602.0</td>\n",
       "    </tr>\n",
       "    <tr>\n",
       "      <th>3</th>\n",
       "      <td>4</td>\n",
       "      <td>114885</td>\n",
       "      <td>31357.0</td>\n",
       "    </tr>\n",
       "    <tr>\n",
       "      <th>4</th>\n",
       "      <td>5</td>\n",
       "      <td>113041</td>\n",
       "      <td>11862.0</td>\n",
       "    </tr>\n",
       "  </tbody>\n",
       "</table>\n",
       "</div>"
      ],
      "text/plain": [
       "   movieId  imdbId   tmdbId\n",
       "0        1  114709    862.0\n",
       "1        2  113497   8844.0\n",
       "2        3  113228  15602.0\n",
       "3        4  114885  31357.0\n",
       "4        5  113041  11862.0"
      ]
     },
     "execution_count": 12,
     "metadata": {},
     "output_type": "execute_result"
    }
   ],
   "source": [
    "links_df.head()"
   ]
  },
  {
   "cell_type": "code",
   "execution_count": 13,
   "id": "ef247f8e",
   "metadata": {
    "scrolled": false
   },
   "outputs": [
    {
     "data": {
      "text/html": [
       "<div>\n",
       "<style scoped>\n",
       "    .dataframe tbody tr th:only-of-type {\n",
       "        vertical-align: middle;\n",
       "    }\n",
       "\n",
       "    .dataframe tbody tr th {\n",
       "        vertical-align: top;\n",
       "    }\n",
       "\n",
       "    .dataframe thead th {\n",
       "        text-align: right;\n",
       "    }\n",
       "</style>\n",
       "<table border=\"1\" class=\"dataframe\">\n",
       "  <thead>\n",
       "    <tr style=\"text-align: right;\">\n",
       "      <th></th>\n",
       "      <th>userId</th>\n",
       "      <th>movieId</th>\n",
       "      <th>tag</th>\n",
       "      <th>timestamp</th>\n",
       "    </tr>\n",
       "  </thead>\n",
       "  <tbody>\n",
       "    <tr>\n",
       "      <th>0</th>\n",
       "      <td>3</td>\n",
       "      <td>260</td>\n",
       "      <td>classic</td>\n",
       "      <td>1439472355</td>\n",
       "    </tr>\n",
       "    <tr>\n",
       "      <th>1</th>\n",
       "      <td>3</td>\n",
       "      <td>260</td>\n",
       "      <td>sci-fi</td>\n",
       "      <td>1439472256</td>\n",
       "    </tr>\n",
       "    <tr>\n",
       "      <th>2</th>\n",
       "      <td>4</td>\n",
       "      <td>1732</td>\n",
       "      <td>dark comedy</td>\n",
       "      <td>1573943598</td>\n",
       "    </tr>\n",
       "    <tr>\n",
       "      <th>3</th>\n",
       "      <td>4</td>\n",
       "      <td>1732</td>\n",
       "      <td>great dialogue</td>\n",
       "      <td>1573943604</td>\n",
       "    </tr>\n",
       "    <tr>\n",
       "      <th>4</th>\n",
       "      <td>4</td>\n",
       "      <td>7569</td>\n",
       "      <td>so bad it's good</td>\n",
       "      <td>1573943455</td>\n",
       "    </tr>\n",
       "  </tbody>\n",
       "</table>\n",
       "</div>"
      ],
      "text/plain": [
       "   userId  movieId               tag   timestamp\n",
       "0       3      260           classic  1439472355\n",
       "1       3      260            sci-fi  1439472256\n",
       "2       4     1732       dark comedy  1573943598\n",
       "3       4     1732    great dialogue  1573943604\n",
       "4       4     7569  so bad it's good  1573943455"
      ]
     },
     "execution_count": 13,
     "metadata": {},
     "output_type": "execute_result"
    }
   ],
   "source": [
    "tags_df.head()"
   ]
  },
  {
   "cell_type": "code",
   "execution_count": 14,
   "id": "d1005eac",
   "metadata": {
    "scrolled": true
   },
   "outputs": [
    {
     "data": {
      "text/html": [
       "<div>\n",
       "<style scoped>\n",
       "    .dataframe tbody tr th:only-of-type {\n",
       "        vertical-align: middle;\n",
       "    }\n",
       "\n",
       "    .dataframe tbody tr th {\n",
       "        vertical-align: top;\n",
       "    }\n",
       "\n",
       "    .dataframe thead th {\n",
       "        text-align: right;\n",
       "    }\n",
       "</style>\n",
       "<table border=\"1\" class=\"dataframe\">\n",
       "  <thead>\n",
       "    <tr style=\"text-align: right;\">\n",
       "      <th></th>\n",
       "      <th>userId</th>\n",
       "      <th>movieId</th>\n",
       "      <th>rating</th>\n",
       "    </tr>\n",
       "  </thead>\n",
       "  <tbody>\n",
       "    <tr>\n",
       "      <th>0</th>\n",
       "      <td>1</td>\n",
       "      <td>296</td>\n",
       "      <td>5.0</td>\n",
       "    </tr>\n",
       "    <tr>\n",
       "      <th>1</th>\n",
       "      <td>3</td>\n",
       "      <td>296</td>\n",
       "      <td>5.0</td>\n",
       "    </tr>\n",
       "    <tr>\n",
       "      <th>2</th>\n",
       "      <td>4</td>\n",
       "      <td>296</td>\n",
       "      <td>4.0</td>\n",
       "    </tr>\n",
       "    <tr>\n",
       "      <th>3</th>\n",
       "      <td>5</td>\n",
       "      <td>296</td>\n",
       "      <td>4.0</td>\n",
       "    </tr>\n",
       "    <tr>\n",
       "      <th>4</th>\n",
       "      <td>7</td>\n",
       "      <td>296</td>\n",
       "      <td>4.0</td>\n",
       "    </tr>\n",
       "  </tbody>\n",
       "</table>\n",
       "</div>"
      ],
      "text/plain": [
       "   userId  movieId  rating\n",
       "0       1      296     5.0\n",
       "1       3      296     5.0\n",
       "2       4      296     4.0\n",
       "3       5      296     4.0\n",
       "4       7      296     4.0"
      ]
     },
     "execution_count": 14,
     "metadata": {},
     "output_type": "execute_result"
    }
   ],
   "source": [
    "new_df = ratings_df.merge(movies_df, how=\"inner\")\n",
    "new_df = new_df.drop(columns=['title', 'genres', 'timestamp'])\n",
    "new_df.head()"
   ]
  },
  {
   "cell_type": "code",
   "execution_count": 15,
   "id": "663433e2",
   "metadata": {},
   "outputs": [],
   "source": [
    "new_df[\"rating\"] = np.where(new_df[\"rating\"] >= 3.5, 1, 0)"
   ]
  },
  {
   "cell_type": "code",
   "execution_count": 16,
   "id": "0236c2f8",
   "metadata": {},
   "outputs": [
    {
     "data": {
      "text/html": [
       "<div>\n",
       "<style scoped>\n",
       "    .dataframe tbody tr th:only-of-type {\n",
       "        vertical-align: middle;\n",
       "    }\n",
       "\n",
       "    .dataframe tbody tr th {\n",
       "        vertical-align: top;\n",
       "    }\n",
       "\n",
       "    .dataframe thead th {\n",
       "        text-align: right;\n",
       "    }\n",
       "</style>\n",
       "<table border=\"1\" class=\"dataframe\">\n",
       "  <thead>\n",
       "    <tr style=\"text-align: right;\">\n",
       "      <th></th>\n",
       "      <th>userId</th>\n",
       "      <th>movieId</th>\n",
       "      <th>rating</th>\n",
       "    </tr>\n",
       "  </thead>\n",
       "  <tbody>\n",
       "    <tr>\n",
       "      <th>0</th>\n",
       "      <td>1</td>\n",
       "      <td>296</td>\n",
       "      <td>1</td>\n",
       "    </tr>\n",
       "    <tr>\n",
       "      <th>1</th>\n",
       "      <td>3</td>\n",
       "      <td>296</td>\n",
       "      <td>1</td>\n",
       "    </tr>\n",
       "    <tr>\n",
       "      <th>2</th>\n",
       "      <td>4</td>\n",
       "      <td>296</td>\n",
       "      <td>1</td>\n",
       "    </tr>\n",
       "    <tr>\n",
       "      <th>3</th>\n",
       "      <td>5</td>\n",
       "      <td>296</td>\n",
       "      <td>1</td>\n",
       "    </tr>\n",
       "    <tr>\n",
       "      <th>4</th>\n",
       "      <td>7</td>\n",
       "      <td>296</td>\n",
       "      <td>1</td>\n",
       "    </tr>\n",
       "    <tr>\n",
       "      <th>...</th>\n",
       "      <td>...</td>\n",
       "      <td>...</td>\n",
       "      <td>...</td>\n",
       "    </tr>\n",
       "    <tr>\n",
       "      <th>25000090</th>\n",
       "      <td>162358</td>\n",
       "      <td>200192</td>\n",
       "      <td>0</td>\n",
       "    </tr>\n",
       "    <tr>\n",
       "      <th>25000091</th>\n",
       "      <td>162358</td>\n",
       "      <td>200194</td>\n",
       "      <td>0</td>\n",
       "    </tr>\n",
       "    <tr>\n",
       "      <th>25000092</th>\n",
       "      <td>162386</td>\n",
       "      <td>139970</td>\n",
       "      <td>1</td>\n",
       "    </tr>\n",
       "    <tr>\n",
       "      <th>25000093</th>\n",
       "      <td>162386</td>\n",
       "      <td>200726</td>\n",
       "      <td>1</td>\n",
       "    </tr>\n",
       "    <tr>\n",
       "      <th>25000094</th>\n",
       "      <td>162386</td>\n",
       "      <td>200728</td>\n",
       "      <td>1</td>\n",
       "    </tr>\n",
       "  </tbody>\n",
       "</table>\n",
       "<p>25000095 rows × 3 columns</p>\n",
       "</div>"
      ],
      "text/plain": [
       "          userId  movieId  rating\n",
       "0              1      296       1\n",
       "1              3      296       1\n",
       "2              4      296       1\n",
       "3              5      296       1\n",
       "4              7      296       1\n",
       "...          ...      ...     ...\n",
       "25000090  162358   200192       0\n",
       "25000091  162358   200194       0\n",
       "25000092  162386   139970       1\n",
       "25000093  162386   200726       1\n",
       "25000094  162386   200728       1\n",
       "\n",
       "[25000095 rows x 3 columns]"
      ]
     },
     "execution_count": 16,
     "metadata": {},
     "output_type": "execute_result"
    }
   ],
   "source": [
    "new_df"
   ]
  },
  {
   "cell_type": "code",
   "execution_count": 17,
   "id": "a8154bef",
   "metadata": {},
   "outputs": [],
   "source": [
    "X = new_df.drop('rating', axis=1)\n",
    "y = new_df['rating']"
   ]
  },
  {
   "cell_type": "code",
   "execution_count": 18,
   "id": "9b3805a1",
   "metadata": {},
   "outputs": [
    {
     "name": "stdout",
     "output_type": "stream",
     "text": [
      "[1 1 1 ... 1 1 1]\n"
     ]
    }
   ],
   "source": [
    "from sklearn import preprocessing\n",
    "from sklearn import utils\n",
    "\n",
    "#convert y values to categorical values\n",
    "lab = preprocessing.LabelEncoder()\n",
    "y_transformed = lab.fit_transform(y)\n",
    "\n",
    "#view transformed values\n",
    "print(y_transformed)\n",
    "X_train, X_test, y_train, y_test = train_test_split(X, y_transformed, random_state=1)"
   ]
  },
  {
   "cell_type": "code",
   "execution_count": 19,
   "id": "92ab0023",
   "metadata": {},
   "outputs": [
    {
     "name": "stdout",
     "output_type": "stream",
     "text": [
      "Training Data Score: 0.6251565127406717\n",
      "Testing Data Score: 0.625341598688261\n"
     ]
    }
   ],
   "source": [
    "classifier = LogisticRegression()\n",
    "classifier.fit(X_train, y_train)\n",
    "print(f\"Training Data Score: {classifier.score(X_train, y_train)}\")\n",
    "print(f\"Testing Data Score: {classifier.score(X_test, y_test)}\")"
   ]
  },
  {
   "cell_type": "code",
   "execution_count": 20,
   "id": "c5ba1dba",
   "metadata": {
    "scrolled": true
   },
   "outputs": [
    {
     "data": {
      "text/html": [
       "<div>\n",
       "<style scoped>\n",
       "    .dataframe tbody tr th:only-of-type {\n",
       "        vertical-align: middle;\n",
       "    }\n",
       "\n",
       "    .dataframe tbody tr th {\n",
       "        vertical-align: top;\n",
       "    }\n",
       "\n",
       "    .dataframe thead th {\n",
       "        text-align: right;\n",
       "    }\n",
       "</style>\n",
       "<table border=\"1\" class=\"dataframe\">\n",
       "  <thead>\n",
       "    <tr style=\"text-align: right;\">\n",
       "      <th></th>\n",
       "      <th>movieId</th>\n",
       "      <th>title</th>\n",
       "      <th>genres</th>\n",
       "    </tr>\n",
       "  </thead>\n",
       "  <tbody>\n",
       "    <tr>\n",
       "      <th>0</th>\n",
       "      <td>1</td>\n",
       "      <td>Toy Story (1995)</td>\n",
       "      <td>Adventure|Animation|Children|Comedy|Fantasy</td>\n",
       "    </tr>\n",
       "    <tr>\n",
       "      <th>1</th>\n",
       "      <td>2</td>\n",
       "      <td>Jumanji (1995)</td>\n",
       "      <td>Adventure|Children|Fantasy</td>\n",
       "    </tr>\n",
       "    <tr>\n",
       "      <th>2</th>\n",
       "      <td>3</td>\n",
       "      <td>Grumpier Old Men (1995)</td>\n",
       "      <td>Comedy|Romance</td>\n",
       "    </tr>\n",
       "    <tr>\n",
       "      <th>3</th>\n",
       "      <td>4</td>\n",
       "      <td>Waiting to Exhale (1995)</td>\n",
       "      <td>Comedy|Drama|Romance</td>\n",
       "    </tr>\n",
       "    <tr>\n",
       "      <th>4</th>\n",
       "      <td>5</td>\n",
       "      <td>Father of the Bride Part II (1995)</td>\n",
       "      <td>Comedy</td>\n",
       "    </tr>\n",
       "  </tbody>\n",
       "</table>\n",
       "</div>"
      ],
      "text/plain": [
       "   movieId                               title  \\\n",
       "0        1                    Toy Story (1995)   \n",
       "1        2                      Jumanji (1995)   \n",
       "2        3             Grumpier Old Men (1995)   \n",
       "3        4            Waiting to Exhale (1995)   \n",
       "4        5  Father of the Bride Part II (1995)   \n",
       "\n",
       "                                        genres  \n",
       "0  Adventure|Animation|Children|Comedy|Fantasy  \n",
       "1                   Adventure|Children|Fantasy  \n",
       "2                               Comedy|Romance  \n",
       "3                         Comedy|Drama|Romance  \n",
       "4                                       Comedy  "
      ]
     },
     "execution_count": 20,
     "metadata": {},
     "output_type": "execute_result"
    }
   ],
   "source": [
    "movies_df.head()"
   ]
  },
  {
   "cell_type": "code",
   "execution_count": 39,
   "id": "1f96b786",
   "metadata": {
    "scrolled": true
   },
   "outputs": [
    {
     "data": {
      "text/html": [
       "<div>\n",
       "<style scoped>\n",
       "    .dataframe tbody tr th:only-of-type {\n",
       "        vertical-align: middle;\n",
       "    }\n",
       "\n",
       "    .dataframe tbody tr th {\n",
       "        vertical-align: top;\n",
       "    }\n",
       "\n",
       "    .dataframe thead th {\n",
       "        text-align: right;\n",
       "    }\n",
       "</style>\n",
       "<table border=\"1\" class=\"dataframe\">\n",
       "  <thead>\n",
       "    <tr style=\"text-align: right;\">\n",
       "      <th></th>\n",
       "      <th>movieId</th>\n",
       "      <th>title</th>\n",
       "      <th>genres</th>\n",
       "      <th>userId</th>\n",
       "      <th>rating</th>\n",
       "      <th>timestamp</th>\n",
       "    </tr>\n",
       "  </thead>\n",
       "  <tbody>\n",
       "    <tr>\n",
       "      <th>0</th>\n",
       "      <td>1</td>\n",
       "      <td>Toy Story (1995)</td>\n",
       "      <td>Adventure|Animation|Children|Comedy|Fantasy</td>\n",
       "      <td>2</td>\n",
       "      <td>3.5</td>\n",
       "      <td>1141415820</td>\n",
       "    </tr>\n",
       "    <tr>\n",
       "      <th>1</th>\n",
       "      <td>1</td>\n",
       "      <td>Toy Story (1995)</td>\n",
       "      <td>Adventure|Animation|Children|Comedy|Fantasy</td>\n",
       "      <td>3</td>\n",
       "      <td>4.0</td>\n",
       "      <td>1439472215</td>\n",
       "    </tr>\n",
       "    <tr>\n",
       "      <th>2</th>\n",
       "      <td>1</td>\n",
       "      <td>Toy Story (1995)</td>\n",
       "      <td>Adventure|Animation|Children|Comedy|Fantasy</td>\n",
       "      <td>4</td>\n",
       "      <td>3.0</td>\n",
       "      <td>1573944252</td>\n",
       "    </tr>\n",
       "    <tr>\n",
       "      <th>3</th>\n",
       "      <td>1</td>\n",
       "      <td>Toy Story (1995)</td>\n",
       "      <td>Adventure|Animation|Children|Comedy|Fantasy</td>\n",
       "      <td>5</td>\n",
       "      <td>4.0</td>\n",
       "      <td>858625949</td>\n",
       "    </tr>\n",
       "    <tr>\n",
       "      <th>4</th>\n",
       "      <td>1</td>\n",
       "      <td>Toy Story (1995)</td>\n",
       "      <td>Adventure|Animation|Children|Comedy|Fantasy</td>\n",
       "      <td>8</td>\n",
       "      <td>4.0</td>\n",
       "      <td>890492517</td>\n",
       "    </tr>\n",
       "    <tr>\n",
       "      <th>...</th>\n",
       "      <td>...</td>\n",
       "      <td>...</td>\n",
       "      <td>...</td>\n",
       "      <td>...</td>\n",
       "      <td>...</td>\n",
       "      <td>...</td>\n",
       "    </tr>\n",
       "    <tr>\n",
       "      <th>25000090</th>\n",
       "      <td>209157</td>\n",
       "      <td>We (2018)</td>\n",
       "      <td>Drama</td>\n",
       "      <td>119571</td>\n",
       "      <td>1.5</td>\n",
       "      <td>1574280748</td>\n",
       "    </tr>\n",
       "    <tr>\n",
       "      <th>25000091</th>\n",
       "      <td>209159</td>\n",
       "      <td>Window of the Soul (2001)</td>\n",
       "      <td>Documentary</td>\n",
       "      <td>115835</td>\n",
       "      <td>3.0</td>\n",
       "      <td>1574280985</td>\n",
       "    </tr>\n",
       "    <tr>\n",
       "      <th>25000092</th>\n",
       "      <td>209163</td>\n",
       "      <td>Bad Poems (2018)</td>\n",
       "      <td>Comedy|Drama</td>\n",
       "      <td>6964</td>\n",
       "      <td>4.5</td>\n",
       "      <td>1574284913</td>\n",
       "    </tr>\n",
       "    <tr>\n",
       "      <th>25000093</th>\n",
       "      <td>209169</td>\n",
       "      <td>A Girl Thing (2001)</td>\n",
       "      <td>(no genres listed)</td>\n",
       "      <td>119571</td>\n",
       "      <td>3.0</td>\n",
       "      <td>1574291826</td>\n",
       "    </tr>\n",
       "    <tr>\n",
       "      <th>25000094</th>\n",
       "      <td>209171</td>\n",
       "      <td>Women of Devil's Island (1962)</td>\n",
       "      <td>Action|Adventure|Drama</td>\n",
       "      <td>119571</td>\n",
       "      <td>3.0</td>\n",
       "      <td>1574291937</td>\n",
       "    </tr>\n",
       "  </tbody>\n",
       "</table>\n",
       "<p>25000095 rows × 6 columns</p>\n",
       "</div>"
      ],
      "text/plain": [
       "          movieId                           title  \\\n",
       "0               1                Toy Story (1995)   \n",
       "1               1                Toy Story (1995)   \n",
       "2               1                Toy Story (1995)   \n",
       "3               1                Toy Story (1995)   \n",
       "4               1                Toy Story (1995)   \n",
       "...           ...                             ...   \n",
       "25000090   209157                       We (2018)   \n",
       "25000091   209159       Window of the Soul (2001)   \n",
       "25000092   209163                Bad Poems (2018)   \n",
       "25000093   209169             A Girl Thing (2001)   \n",
       "25000094   209171  Women of Devil's Island (1962)   \n",
       "\n",
       "                                               genres  userId  rating  \\\n",
       "0         Adventure|Animation|Children|Comedy|Fantasy       2     3.5   \n",
       "1         Adventure|Animation|Children|Comedy|Fantasy       3     4.0   \n",
       "2         Adventure|Animation|Children|Comedy|Fantasy       4     3.0   \n",
       "3         Adventure|Animation|Children|Comedy|Fantasy       5     4.0   \n",
       "4         Adventure|Animation|Children|Comedy|Fantasy       8     4.0   \n",
       "...                                               ...     ...     ...   \n",
       "25000090                                        Drama  119571     1.5   \n",
       "25000091                                  Documentary  115835     3.0   \n",
       "25000092                                 Comedy|Drama    6964     4.5   \n",
       "25000093                           (no genres listed)  119571     3.0   \n",
       "25000094                       Action|Adventure|Drama  119571     3.0   \n",
       "\n",
       "           timestamp  \n",
       "0         1141415820  \n",
       "1         1439472215  \n",
       "2         1573944252  \n",
       "3          858625949  \n",
       "4          890492517  \n",
       "...              ...  \n",
       "25000090  1574280748  \n",
       "25000091  1574280985  \n",
       "25000092  1574284913  \n",
       "25000093  1574291826  \n",
       "25000094  1574291937  \n",
       "\n",
       "[25000095 rows x 6 columns]"
      ]
     },
     "execution_count": 39,
     "metadata": {},
     "output_type": "execute_result"
    }
   ],
   "source": [
    "movie_ratings = movies_df.merge(ratings_df, how=\"inner\")\n",
    "movie_ratings"
   ]
  },
  {
   "cell_type": "code",
   "execution_count": 40,
   "id": "e6f211ff",
   "metadata": {},
   "outputs": [],
   "source": [
    "reduced = movie_ratings.sample(1000000)"
   ]
  },
  {
   "cell_type": "code",
   "execution_count": null,
   "id": "74726cb7",
   "metadata": {},
   "outputs": [],
   "source": [
    "# movie_ratings.groupby('movieId').mean()"
   ]
  },
  {
   "cell_type": "code",
   "execution_count": 42,
   "id": "312ca1ba",
   "metadata": {},
   "outputs": [],
   "source": [
    "reduced['year'] = reduced.title.str.extract('\\((.*)\\)')[0]\n",
    "\n",
    "reduced['release_year'] = reduced['year'].str.split('(').str[-1]\n",
    "reduced = reduced.drop(columns = ['year'])"
   ]
  },
  {
   "cell_type": "code",
   "execution_count": 43,
   "id": "3f62ddd3",
   "metadata": {},
   "outputs": [
    {
     "data": {
      "text/html": [
       "<div>\n",
       "<style scoped>\n",
       "    .dataframe tbody tr th:only-of-type {\n",
       "        vertical-align: middle;\n",
       "    }\n",
       "\n",
       "    .dataframe tbody tr th {\n",
       "        vertical-align: top;\n",
       "    }\n",
       "\n",
       "    .dataframe thead th {\n",
       "        text-align: right;\n",
       "    }\n",
       "</style>\n",
       "<table border=\"1\" class=\"dataframe\">\n",
       "  <thead>\n",
       "    <tr style=\"text-align: right;\">\n",
       "      <th></th>\n",
       "      <th>movieId</th>\n",
       "      <th>title</th>\n",
       "      <th>genres</th>\n",
       "      <th>userId</th>\n",
       "      <th>rating</th>\n",
       "      <th>timestamp</th>\n",
       "      <th>release_year</th>\n",
       "    </tr>\n",
       "  </thead>\n",
       "  <tbody>\n",
       "    <tr>\n",
       "      <th>19851050</th>\n",
       "      <td>40732</td>\n",
       "      <td>Descent, The (2005)</td>\n",
       "      <td>Adventure|Drama|Horror|Thriller</td>\n",
       "      <td>87655</td>\n",
       "      <td>3.0</td>\n",
       "      <td>1298858924</td>\n",
       "      <td>2005</td>\n",
       "    </tr>\n",
       "    <tr>\n",
       "      <th>7368321</th>\n",
       "      <td>1278</td>\n",
       "      <td>Young Frankenstein (1974)</td>\n",
       "      <td>Comedy|Fantasy</td>\n",
       "      <td>157021</td>\n",
       "      <td>4.0</td>\n",
       "      <td>879967441</td>\n",
       "      <td>1974</td>\n",
       "    </tr>\n",
       "    <tr>\n",
       "      <th>190398</th>\n",
       "      <td>11</td>\n",
       "      <td>American President, The (1995)</td>\n",
       "      <td>Comedy|Drama|Romance</td>\n",
       "      <td>121845</td>\n",
       "      <td>3.0</td>\n",
       "      <td>942699461</td>\n",
       "      <td>1995</td>\n",
       "    </tr>\n",
       "    <tr>\n",
       "      <th>10015180</th>\n",
       "      <td>2082</td>\n",
       "      <td>Mighty Ducks, The (1992)</td>\n",
       "      <td>Children|Comedy</td>\n",
       "      <td>118286</td>\n",
       "      <td>3.0</td>\n",
       "      <td>975466256</td>\n",
       "      <td>1992</td>\n",
       "    </tr>\n",
       "    <tr>\n",
       "      <th>7800713</th>\n",
       "      <td>1373</td>\n",
       "      <td>Star Trek V: The Final Frontier (1989)</td>\n",
       "      <td>Action|Sci-Fi</td>\n",
       "      <td>92753</td>\n",
       "      <td>0.5</td>\n",
       "      <td>1225497255</td>\n",
       "      <td>1989</td>\n",
       "    </tr>\n",
       "  </tbody>\n",
       "</table>\n",
       "</div>"
      ],
      "text/plain": [
       "          movieId                                   title  \\\n",
       "19851050    40732                     Descent, The (2005)   \n",
       "7368321      1278               Young Frankenstein (1974)   \n",
       "190398         11          American President, The (1995)   \n",
       "10015180     2082                Mighty Ducks, The (1992)   \n",
       "7800713      1373  Star Trek V: The Final Frontier (1989)   \n",
       "\n",
       "                                   genres  userId  rating   timestamp  \\\n",
       "19851050  Adventure|Drama|Horror|Thriller   87655     3.0  1298858924   \n",
       "7368321                    Comedy|Fantasy  157021     4.0   879967441   \n",
       "190398               Comedy|Drama|Romance  121845     3.0   942699461   \n",
       "10015180                  Children|Comedy  118286     3.0   975466256   \n",
       "7800713                     Action|Sci-Fi   92753     0.5  1225497255   \n",
       "\n",
       "         release_year  \n",
       "19851050         2005  \n",
       "7368321          1974  \n",
       "190398           1995  \n",
       "10015180         1992  \n",
       "7800713          1989  "
      ]
     },
     "execution_count": 43,
     "metadata": {},
     "output_type": "execute_result"
    }
   ],
   "source": [
    "reduced.head()"
   ]
  },
  {
   "cell_type": "code",
   "execution_count": 45,
   "id": "53be35f0",
   "metadata": {},
   "outputs": [
    {
     "name": "stdout",
     "output_type": "stream",
     "text": [
      "18\n"
     ]
    }
   ],
   "source": [
    "genres = ['Comedy','Adventure','Animation','Children','Fantasy','Romance','Drama',\n",
    "          'Documentary','Action','Horror','Mystery','Sci-Fi','Western','Crime','Thriller',\n",
    "          'Film-Noir','Musical','War']\n",
    "print(len(genres))"
   ]
  },
  {
   "cell_type": "code",
   "execution_count": 46,
   "id": "cbf83dc9",
   "metadata": {},
   "outputs": [],
   "source": [
    "# def genre_ratings(genre):\n",
    "#     df = movies_df[movies_df['genres'].str.contains(genre, regex=False)]\n",
    "#     genre_df = ratings_df.merge(df, how=\"inner\")\n",
    "#     return genre_df"
   ]
  },
  {
   "cell_type": "code",
   "execution_count": 48,
   "id": "044df28b",
   "metadata": {},
   "outputs": [],
   "source": [
    "def genre_ratings(genre):\n",
    "    df = reduced[reduced['genres'].str.contains(genre, regex=False)]\n",
    "    return df"
   ]
  },
  {
   "cell_type": "code",
   "execution_count": 49,
   "id": "a4b22130",
   "metadata": {},
   "outputs": [
    {
     "data": {
      "text/html": [
       "<div>\n",
       "<style scoped>\n",
       "    .dataframe tbody tr th:only-of-type {\n",
       "        vertical-align: middle;\n",
       "    }\n",
       "\n",
       "    .dataframe tbody tr th {\n",
       "        vertical-align: top;\n",
       "    }\n",
       "\n",
       "    .dataframe thead th {\n",
       "        text-align: right;\n",
       "    }\n",
       "</style>\n",
       "<table border=\"1\" class=\"dataframe\">\n",
       "  <thead>\n",
       "    <tr style=\"text-align: right;\">\n",
       "      <th></th>\n",
       "      <th>movieId</th>\n",
       "      <th>title</th>\n",
       "      <th>genres</th>\n",
       "      <th>userId</th>\n",
       "      <th>rating</th>\n",
       "      <th>timestamp</th>\n",
       "      <th>release_year</th>\n",
       "    </tr>\n",
       "  </thead>\n",
       "  <tbody>\n",
       "    <tr>\n",
       "      <th>7368321</th>\n",
       "      <td>1278</td>\n",
       "      <td>Young Frankenstein (1974)</td>\n",
       "      <td>Comedy|Fantasy</td>\n",
       "      <td>157021</td>\n",
       "      <td>4.0</td>\n",
       "      <td>879967441</td>\n",
       "      <td>1974</td>\n",
       "    </tr>\n",
       "    <tr>\n",
       "      <th>190398</th>\n",
       "      <td>11</td>\n",
       "      <td>American President, The (1995)</td>\n",
       "      <td>Comedy|Drama|Romance</td>\n",
       "      <td>121845</td>\n",
       "      <td>3.0</td>\n",
       "      <td>942699461</td>\n",
       "      <td>1995</td>\n",
       "    </tr>\n",
       "    <tr>\n",
       "      <th>10015180</th>\n",
       "      <td>2082</td>\n",
       "      <td>Mighty Ducks, The (1992)</td>\n",
       "      <td>Children|Comedy</td>\n",
       "      <td>118286</td>\n",
       "      <td>3.0</td>\n",
       "      <td>975466256</td>\n",
       "      <td>1992</td>\n",
       "    </tr>\n",
       "    <tr>\n",
       "      <th>8242499</th>\n",
       "      <td>1527</td>\n",
       "      <td>Fifth Element, The (1997)</td>\n",
       "      <td>Action|Adventure|Comedy|Sci-Fi</td>\n",
       "      <td>15780</td>\n",
       "      <td>4.0</td>\n",
       "      <td>1452463079</td>\n",
       "      <td>1997</td>\n",
       "    </tr>\n",
       "    <tr>\n",
       "      <th>15863710</th>\n",
       "      <td>4886</td>\n",
       "      <td>Monsters, Inc. (2001)</td>\n",
       "      <td>Adventure|Animation|Children|Comedy|Fantasy</td>\n",
       "      <td>115563</td>\n",
       "      <td>3.0</td>\n",
       "      <td>1107256228</td>\n",
       "      <td>2001</td>\n",
       "    </tr>\n",
       "    <tr>\n",
       "      <th>...</th>\n",
       "      <td>...</td>\n",
       "      <td>...</td>\n",
       "      <td>...</td>\n",
       "      <td>...</td>\n",
       "      <td>...</td>\n",
       "      <td>...</td>\n",
       "      <td>...</td>\n",
       "    </tr>\n",
       "    <tr>\n",
       "      <th>20220478</th>\n",
       "      <td>46970</td>\n",
       "      <td>Talladega Nights: The Ballad of Ricky Bobby (2...</td>\n",
       "      <td>Action|Comedy</td>\n",
       "      <td>26672</td>\n",
       "      <td>1.0</td>\n",
       "      <td>1516386314</td>\n",
       "      <td>2006</td>\n",
       "    </tr>\n",
       "    <tr>\n",
       "      <th>11953838</th>\n",
       "      <td>2724</td>\n",
       "      <td>Runaway Bride (1999)</td>\n",
       "      <td>Comedy|Romance</td>\n",
       "      <td>126412</td>\n",
       "      <td>2.5</td>\n",
       "      <td>1160664963</td>\n",
       "      <td>1999</td>\n",
       "    </tr>\n",
       "    <tr>\n",
       "      <th>1084634</th>\n",
       "      <td>153</td>\n",
       "      <td>Batman Forever (1995)</td>\n",
       "      <td>Action|Adventure|Comedy|Crime</td>\n",
       "      <td>46143</td>\n",
       "      <td>2.0</td>\n",
       "      <td>1234750390</td>\n",
       "      <td>1995</td>\n",
       "    </tr>\n",
       "    <tr>\n",
       "      <th>19571548</th>\n",
       "      <td>33679</td>\n",
       "      <td>Mr. &amp; Mrs. Smith (2005)</td>\n",
       "      <td>Action|Adventure|Comedy|Romance</td>\n",
       "      <td>137930</td>\n",
       "      <td>2.5</td>\n",
       "      <td>1554656142</td>\n",
       "      <td>2005</td>\n",
       "    </tr>\n",
       "    <tr>\n",
       "      <th>295885</th>\n",
       "      <td>21</td>\n",
       "      <td>Get Shorty (1995)</td>\n",
       "      <td>Comedy|Crime|Thriller</td>\n",
       "      <td>135912</td>\n",
       "      <td>4.0</td>\n",
       "      <td>841905582</td>\n",
       "      <td>1995</td>\n",
       "    </tr>\n",
       "  </tbody>\n",
       "</table>\n",
       "<p>356830 rows × 7 columns</p>\n",
       "</div>"
      ],
      "text/plain": [
       "          movieId                                              title  \\\n",
       "7368321      1278                          Young Frankenstein (1974)   \n",
       "190398         11                     American President, The (1995)   \n",
       "10015180     2082                           Mighty Ducks, The (1992)   \n",
       "8242499      1527                          Fifth Element, The (1997)   \n",
       "15863710     4886                              Monsters, Inc. (2001)   \n",
       "...           ...                                                ...   \n",
       "20220478    46970  Talladega Nights: The Ballad of Ricky Bobby (2...   \n",
       "11953838     2724                               Runaway Bride (1999)   \n",
       "1084634       153                              Batman Forever (1995)   \n",
       "19571548    33679                            Mr. & Mrs. Smith (2005)   \n",
       "295885         21                                  Get Shorty (1995)   \n",
       "\n",
       "                                               genres  userId  rating  \\\n",
       "7368321                                Comedy|Fantasy  157021     4.0   \n",
       "190398                           Comedy|Drama|Romance  121845     3.0   \n",
       "10015180                              Children|Comedy  118286     3.0   \n",
       "8242499                Action|Adventure|Comedy|Sci-Fi   15780     4.0   \n",
       "15863710  Adventure|Animation|Children|Comedy|Fantasy  115563     3.0   \n",
       "...                                               ...     ...     ...   \n",
       "20220478                                Action|Comedy   26672     1.0   \n",
       "11953838                               Comedy|Romance  126412     2.5   \n",
       "1084634                 Action|Adventure|Comedy|Crime   46143     2.0   \n",
       "19571548              Action|Adventure|Comedy|Romance  137930     2.5   \n",
       "295885                          Comedy|Crime|Thriller  135912     4.0   \n",
       "\n",
       "           timestamp release_year  \n",
       "7368321    879967441         1974  \n",
       "190398     942699461         1995  \n",
       "10015180   975466256         1992  \n",
       "8242499   1452463079         1997  \n",
       "15863710  1107256228         2001  \n",
       "...              ...          ...  \n",
       "20220478  1516386314         2006  \n",
       "11953838  1160664963         1999  \n",
       "1084634   1234750390         1995  \n",
       "19571548  1554656142         2005  \n",
       "295885     841905582         1995  \n",
       "\n",
       "[356830 rows x 7 columns]"
      ]
     },
     "execution_count": 49,
     "metadata": {},
     "output_type": "execute_result"
    }
   ],
   "source": [
    "genre_ratings('Comedy')"
   ]
  },
  {
   "cell_type": "code",
   "execution_count": 50,
   "id": "ba14bce0",
   "metadata": {},
   "outputs": [],
   "source": [
    "genre_averages = {\n",
    "    'Genre': [],\n",
    "    'Average Rating': []\n",
    "}\n",
    "for genre in genres:\n",
    "    avg_rating = genre_ratings(genre)['rating'].mean()\n",
    "    genre_averages['Genre'].append(genre)\n",
    "    genre_averages['Average Rating'].append(avg_rating)\n",
    "\n",
    "genre_avg_df = pd.DataFrame(genre_averages).sort_values('Average Rating', ascending=False)"
   ]
  },
  {
   "cell_type": "code",
   "execution_count": 67,
   "id": "d96b81db",
   "metadata": {},
   "outputs": [
    {
     "data": {
      "image/png": "[encoded data removed]",
      "text/plain": [
       "<Figure size 576x576 with 1 Axes>"
      ]
     },
     "metadata": {
      "needs_background": "light"
     },
     "output_type": "display_data"
    }
   ],
   "source": [
    "plt.figure(figsize=(8, 8))\n",
    "plt.bar(genre_avg_df['Genre'],genre_avg_df['Average Rating'])\n",
    "plt.ylim(3, 4)\n",
    "plt.title('Average Rating by Genre')\n",
    "plt.ylabel('Average Rating')\n",
    "plt.xticks(rotation=45)\n",
    "plt.savefig('images/avg_rating_by_genre.png')"
   ]
  },
  {
   "cell_type": "code",
   "execution_count": 68,
   "id": "23f7d81e",
   "metadata": {},
   "outputs": [],
   "source": [
    "def ratings_by_year(genre, year):\n",
    "    df = reduced[reduced['genres'].str.contains(genre, regex=False)]\n",
    "    year_df = df.loc[df['release_year'] == year]\n",
    "    avg_rating = year_df.groupby('release_year')['rating'].mean()\n",
    "    return avg_rating[0]"
   ]
  },
  {
   "cell_type": "code",
   "execution_count": 69,
   "id": "f9c5f3b1",
   "metadata": {},
   "outputs": [
    {
     "data": {
      "text/plain": [
       "3.2676017449886796"
      ]
     },
     "execution_count": 69,
     "metadata": {},
     "output_type": "execute_result"
    }
   ],
   "source": [
    "ratings_by_year('Action','1995')"
   ]
  },
  {
   "cell_type": "code",
   "execution_count": 70,
   "id": "f8699378",
   "metadata": {},
   "outputs": [],
   "source": [
    "ratings_dict = {\n",
    "    'Year': [],\n",
    "    'Average Rating': []\n",
    "}\n",
    "\n",
    "years = ['1993','1994','1995','1996','1997','1998','1999','2000','2001','2002','2003','2004','2005','2006',\n",
    "         '2007','2008','2009','2010','2011','2012','2013','2014','2015','2016','2017','2018']\n",
    "\n",
    "for year in years:\n",
    "    avg = ratings_by_year('Action',year)\n",
    "    ratings_dict['Average Rating'].append(avg)\n",
    "    ratings_dict['Year'].append(year)\n",
    "    \n",
    "ratings_dict_df = pd.DataFrame(ratings_dict)"
   ]
  },
  {
   "cell_type": "code",
   "execution_count": 71,
   "id": "9779acae",
   "metadata": {},
   "outputs": [
    {
     "data": {
      "text/html": [
       "<div>\n",
       "<style scoped>\n",
       "    .dataframe tbody tr th:only-of-type {\n",
       "        vertical-align: middle;\n",
       "    }\n",
       "\n",
       "    .dataframe tbody tr th {\n",
       "        vertical-align: top;\n",
       "    }\n",
       "\n",
       "    .dataframe thead th {\n",
       "        text-align: right;\n",
       "    }\n",
       "</style>\n",
       "<table border=\"1\" class=\"dataframe\">\n",
       "  <thead>\n",
       "    <tr style=\"text-align: right;\">\n",
       "      <th></th>\n",
       "      <th>Year</th>\n",
       "      <th>Average Rating</th>\n",
       "    </tr>\n",
       "  </thead>\n",
       "  <tbody>\n",
       "    <tr>\n",
       "      <th>0</th>\n",
       "      <td>1993</td>\n",
       "      <td>3.326545</td>\n",
       "    </tr>\n",
       "    <tr>\n",
       "      <th>1</th>\n",
       "      <td>1994</td>\n",
       "      <td>3.332999</td>\n",
       "    </tr>\n",
       "    <tr>\n",
       "      <th>2</th>\n",
       "      <td>1995</td>\n",
       "      <td>3.267602</td>\n",
       "    </tr>\n",
       "    <tr>\n",
       "      <th>3</th>\n",
       "      <td>1996</td>\n",
       "      <td>3.258325</td>\n",
       "    </tr>\n",
       "    <tr>\n",
       "      <th>4</th>\n",
       "      <td>1997</td>\n",
       "      <td>3.245841</td>\n",
       "    </tr>\n",
       "  </tbody>\n",
       "</table>\n",
       "</div>"
      ],
      "text/plain": [
       "   Year  Average Rating\n",
       "0  1993        3.326545\n",
       "1  1994        3.332999\n",
       "2  1995        3.267602\n",
       "3  1996        3.258325\n",
       "4  1997        3.245841"
      ]
     },
     "execution_count": 71,
     "metadata": {},
     "output_type": "execute_result"
    }
   ],
   "source": [
    "ratings_dict_df.head()"
   ]
  },
  {
   "cell_type": "code",
   "execution_count": 72,
   "id": "7ffd61a6",
   "metadata": {},
   "outputs": [
    {
     "data": {
      "image/png": "[encoded data removed]",
      "text/plain": [
       "<Figure size 432x288 with 1 Axes>"
      ]
     },
     "metadata": {
      "needs_background": "light"
     },
     "output_type": "display_data"
    }
   ],
   "source": [
    "plt.plot(ratings_dict_df['Year'],ratings_dict_df['Average Rating'])\n",
    "plt.ylim(3, 4)\n",
    "plt.title('Average Rating for Action Movies by Year')\n",
    "plt.ylabel('Average Rating')\n",
    "plt.xlabel('Years')\n",
    "\n",
    "#every other year for xticks\n",
    "labels = [n for n in ratings_dict_df['Year']][::2]\n",
    "plt.xticks(labels,labels=labels,rotation=45)\n",
    "plt.savefig('images/average_rating_action.png')"
   ]
  },
  {
   "cell_type": "code",
   "execution_count": 73,
   "id": "29b155f9",
   "metadata": {},
   "outputs": [],
   "source": [
    "# years = ['19'+str(i) for i in range(60, 100)] + ['200'+str(i) for i in range(0,10)] + ['20'+str(i) for i in range(10,19)]\n",
    "# print(years)"
   ]
  },
  {
   "cell_type": "code",
   "execution_count": 81,
   "id": "57d2b9ae",
   "metadata": {},
   "outputs": [],
   "source": [
    "def plot_genre_by_year(genre):\n",
    "    lower_genre = genre.lower()\n",
    "    ratings_dict = {\n",
    "        'Year': [],\n",
    "        'Average Rating': []\n",
    "    }\n",
    "\n",
    "    years = ['19'+str(i) for i in range(60, 100)]+['200'+str(i) for i in range(0,10)]+['20'+str(i) for i in range(10,19)]\n",
    "\n",
    "    year_labels = years[::4]\n",
    "\n",
    "    for year in years:\n",
    "        try:\n",
    "            avg = ratings_by_year(genre,year)\n",
    "            ratings_dict['Average Rating'].append(avg)\n",
    "            ratings_dict['Year'].append(year)\n",
    "        except:\n",
    "            pass\n",
    "\n",
    "    ratings_dict_df = pd.DataFrame(ratings_dict)\n",
    "\n",
    "    ## Plot\n",
    "    plt.plot(ratings_dict_df['Year'],ratings_dict_df['Average Rating'], label=genre)\n",
    "    plt.ylim(3, 5)\n",
    "    plt.title(f'Average Rating for {genre} Movies by Year')\n",
    "    plt.ylabel('Average Rating')\n",
    "    plt.xlabel('Years')\n",
    "    plt.xticks(year_labels,labels=year_labels,rotation=45)\n",
    "#     plt.legend(loc=\"lower left\")\n",
    "    plt.savefig(f'images/avg_rating_by_year_{lower_genre}.png')\n",
    "    plt.show()"
   ]
  },
  {
   "cell_type": "code",
   "execution_count": 88,
   "id": "f0f888e4",
   "metadata": {},
   "outputs": [],
   "source": [
    "top_genres = ['War','Documentary','Crime','Drama','Mystery','Animation','Action']\n",
    "# top_genres = ['War']"
   ]
  },
  {
   "cell_type": "code",
   "execution_count": 87,
   "id": "a5c0dd9b",
   "metadata": {},
   "outputs": [
    {
     "data": {
      "image/png": "[encoded data removed]",
      "text/plain": [
       "<Figure size 432x288 with 1 Axes>"
      ]
     },
     "metadata": {
      "needs_background": "light"
     },
     "output_type": "display_data"
    },
    {
     "data": {
      "image/png": "[encoded data removed]",
      "text/plain": [
       "<Figure size 432x288 with 1 Axes>"
      ]
     },
     "metadata": {
      "needs_background": "light"
     },
     "output_type": "display_data"
    },
    {
     "data": {
      "image/png": "[encoded data removed]",
      "text/plain": [
       "<Figure size 432x288 with 1 Axes>"
      ]
     },
     "metadata": {
      "needs_background": "light"
     },
     "output_type": "display_data"
    },
    {
     "data": {
      "image/png": "[encoded data removed]",
      "text/plain": [
       "<Figure size 432x288 with 1 Axes>"
      ]
     },
     "metadata": {
      "needs_background": "light"
     },
     "output_type": "display_data"
    },
    {
     "data": {
      "image/png": "[encoded data removed]",
      "text/plain": [
       "<Figure size 432x288 with 1 Axes>"
      ]
     },
     "metadata": {
      "needs_background": "light"
     },
     "output_type": "display_data"
    },
    {
     "data": {
      "image/png": "[encoded data removed]",
      "text/plain": [
       "<Figure size 432x288 with 1 Axes>"
      ]
     },
     "metadata": {
      "needs_background": "light"
     },
     "output_type": "display_data"
    },
    {
     "data": {
      "image/png": "[encoded data removed]",
      "text/plain": [
       "<Figure size 432x288 with 1 Axes>"
      ]
     },
     "metadata": {
      "needs_background": "light"
     },
     "output_type": "display_data"
    }
   ],
   "source": [
    "for genre in top_genres:\n",
    "    plot_genre_by_year(genre)"
   ]
  },
  {
   "cell_type": "code",
   "execution_count": 89,
   "id": "f4268f48",
   "metadata": {},
   "outputs": [
    {
     "data": {
      "image/png": "[encoded data removed]",
      "text/plain": [
       "<Figure size 432x288 with 1 Axes>"
      ]
     },
     "metadata": {
      "needs_background": "light"
     },
     "output_type": "display_data"
    }
   ],
   "source": [
    "plot_genre_by_year('Action')"
   ]
  },
  {
   "cell_type": "code",
   "execution_count": null,
   "id": "5c65af6c",
   "metadata": {},
   "outputs": [],
   "source": []
  }
 ],
 "metadata": {
  "kernelspec": {
   "display_name": "Python 3",
   "language": "python",
   "name": "python3"
  },
  "language_info": {
   "codemirror_mode": {
    "name": "ipython",
    "version": 3
   },
   "file_extension": ".py",
   "mimetype": "text/x-python",
   "name": "python",
   "nbconvert_exporter": "python",
   "pygments_lexer": "ipython3",
   "version": "3.6.10"
  }
 },
 "nbformat": 4,
 "nbformat_minor": 5
}
