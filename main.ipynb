{
 "cells": [
  {
   "cell_type": "code",
   "execution_count": 1,
   "id": "3095fb72",
   "metadata": {},
   "outputs": [],
   "source": [
    "import numpy as np\n",
    "import pandas as pd\n",
    "from sklearn.model_selection import train_test_split\n",
    "from sklearn.linear_model import LogisticRegression"
   ]
  },
  {
   "cell_type": "code",
   "execution_count": 2,
   "id": "fbdc80d3",
   "metadata": {},
   "outputs": [],
   "source": [
    "csv1 = \"movie_data/movies.csv\"\n",
    "csv2 = \"movie_data/ratings.csv\"\n",
    "csv3 = \"movie_data/genome-scores.csv\"\n",
    "csv4 = \"movie_data/genome-tags.csv\"\n",
    "csv5 = \"movie_data/links.csv\"\n",
    "csv6 = \"movie_data/tags.csv\""
   ]
  },
  {
   "cell_type": "code",
   "execution_count": 3,
   "id": "e7f53eca",
   "metadata": {},
   "outputs": [],
   "source": [
    "movies_df = pd.read_csv(csv1)\n",
    "ratings_df = pd.read_csv(csv2)\n",
    "genome_scores_df = pd.read_csv(csv3)\n",
    "genome_tags_df = pd.read_csv(csv4)\n",
    "links_df = pd.read_csv(csv5)\n",
    "tags_df = pd.read_csv(csv6)"
   ]
  },
  {
   "cell_type": "code",
   "execution_count": null,
   "id": "c5ec3b14",
   "metadata": {},
   "outputs": [],
   "source": [
    "print(f'{len(movies_df)} movies')\n",
    "print(f'{len(ratings_df)} ratings')"
   ]
  },
  {
   "cell_type": "code",
   "execution_count": null,
   "id": "32b48ea8",
   "metadata": {
    "scrolled": true
   },
   "outputs": [],
   "source": [
    "movies_df.head()"
   ]
  },
  {
   "cell_type": "code",
   "execution_count": null,
   "id": "56ebd334",
   "metadata": {
    "scrolled": true
   },
   "outputs": [],
   "source": [
    "ratings_df.head()"
   ]
  },
  {
   "cell_type": "code",
   "execution_count": null,
   "id": "48c41f26",
   "metadata": {},
   "outputs": [],
   "source": [
    "# # Number of ratings for each userId\n",
    "# ratings_df.groupby(ratings_df['userId'])['rating'].count()"
   ]
  },
  {
   "cell_type": "code",
   "execution_count": null,
   "id": "347ebdbb",
   "metadata": {
    "scrolled": false
   },
   "outputs": [],
   "source": [
    "genome_scores_df.head()"
   ]
  },
  {
   "cell_type": "code",
   "execution_count": 4,
   "id": "1aecdf55",
   "metadata": {},
   "outputs": [],
   "source": [
    "relevant_genome_scores_df = genome_scores_df.loc[genome_scores_df['relevance'] > .85]"
   ]
  },
  {
   "cell_type": "code",
   "execution_count": null,
   "id": "9c344d28",
   "metadata": {},
   "outputs": [],
   "source": [
    "genome_tags_df.head()"
   ]
  },
  {
   "cell_type": "code",
   "execution_count": null,
   "id": "6d18cee6",
   "metadata": {},
   "outputs": [],
   "source": [
    "links_df.head()"
   ]
  },
  {
   "cell_type": "code",
   "execution_count": null,
   "id": "ef247f8e",
   "metadata": {
    "scrolled": false
   },
   "outputs": [],
   "source": [
    "tags_df.head()"
   ]
  },
  {
   "cell_type": "code",
   "execution_count": null,
   "id": "d1005eac",
   "metadata": {
    "scrolled": true
   },
   "outputs": [],
   "source": [
    "new_df = ratings_df.merge(movies_df, how=\"inner\")\n",
    "new_df = new_df.drop(columns=['title', 'genres', 'timestamp'])\n",
    "new_df.head()"
   ]
  },
  {
   "cell_type": "code",
   "execution_count": null,
   "id": "663433e2",
   "metadata": {},
   "outputs": [],
   "source": [
    "new_df[\"rating\"] = np.where(new_df[\"rating\"] >= 3.5, 1, 0)"
   ]
  },
  {
   "cell_type": "code",
   "execution_count": null,
   "id": "0236c2f8",
   "metadata": {},
   "outputs": [],
   "source": [
    "new_df"
   ]
  },
  {
   "cell_type": "code",
   "execution_count": null,
   "id": "a8154bef",
   "metadata": {},
   "outputs": [],
   "source": [
    "X = new_df.drop('rating', axis=1)\n",
    "y = new_df['rating']"
   ]
  },
  {
   "cell_type": "code",
   "execution_count": null,
   "id": "9b3805a1",
   "metadata": {},
   "outputs": [],
   "source": [
    "from sklearn import preprocessing\n",
    "from sklearn import utils\n",
    "\n",
    "#convert y values to categorical values\n",
    "lab = preprocessing.LabelEncoder()\n",
    "y_transformed = lab.fit_transform(y)\n",
    "\n",
    "#view transformed values\n",
    "print(y_transformed)\n",
    "X_train, X_test, y_train, y_test = train_test_split(X, y_transformed, random_state=1)"
   ]
  },
  {
   "cell_type": "code",
   "execution_count": null,
   "id": "92ab0023",
   "metadata": {},
   "outputs": [],
   "source": [
    "classifier = LogisticRegression()\n",
    "classifier.fit(X_train, y_train)\n",
    "print(f\"Training Data Score: {classifier.score(X_train, y_train)}\")\n",
    "print(f\"Testing Data Score: {classifier.score(X_test, y_test)}\")"
   ]
  },
  {
   "cell_type": "code",
   "execution_count": null,
   "id": "fc85a006",
   "metadata": {},
   "outputs": [],
   "source": []
  },
  {
   "cell_type": "code",
   "execution_count": null,
   "id": "b595ca13",
   "metadata": {},
   "outputs": [],
   "source": []
  },
  {
   "cell_type": "code",
   "execution_count": null,
   "id": "c5ba1dba",
   "metadata": {
    "scrolled": true
   },
   "outputs": [],
   "source": [
    "# movies_df.head()"
   ]
  },
  {
   "cell_type": "code",
   "execution_count": null,
   "id": "1f96b786",
   "metadata": {
    "scrolled": true
   },
   "outputs": [],
   "source": [
    "# movie_ratings = movies_df.merge(ratings_df, how=\"inner\")\n",
    "# movie_ratings.head()"
   ]
  },
  {
   "cell_type": "code",
   "execution_count": null,
   "id": "5bf0b4cf",
   "metadata": {},
   "outputs": [],
   "source": [
    "# ratings_genome = movie_ratings.merge(relevant_genome_scores_df, how=\"inner\")\n",
    "# ratings_genome.head()"
   ]
  },
  {
   "cell_type": "code",
   "execution_count": 5,
   "id": "48a9692e",
   "metadata": {},
   "outputs": [
    {
     "data": {
      "text/html": [
       "<div>\n",
       "<style scoped>\n",
       "    .dataframe tbody tr th:only-of-type {\n",
       "        vertical-align: middle;\n",
       "    }\n",
       "\n",
       "    .dataframe tbody tr th {\n",
       "        vertical-align: top;\n",
       "    }\n",
       "\n",
       "    .dataframe thead th {\n",
       "        text-align: right;\n",
       "    }\n",
       "</style>\n",
       "<table border=\"1\" class=\"dataframe\">\n",
       "  <thead>\n",
       "    <tr style=\"text-align: right;\">\n",
       "      <th></th>\n",
       "      <th>userId</th>\n",
       "      <th>movieId</th>\n",
       "      <th>rating</th>\n",
       "      <th>timestamp</th>\n",
       "      <th>tagId</th>\n",
       "      <th>relevance</th>\n",
       "    </tr>\n",
       "  </thead>\n",
       "  <tbody>\n",
       "    <tr>\n",
       "      <th>0</th>\n",
       "      <td>1</td>\n",
       "      <td>296</td>\n",
       "      <td>5.0</td>\n",
       "      <td>1147880044</td>\n",
       "      <td>146</td>\n",
       "      <td>0.96200</td>\n",
       "    </tr>\n",
       "    <tr>\n",
       "      <th>1</th>\n",
       "      <td>1</td>\n",
       "      <td>296</td>\n",
       "      <td>5.0</td>\n",
       "      <td>1147880044</td>\n",
       "      <td>169</td>\n",
       "      <td>0.90625</td>\n",
       "    </tr>\n",
       "    <tr>\n",
       "      <th>2</th>\n",
       "      <td>1</td>\n",
       "      <td>296</td>\n",
       "      <td>5.0</td>\n",
       "      <td>1147880044</td>\n",
       "      <td>240</td>\n",
       "      <td>0.86375</td>\n",
       "    </tr>\n",
       "    <tr>\n",
       "      <th>3</th>\n",
       "      <td>1</td>\n",
       "      <td>296</td>\n",
       "      <td>5.0</td>\n",
       "      <td>1147880044</td>\n",
       "      <td>242</td>\n",
       "      <td>0.87350</td>\n",
       "    </tr>\n",
       "    <tr>\n",
       "      <th>4</th>\n",
       "      <td>1</td>\n",
       "      <td>296</td>\n",
       "      <td>5.0</td>\n",
       "      <td>1147880044</td>\n",
       "      <td>255</td>\n",
       "      <td>0.92250</td>\n",
       "    </tr>\n",
       "  </tbody>\n",
       "</table>\n",
       "</div>"
      ],
      "text/plain": [
       "   userId  movieId  rating   timestamp  tagId  relevance\n",
       "0       1      296     5.0  1147880044    146    0.96200\n",
       "1       1      296     5.0  1147880044    169    0.90625\n",
       "2       1      296     5.0  1147880044    240    0.86375\n",
       "3       1      296     5.0  1147880044    242    0.87350\n",
       "4       1      296     5.0  1147880044    255    0.92250"
      ]
     },
     "execution_count": 5,
     "metadata": {},
     "output_type": "execute_result"
    }
   ],
   "source": [
    "movie_ratings_genome = ratings_df.merge(relevant_genome_scores_df, how=\"inner\")\n",
    "movie_ratings_genome.head()"
   ]
  },
  {
   "cell_type": "code",
   "execution_count": 6,
   "id": "f9342f11",
   "metadata": {},
   "outputs": [],
   "source": [
    "movie_ratings_genome[\"rating\"] = np.where(movie_ratings_genome[\"rating\"] >= 3.5, 1, 0)"
   ]
  },
  {
   "cell_type": "code",
   "execution_count": 7,
   "id": "6a4d9d54",
   "metadata": {},
   "outputs": [
    {
     "data": {
      "text/html": [
       "<div>\n",
       "<style scoped>\n",
       "    .dataframe tbody tr th:only-of-type {\n",
       "        vertical-align: middle;\n",
       "    }\n",
       "\n",
       "    .dataframe tbody tr th {\n",
       "        vertical-align: top;\n",
       "    }\n",
       "\n",
       "    .dataframe thead th {\n",
       "        text-align: right;\n",
       "    }\n",
       "</style>\n",
       "<table border=\"1\" class=\"dataframe\">\n",
       "  <thead>\n",
       "    <tr style=\"text-align: right;\">\n",
       "      <th></th>\n",
       "      <th>userId</th>\n",
       "      <th>movieId</th>\n",
       "      <th>rating</th>\n",
       "      <th>timestamp</th>\n",
       "      <th>tagId</th>\n",
       "      <th>relevance</th>\n",
       "    </tr>\n",
       "  </thead>\n",
       "  <tbody>\n",
       "    <tr>\n",
       "      <th>0</th>\n",
       "      <td>1</td>\n",
       "      <td>296</td>\n",
       "      <td>1</td>\n",
       "      <td>1147880044</td>\n",
       "      <td>146</td>\n",
       "      <td>0.96200</td>\n",
       "    </tr>\n",
       "    <tr>\n",
       "      <th>1</th>\n",
       "      <td>1</td>\n",
       "      <td>296</td>\n",
       "      <td>1</td>\n",
       "      <td>1147880044</td>\n",
       "      <td>169</td>\n",
       "      <td>0.90625</td>\n",
       "    </tr>\n",
       "    <tr>\n",
       "      <th>2</th>\n",
       "      <td>1</td>\n",
       "      <td>296</td>\n",
       "      <td>1</td>\n",
       "      <td>1147880044</td>\n",
       "      <td>240</td>\n",
       "      <td>0.86375</td>\n",
       "    </tr>\n",
       "    <tr>\n",
       "      <th>3</th>\n",
       "      <td>1</td>\n",
       "      <td>296</td>\n",
       "      <td>1</td>\n",
       "      <td>1147880044</td>\n",
       "      <td>242</td>\n",
       "      <td>0.87350</td>\n",
       "    </tr>\n",
       "    <tr>\n",
       "      <th>4</th>\n",
       "      <td>1</td>\n",
       "      <td>296</td>\n",
       "      <td>1</td>\n",
       "      <td>1147880044</td>\n",
       "      <td>255</td>\n",
       "      <td>0.92250</td>\n",
       "    </tr>\n",
       "  </tbody>\n",
       "</table>\n",
       "</div>"
      ],
      "text/plain": [
       "   userId  movieId  rating   timestamp  tagId  relevance\n",
       "0       1      296       1  1147880044    146    0.96200\n",
       "1       1      296       1  1147880044    169    0.90625\n",
       "2       1      296       1  1147880044    240    0.86375\n",
       "3       1      296       1  1147880044    242    0.87350\n",
       "4       1      296       1  1147880044    255    0.92250"
      ]
     },
     "execution_count": 7,
     "metadata": {},
     "output_type": "execute_result"
    }
   ],
   "source": [
    "movie_ratings_genome.head()"
   ]
  },
  {
   "cell_type": "code",
   "execution_count": null,
   "id": "66af4d7a",
   "metadata": {},
   "outputs": [],
   "source": [
    "X = movie_ratings_genome.drop('rating', axis=1)\n",
    "y = movie_ratings_genome['rating']"
   ]
  },
  {
   "cell_type": "code",
   "execution_count": null,
   "id": "53be35f0",
   "metadata": {},
   "outputs": [],
   "source": []
  },
  {
   "cell_type": "code",
   "execution_count": null,
   "id": "cbf83dc9",
   "metadata": {},
   "outputs": [],
   "source": [
    "def genre_ratings(genre):\n",
    "    df = movies_df[movies_df['genres'].str.contains(genre, regex=False)]\n",
    "    genre_df = ratings_df.merge(df, how=\"inner\")\n",
    "    return genre_df"
   ]
  },
  {
   "cell_type": "code",
   "execution_count": null,
   "id": "05c611e7",
   "metadata": {},
   "outputs": [],
   "source": [
    "genre_ratings(\"Comedy\")"
   ]
  },
  {
   "cell_type": "code",
   "execution_count": null,
   "id": "23f7d81e",
   "metadata": {},
   "outputs": [],
   "source": []
  }
 ],
 "metadata": {
  "kernelspec": {
   "display_name": "Python 3 (ipykernel)",
   "language": "python",
   "name": "python3"
  },
  "language_info": {
   "codemirror_mode": {
    "name": "ipython",
    "version": 3
   },
   "file_extension": ".py",
   "mimetype": "text/x-python",
   "name": "python",
   "nbconvert_exporter": "python",
   "pygments_lexer": "ipython3",
   "version": "3.9.7"
  }
 },
 "nbformat": 4,
 "nbformat_minor": 5
}
