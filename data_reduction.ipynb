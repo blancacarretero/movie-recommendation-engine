{
 "cells": [
  {
   "cell_type": "code",
   "execution_count": 1,
   "id": "b39f2fd2",
   "metadata": {},
   "outputs": [],
   "source": [
    "import numpy as np\n",
    "import pandas as pd"
   ]
  },
  {
   "cell_type": "code",
   "execution_count": 2,
   "id": "c5a2767e",
   "metadata": {},
   "outputs": [],
   "source": [
    "# csv1 = \"movie_data/movies.csv\"\n",
    "csv2 = \"movie_data/ratings.csv\"\n",
    "csv3 = \"movie_data/genome-scores.csv\"\n",
    "# csv4 = \"movie_data/genome-tags.csv\"\n",
    "# csv5 = \"movie_data/links.csv\"\n",
    "# csv6 = \"movie_data/tags.csv\""
   ]
  },
  {
   "cell_type": "code",
   "execution_count": 3,
   "id": "be3ed23b",
   "metadata": {},
   "outputs": [],
   "source": [
    "# movies_df = pd.read_csv(csv1)\n",
    "ratings_df = pd.read_csv(csv2)\n",
    "genome_scores_df = pd.read_csv(csv3)"
   ]
  },
  {
   "cell_type": "code",
   "execution_count": 4,
   "id": "73282e17",
   "metadata": {
    "scrolled": true
   },
   "outputs": [
    {
     "name": "stdout",
     "output_type": "stream",
     "text": [
      "25000095\n"
     ]
    }
   ],
   "source": [
    "print(len(ratings_df))"
   ]
  },
  {
   "cell_type": "code",
   "execution_count": 5,
   "id": "1e44067d",
   "metadata": {},
   "outputs": [
    {
     "name": "stdout",
     "output_type": "stream",
     "text": [
      "15584448\n"
     ]
    }
   ],
   "source": [
    "print(len(genome_scores_df))"
   ]
  },
  {
   "cell_type": "code",
   "execution_count": 6,
   "id": "abf42e20",
   "metadata": {},
   "outputs": [],
   "source": [
    "reduced_ratings_df = ratings_df.loc[(ratings_df['movieId'] < 10)]"
   ]
  },
  {
   "cell_type": "code",
   "execution_count": 7,
   "id": "f50e0bfc",
   "metadata": {},
   "outputs": [],
   "source": [
    "reduced_genome_scores_df = genome_scores_df.loc[(genome_scores_df['movieId'] < 10)]"
   ]
  },
  {
   "cell_type": "code",
   "execution_count": 8,
   "id": "f35aea14",
   "metadata": {},
   "outputs": [
    {
     "name": "stdout",
     "output_type": "stream",
     "text": [
      "149353\n"
     ]
    }
   ],
   "source": [
    "print(len(reduced_ratings_df))"
   ]
  },
  {
   "cell_type": "code",
   "execution_count": 9,
   "id": "82eaddc1",
   "metadata": {
    "scrolled": true
   },
   "outputs": [
    {
     "name": "stdout",
     "output_type": "stream",
     "text": [
      "10152\n"
     ]
    }
   ],
   "source": [
    "print(len(reduced_genome_scores_df))"
   ]
  },
  {
   "cell_type": "code",
   "execution_count": 10,
   "id": "26805f48",
   "metadata": {},
   "outputs": [],
   "source": [
    "relevant_genomes = reduced_genome_scores_df.loc[reduced_genome_scores_df['relevance'] > .85]"
   ]
  },
  {
   "cell_type": "code",
   "execution_count": 11,
   "id": "c9efc4bd",
   "metadata": {
    "scrolled": true
   },
   "outputs": [
    {
     "data": {
      "text/html": [
       "<div>\n",
       "<style scoped>\n",
       "    .dataframe tbody tr th:only-of-type {\n",
       "        vertical-align: middle;\n",
       "    }\n",
       "\n",
       "    .dataframe tbody tr th {\n",
       "        vertical-align: top;\n",
       "    }\n",
       "\n",
       "    .dataframe thead th {\n",
       "        text-align: right;\n",
       "    }\n",
       "</style>\n",
       "<table border=\"1\" class=\"dataframe\">\n",
       "  <thead>\n",
       "    <tr style=\"text-align: right;\">\n",
       "      <th></th>\n",
       "      <th>userId</th>\n",
       "      <th>movieId</th>\n",
       "      <th>rating</th>\n",
       "      <th>timestamp</th>\n",
       "      <th>tagId</th>\n",
       "      <th>relevance</th>\n",
       "    </tr>\n",
       "  </thead>\n",
       "  <tbody>\n",
       "    <tr>\n",
       "      <th>0</th>\n",
       "      <td>2</td>\n",
       "      <td>1</td>\n",
       "      <td>3.5</td>\n",
       "      <td>1141415820</td>\n",
       "      <td>29</td>\n",
       "      <td>0.89375</td>\n",
       "    </tr>\n",
       "    <tr>\n",
       "      <th>1</th>\n",
       "      <td>2</td>\n",
       "      <td>1</td>\n",
       "      <td>3.5</td>\n",
       "      <td>1141415820</td>\n",
       "      <td>63</td>\n",
       "      <td>0.94725</td>\n",
       "    </tr>\n",
       "    <tr>\n",
       "      <th>2</th>\n",
       "      <td>2</td>\n",
       "      <td>1</td>\n",
       "      <td>3.5</td>\n",
       "      <td>1141415820</td>\n",
       "      <td>64</td>\n",
       "      <td>0.98425</td>\n",
       "    </tr>\n",
       "    <tr>\n",
       "      <th>3</th>\n",
       "      <td>2</td>\n",
       "      <td>1</td>\n",
       "      <td>3.5</td>\n",
       "      <td>1141415820</td>\n",
       "      <td>186</td>\n",
       "      <td>0.95475</td>\n",
       "    </tr>\n",
       "    <tr>\n",
       "      <th>4</th>\n",
       "      <td>2</td>\n",
       "      <td>1</td>\n",
       "      <td>3.5</td>\n",
       "      <td>1141415820</td>\n",
       "      <td>203</td>\n",
       "      <td>0.90375</td>\n",
       "    </tr>\n",
       "  </tbody>\n",
       "</table>\n",
       "</div>"
      ],
      "text/plain": [
       "   userId  movieId  rating   timestamp  tagId  relevance\n",
       "0       2        1     3.5  1141415820     29    0.89375\n",
       "1       2        1     3.5  1141415820     63    0.94725\n",
       "2       2        1     3.5  1141415820     64    0.98425\n",
       "3       2        1     3.5  1141415820    186    0.95475\n",
       "4       2        1     3.5  1141415820    203    0.90375"
      ]
     },
     "execution_count": 11,
     "metadata": {},
     "output_type": "execute_result"
    }
   ],
   "source": [
    "new_df = reduced_ratings_df.merge(relevant_genomes, how=\"inner\")\n",
    "new_df.head()"
   ]
  },
  {
   "cell_type": "code",
   "execution_count": 12,
   "id": "7b6aa873",
   "metadata": {},
   "outputs": [],
   "source": [
    "new_df[\"rating\"] = np.where(new_df[\"rating\"] >= 3.5, 1, 0)"
   ]
  },
  {
   "cell_type": "code",
   "execution_count": 13,
   "id": "57d148a6",
   "metadata": {},
   "outputs": [
    {
     "data": {
      "text/html": [
       "<div>\n",
       "<style scoped>\n",
       "    .dataframe tbody tr th:only-of-type {\n",
       "        vertical-align: middle;\n",
       "    }\n",
       "\n",
       "    .dataframe tbody tr th {\n",
       "        vertical-align: top;\n",
       "    }\n",
       "\n",
       "    .dataframe thead th {\n",
       "        text-align: right;\n",
       "    }\n",
       "</style>\n",
       "<table border=\"1\" class=\"dataframe\">\n",
       "  <thead>\n",
       "    <tr style=\"text-align: right;\">\n",
       "      <th></th>\n",
       "      <th>userId</th>\n",
       "      <th>movieId</th>\n",
       "      <th>rating</th>\n",
       "      <th>timestamp</th>\n",
       "      <th>tagId</th>\n",
       "      <th>relevance</th>\n",
       "    </tr>\n",
       "  </thead>\n",
       "  <tbody>\n",
       "    <tr>\n",
       "      <th>0</th>\n",
       "      <td>2</td>\n",
       "      <td>1</td>\n",
       "      <td>1</td>\n",
       "      <td>1141415820</td>\n",
       "      <td>29</td>\n",
       "      <td>0.89375</td>\n",
       "    </tr>\n",
       "    <tr>\n",
       "      <th>1</th>\n",
       "      <td>2</td>\n",
       "      <td>1</td>\n",
       "      <td>1</td>\n",
       "      <td>1141415820</td>\n",
       "      <td>63</td>\n",
       "      <td>0.94725</td>\n",
       "    </tr>\n",
       "    <tr>\n",
       "      <th>2</th>\n",
       "      <td>2</td>\n",
       "      <td>1</td>\n",
       "      <td>1</td>\n",
       "      <td>1141415820</td>\n",
       "      <td>64</td>\n",
       "      <td>0.98425</td>\n",
       "    </tr>\n",
       "    <tr>\n",
       "      <th>3</th>\n",
       "      <td>2</td>\n",
       "      <td>1</td>\n",
       "      <td>1</td>\n",
       "      <td>1141415820</td>\n",
       "      <td>186</td>\n",
       "      <td>0.95475</td>\n",
       "    </tr>\n",
       "    <tr>\n",
       "      <th>4</th>\n",
       "      <td>2</td>\n",
       "      <td>1</td>\n",
       "      <td>1</td>\n",
       "      <td>1141415820</td>\n",
       "      <td>203</td>\n",
       "      <td>0.90375</td>\n",
       "    </tr>\n",
       "  </tbody>\n",
       "</table>\n",
       "</div>"
      ],
      "text/plain": [
       "   userId  movieId  rating   timestamp  tagId  relevance\n",
       "0       2        1       1  1141415820     29    0.89375\n",
       "1       2        1       1  1141415820     63    0.94725\n",
       "2       2        1       1  1141415820     64    0.98425\n",
       "3       2        1       1  1141415820    186    0.95475\n",
       "4       2        1       1  1141415820    203    0.90375"
      ]
     },
     "execution_count": 13,
     "metadata": {},
     "output_type": "execute_result"
    }
   ],
   "source": [
    "new_df.head()"
   ]
  },
  {
   "cell_type": "code",
   "execution_count": 14,
   "id": "1c571d70",
   "metadata": {},
   "outputs": [
    {
     "name": "stdout",
     "output_type": "stream",
     "text": [
      "2194891\n"
     ]
    }
   ],
   "source": [
    "print(len(new_df))"
   ]
  },
  {
   "cell_type": "code",
   "execution_count": 15,
   "id": "68fdfd1e",
   "metadata": {},
   "outputs": [],
   "source": [
    "new_df.to_csv(\"movie_data/reduced.csv\")"
   ]
  }
 ],
 "metadata": {
  "kernelspec": {
   "display_name": "Python 3 (ipykernel)",
   "language": "python",
   "name": "python3"
  },
  "language_info": {
   "codemirror_mode": {
    "name": "ipython",
    "version": 3
   },
   "file_extension": ".py",
   "mimetype": "text/x-python",
   "name": "python",
   "nbconvert_exporter": "python",
   "pygments_lexer": "ipython3",
   "version": "3.9.7"
  }
 },
 "nbformat": 4,
 "nbformat_minor": 5
}
